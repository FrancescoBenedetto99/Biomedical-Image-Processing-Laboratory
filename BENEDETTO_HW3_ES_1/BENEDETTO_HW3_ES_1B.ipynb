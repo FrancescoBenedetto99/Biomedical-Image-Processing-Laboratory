{
 "cells": [
  {
   "cell_type": "markdown",
   "metadata": {},
   "source": [
    "# Hold-out Method"
   ]
  },
  {
   "cell_type": "markdown",
   "metadata": {},
   "source": [
    "In questo script, i dati vengono suddivisi in due set principali:\n",
    "\n",
    "- **Training set (80%)**\n",
    "- **Test set (20%)**\n",
    "\n",
    "Successivamente, il **Training set** viene ulteriormente suddiviso in due parti:\n",
    "\n",
    "- **Train set (80%)**\n",
    "- **Validation set (20%)**\n",
    "\n",
    "Questa suddivisione permette di allenare il modello sui dati di training, validarlo durante l'allenamento tramite il validation set, e infine testarlo sui dati separati del test set.\n",
    "\n",
    "Le performance dei modelli vengono misurate su diverse combinazioni di **features** calcolate nello script *BENEDETTO_HW3_ES1_A*, per confrontare l'efficacia delle varie configurazioni nel predire il target.\n"
   ]
  },
  {
   "cell_type": "markdown",
   "metadata": {},
   "source": [
    "## Importazione librerie"
   ]
  },
  {
   "cell_type": "code",
   "execution_count": 1,
   "metadata": {},
   "outputs": [],
   "source": [
    "# Importazione delle librerie necessarie\n",
    "import warnings\n",
    "warnings.filterwarnings(\"ignore\")  # Disattivazione di tutti gli avvisi (WARNING)\n",
    "\n",
    "# Librerie principali per la gestione dei dati e la visualizzazione\n",
    "import numpy as np                  \n",
    "import pandas as pd                 \n",
    "import matplotlib.pyplot as plt    \n",
    "import seaborn as sns    \n",
    "import itertools           \n",
    "\n",
    "# Librerie per preprocessing, modellazione e metriche\n",
    "from sklearn.preprocessing import StandardScaler  \n",
    "from sklearn.utils import class_weight          \n",
    "from sklearn.decomposition import PCA            \n",
    "from sklearn.model_selection import train_test_split, GridSearchCV  \n",
    "from sklearn import metrics                     \n",
    "from sklearn.metrics import (confusion_matrix,  \n",
    "                             f1_score)          \n",
    "\n",
    "# Impostazione dei colori per i grafici utilizzando la colormap \"viridis\"\n",
    "colors = plt.cm.viridis([0.1, 0.3, 0.5, 0.7, 0.9])  # 5 colori diversi (5 classi) equidistanti"
   ]
  },
  {
   "cell_type": "markdown",
   "metadata": {},
   "source": [
    "## Caricamento Dataframes"
   ]
  },
  {
   "cell_type": "code",
   "execution_count": 2,
   "metadata": {},
   "outputs": [],
   "source": [
    "# Caricamento dei file CSV contenenti le caratteristiche calcolate\n",
    "statistical_df = pd.read_csv(\"statistical_features.csv\")  \n",
    "texture_df = pd.read_csv(\"texture_features.csv\")          \n",
    "edge_df = pd.read_csv(\"edge_features.csv\")                \n",
    "physiological_df = pd.read_csv(\"physiological_features.csv\")  \n",
    "\n",
    "# Merge dei DataFrame\n",
    "# Concatenazione dei DataFrame lungo l'asse delle colonne (axis=1)\n",
    "# Viene mantenuta una sola colonna \"label\"\n",
    "all_df = pd.concat([statistical_df, texture_df, edge_df, physiological_df], axis=1)\n",
    "\n",
    "# Rimozione delle colonne duplicate (più colonne \"label\")\n",
    "all_df = all_df.loc[:, ~all_df.columns.duplicated()]  # Selezione solo delle colonne univoche"
   ]
  },
  {
   "cell_type": "markdown",
   "metadata": {},
   "source": [
    "## Prima Riduzione delle Feature\n",
    "\n",
    "Come anticipato nel **script \"BENEDETTO_HW3_ES_1A.ipynb\"**, delle 16 **patch** per ogni immagine, solo 6 sono significative per la classificazione. Queste patch coprono lo spazio tra tibia e perone, che è la regione di interesse per l'analisi osteoartritica. Le patch selezionate sono le seguenti:\n",
    "\n",
    "- Patch 5, 6, 8, 9, 10, 11.\n",
    "\n",
    "Pertanto, i modelli verranno addestrati e validati utilizzando diverse configurazioni di **feature**:\n",
    "\n",
    "1. **Tutte le feature insieme:** tutte le tipologie di feature (physiological, texture, edge, e statistical) verranno combinate per formare un dataset completo.\n",
    "   \n",
    "2. **Feature per tipologia:** i modelli saranno addestrati separatamente per ciascuna tipologia di feature:\n",
    "   - **Statistical Features**\n",
    "   - **Physiological Features**\n",
    "   - **Edge Features**\n",
    "   - **Texture Features**\n",
    "\n",
    "3. **Riduzione delle feature (Patch selezionate):** verranno selezionate solo le 6 patch significative per la classificazione, riducendo quindi la dimensione del dataset e focalizzandosi esclusivamente sulla regione di interesse.\n",
    "\n",
    "Questa fase di riduzione delle feature permetterà di eseguire un'analisi mirata e di testare come la selezione delle patch e l'uso di specifiche tipologie di feature influenzano le prestazioni del modello.\n",
    "\n",
    "### Numero di Feature per Ogni DataFrame:\n",
    "\n",
    "- **Statistical Features:** 64 (16 patch * 4 feature per patch)\n",
    "- **Texture Features:** 224 (16 patch * 14 feature per patch)\n",
    "- **Edge Features:** 32 (16 patch * 2 feature per patch)\n",
    "- **Physiological Features:** 7 \n",
    "- **All Features:** 327 (somma di tutte le feature per ogni immagine)\n",
    "\n",
    "### Numero di Feature Ridotte per Ogni DataFrame:\n",
    "\n",
    "- **Statistical Features Reduced:** 24 (6 patch * 4 feature per patch)\n",
    "- **Texture Features Reduced:** 84 (6 patch * 14 feature per patch)\n",
    "- **Edge Features Reduced:** 12 (6 patch * 2 feature per patch)\n",
    "- **All Features Reduced:** 127 (somma di tutte le feature per ogni immagine con le patch selezionate + Physiological features)\n",
    "\n"
   ]
  },
  {
   "cell_type": "code",
   "execution_count": 3,
   "metadata": {},
   "outputs": [
    {
     "name": "stdout",
     "output_type": "stream",
     "text": [
      "Numero di feature per ogni DataFrame:\n",
      "Statistical features: 64\n",
      "Texture features: 224\n",
      "Edge features: 32\n",
      "Physiological features: 7\n",
      "All features: 327\n",
      "\n",
      "Numero di feature ridotte per ogni DataFrame:\n",
      "Statistical features reduced: 24\n",
      "Texture features reduced: 84\n",
      "Edge features reduced: 12\n",
      "All features reduced: 127\n"
     ]
    }
   ],
   "source": [
    "# Eliminazione delle feature calcolate su patch che non contengono la giunzione del ginocchio.\n",
    "# Si mantengono solo le feature che contengono nel nome i numeri 5, 6, 8, 9, 10, 11 e la colonna \"label\".\n",
    "\n",
    "# Filtraggio delle feature rilevanti dai DataFrame\n",
    "statistical_df_reduced = statistical_df.filter(regex=r'(5$|6$|8$|9$|10$|11$|label)')  \n",
    "texture_df_reduced = texture_df.filter(regex=r'(5$|6$|8$|9$|10$|11$|label)')        \n",
    "edge_df_reduced = edge_df.filter(regex=r'(5$|6$|8$|9$|10$|11$|label)')               \n",
    "\n",
    "# Rimozione delle feature non necessarie (non filtrate precedentemente con la regex)\n",
    "# Feature statistiche\n",
    "statistical_df_reduced = statistical_df_reduced.drop(\n",
    "    columns=['mean_patch_15', 'variance_patch_15', 'skewness_patch_15', 'kurtosis_patch_15']\n",
    ")\n",
    "\n",
    "# Feature texture\n",
    "texture_df_reduced = texture_df_reduced.drop(\n",
    "    columns=['contrast_patch_15', 'dissimilarity_patch_15', 'homogeneity_patch_15',\n",
    "             'energy_patch_15', 'correlation_patch_15',\n",
    "             'lbp_hist_0_patch_15', 'lbp_hist_1_patch_15', 'lbp_hist_2_patch_15',\n",
    "             'lbp_hist_3_patch_15', 'lbp_hist_4_patch_15', 'lbp_hist_5_patch_15',\n",
    "             'lbp_hist_6_patch_15', 'lbp_hist_7_patch_15', 'lbp_hist_8_patch_15']\n",
    ")\n",
    "\n",
    "# Feature edge\n",
    "edge_df_reduced = edge_df_reduced.drop(\n",
    "    columns=['mean_gradient_15', 'edge_density15']\n",
    ")\n",
    "\n",
    "# Unione dei DataFrame ridotti\n",
    "# Concatenazione di tutte le feature filtrate e delle feature fisiologiche\n",
    "all_df_reduced = pd.concat([statistical_df_reduced, texture_df_reduced, edge_df_reduced, physiological_df], axis=1)\n",
    "\n",
    "# Rimozione delle colonne duplicate (più colonne \"label\")\n",
    "all_df_reduced = all_df_reduced.loc[:, ~all_df_reduced.columns.duplicated()]  # Selezione solo delle colonne univoche\n",
    "\n",
    "# Print del numero di feature per ogni DataFrame\n",
    "print(\"Numero di feature per ogni DataFrame:\")\n",
    "print(\"Statistical features:\", len(statistical_df.columns)-1)\n",
    "print(\"Texture features:\", len(texture_df.columns)-1)\n",
    "print(\"Edge features:\", len(edge_df.columns)-1)\n",
    "print(\"Physiological features:\", len(physiological_df.columns)-1)\n",
    "print(\"All features:\", len(all_df.columns)-1)\n",
    "print(\"\\nNumero di feature ridotte per ogni DataFrame:\")\n",
    "print(\"Statistical features reduced:\", len(statistical_df_reduced.columns)-1)\n",
    "print(\"Texture features reduced:\", len(texture_df_reduced.columns)-1)\n",
    "print(\"Edge features reduced:\", len(edge_df_reduced.columns)-1)\n",
    "print(\"All features reduced:\", len(all_df_reduced.columns)-1)"
   ]
  },
  {
   "cell_type": "markdown",
   "metadata": {},
   "source": [
    "## Hold-out Method\n",
    "\n",
    "Tutti i **dataframe** risultanti dalla fase di estrazione e riduzione delle feature sono stati divisi utilizzando il **Hold-out Method**, che separa il dataset in tre set distinti: **training set**, **validation set** e **test set**. La divisione è stata effettuata come segue:\n",
    "\n",
    "- **Test set**: 20% dei dati, utilizzato per testare il modello.\n",
    "- **Training set**: 80% dei dati iniziali, che verrà successivamente suddiviso ulteriormente in **train set** e **validation set**.\n",
    "- **Validation set**: 20% del **training set**, utilizzato per la valutazione durante l'addestramento del modello.\n",
    "\n",
    "Utilizzando il parametro stratify ho fatto si che la distribuzione delle classi rimanga invariata per ogni set.\n",
    "\n",
    "### Standardizzazione delle Feature\n",
    "\n",
    "La funzione di **splitting** include anche un passo di **standardizzazione** delle feature. Questo passaggio è fondamentale per garantire che tutte le variabili abbiano lo stesso peso durante l'addestramento del modello. La **standardizzazione** viene calcolata solo sul **training set**.\n",
    "\n",
    "- La **media** e la **deviazione standard** delle feature vengono calcolate esclusivamente sul **training set**.\n",
    "- Questi valori vengono poi applicati sia al **validation set** che al **test set**, per garantire coerenza nelle trasformazioni.\n",
    "\n",
    "### Applicazione della Funzione di Splitting\n",
    "\n",
    "La funzione di **splitting** è stata applicata a ciascun **dataframe** (completo di tutte le patch e ridotto) per ottenere i rispettivi set di **training**, **validation** e **test**. "
   ]
  },
  {
   "cell_type": "code",
   "execution_count": 4,
   "metadata": {},
   "outputs": [],
   "source": [
    "def splitting_dataframe(df, label_column='label', test_size=0.2, val_size=0.2, random_state=42):\n",
    "    \n",
    "    # Separazione delle feature dalle etichette\n",
    "    X = df.drop(columns=[label_column])\n",
    "    y = df[label_column]\n",
    "    \n",
    "    # Divisione in training e test set\n",
    "    X_train, X_test, y_train, y_test = train_test_split(\n",
    "        X, y, test_size=test_size, random_state=random_state, stratify=y\n",
    "    )\n",
    "    \n",
    "    # Divisione del training set in training e validation set\n",
    "    X_train, X_val, y_train, y_val = train_test_split(\n",
    "        X_train, y_train, test_size=val_size, random_state=random_state, stratify=y_train\n",
    "    )\n",
    "    \n",
    "    # Standardizzazione delle feature: calcolo della media e della deviazione standard\n",
    "    # solo sul training set\n",
    "    scaler = StandardScaler()\n",
    "    X_train = scaler.fit_transform(X_train)  \n",
    "    X_val = scaler.transform(X_val)         \n",
    "    X_test = scaler.transform(X_test)        \n",
    "    \n",
    "    return X_train, X_val, X_test, y_train, y_val, y_test"
   ]
  },
  {
   "cell_type": "code",
   "execution_count": 5,
   "metadata": {},
   "outputs": [],
   "source": [
    "# Applico la funzione di split al dataframe completo e al dataframe ridotto\n",
    "X_train, X_val, X_test, y_train, y_val, y_test = splitting_dataframe(all_df)\n",
    "X_train_reduced, X_val_reduced, X_test_reduced, y_train_reduced, y_val_reduced, y_test_reduced = splitting_dataframe(all_df_reduced)\n",
    "\n",
    "# Applico la funzione di split al dataframe edge e al dataframe ridotto edge\n",
    "X_train_edge, X_val_edge, X_test_edge, y_train_edge, y_val_edge, y_test_edge = splitting_dataframe(edge_df)\n",
    "X_train_edge_reduced, X_val_edge_reduced, X_test_edge_reduced, y_train_edge_reduced, y_val_edge_reduced, y_test_edge_reduced = splitting_dataframe(edge_df_reduced)\n",
    "\n",
    "# Applico la funzione di split al dataframe texture e al dataframe ridotto texture\n",
    "X_train_texture, X_val_texture, X_test_texture, y_train_texture, y_val_texture, y_test_texture = splitting_dataframe(texture_df)\n",
    "X_train_texture_reduced, X_val_texture_reduced, X_test_texture_reduced, y_train_texture_reduced, y_val_texture_reduced, y_test_texture_reduced = splitting_dataframe(texture_df_reduced)\n",
    "\n",
    "# Applico la funzione di split al dataframe statistical e al dataframe ridotto statistical\n",
    "X_train_statistical, X_val_statistical, X_test_statistical, y_train_statistical, y_val_statistical, y_test_statistical = splitting_dataframe(statistical_df)\n",
    "X_train_statistical_reduced, X_val_statistical_reduced, X_test_statistical_reduced, y_train_statistical_reduced, y_val_statistical_reduced, y_test_statistical_reduced = splitting_dataframe(statistical_df_reduced)\n",
    "\n",
    "# Applico la funzione di split al dataframe physiological\n",
    "X_train_physiological, X_val_physiological, X_test_physiological, y_train_physiological, y_val_physiological, y_test_physiological = splitting_dataframe(physiological_df)"
   ]
  },
  {
   "cell_type": "markdown",
   "metadata": {},
   "source": [
    "## Class Unbalance\n",
    "\n",
    "Per evitare di perdere dati utili tramite **undersampling** (che ridurrebbe il numero di esempi nella classe maggioritaria) o di introdurre dati ridondanti tramite **oversampling** (che ricopia dati già presenti), o ancora di ricorrere a **data augmentation** sulla classe minoritaria (che, nel nostro caso, avrebbe compromesso la posizione critica dello spazio tra tibia e perone), si è scelto di adottare una strategia diversa.\n",
    "\n",
    "In particolare, si è deciso di utilizzare i **class weights**, una tecnica che permette di dare maggiore importanza alle classi minoritarie durante l'addestramento del modello, senza alterare i dati originali. Questa strategia è vantaggiosa perché consente al modello di concentrarsi maggiormente sugli esempi delle classi meno rappresentate, senza perdere informazioni essenziali.\n",
    "\n",
    "Grazie alla libreria **scikit-learn**, è possibile impostare i **class weights** come parametro per diversi modelli, come il **Support Vector Classifier (SVC)** e il **base estimator degli ensemble (ad esempio, gli alberi decisionali)**. L'inclusione dei **class weights** permette di compensare lo sbilanciamento delle classi e migliorare la capacità del modello di classificare correttamente anche le classi minoritarie."
   ]
  },
  {
   "cell_type": "code",
   "execution_count": 6,
   "metadata": {},
   "outputs": [
    {
     "data": {
      "image/png": "[encoded data removed]",
      "text/plain": [
       "<Figure size 640x480 with 1 Axes>"
      ]
     },
     "metadata": {},
     "output_type": "display_data"
    },
    {
     "name": "stdout",
     "output_type": "stream",
     "text": [
      "Pesi delle classi:\n",
      "{0: 0.5074554294975688, 1: 1.1053839364518976, 2: 0.7594906003638568, 3: 1.5217496962332928, 4: 6.626455026455027}\n"
     ]
    }
   ],
   "source": [
    "# Calcolo dei pesi per le classi utilizzando la funzione compute_class_weight\n",
    "# I pesi vengono calcolati in modo bilanciato per tener conto delle classi sbilanciate (considerando solo il training set)\n",
    "class_weights = class_weight.compute_class_weight(class_weight='balanced',\n",
    "                                                  classes=np.unique(y_train),  # Classi uniche presenti nel training set\n",
    "                                                  y=y_train)                   # Etichette del training set\n",
    "\n",
    "# Converto i pesi calcolati in un dizionario che associa ogni classe al suo peso\n",
    "class_weights = dict(zip(np.unique(y_train), class_weights))\n",
    "\n",
    "# Visualizzazione dei pesi in un barplot\n",
    "plt.bar(class_weights.keys(), class_weights.values(), color=colors)  \n",
    "plt.xlabel('Classe')  \n",
    "plt.ylabel('Peso')   \n",
    "plt.title('Pesi delle classi') \n",
    "plt.show()  \n",
    "\n",
    "# Stampa i pesi delle classi\n",
    "print(\"Pesi delle classi:\")\n",
    "# Converto i valori numpy (np.float64) in float e le chiavi numpy (np.int64) in int\n",
    "# Per rendere la stampa più leggibile\n",
    "print({int(k): float(v) for k, v in class_weights.items()})"
   ]
  },
  {
   "cell_type": "markdown",
   "metadata": {},
   "source": [
    "I class weights sono inversamente proporzionali al numero di esempi con la classe corrispondente."
   ]
  },
  {
   "cell_type": "markdown",
   "metadata": {},
   "source": [
    "## Model Fitting and Validation senza PCA\n",
    "\n",
    "In questa fase, i diversi modelli vengono addestrati utilizzando il training set e validati tramite il set di validazione, senza l'applicazione della **Principal Component Analysis (PCA)**. La ricerca degli iperparametri ottimali avviene tramite un'analisi delle possibili combinazioni di parametri. Questo processo è realizzato con l'ausilio della funzione **hyperp_search**, che esplora vari set di iperparametri per identificare la combinazione che offre le migliori prestazioni sul set di validazione.\n",
    "\n",
    "### Funzionamento della ricerca degli iperparametri:\n",
    "\n",
    "1. **Combinazione di parametri:** Vengono esplorate tutte le combinazioni possibili di iperparametri forniti nel dizionario `parameters`. \n",
    "   \n",
    "2. **Addestramento e predizioni:** Per ogni combinazione, il modello viene addestrato sul training set e vengono fatte le predictions  sia sul set di addestramento che su quello di validazione. Tali predizioni vengono utilizzate per calcolare le metriche di performance: **F1 score** e **accuracy**.\n",
    "\n",
    "3. **Selezione del miglior modello:** La combinazione di iperparametr che produce il miglior **F1 score** sul set di validazione viene selezionato come la combinazione ideale. È stato scelto l'**F1 score** come metrica da massimizzare perchè racchiude sia info sulla recall che sulla precision (l'accuracy non va bene per dataset sbilanciati come questo)\n",
    "\n",
    "4. **Riallenamento del modello:** Una volta identificati i migliori iperparametri, il modello viene ritrainato con i parametri ottimali, e il miglior modello, insieme ai parametri e alle metriche di valutazione, viene restituito.\n",
    "\n",
    "### Risultati della valutazione:\n",
    "La funzione di ricerca degli iperparametri calcola:\n",
    "- **F1 score** e **accuracy** sia per il training set che per il validation set per controllare l'overfitting.\n",
    "- Vengono quindi stampati i migliori parametri, le performance sul training e validation set, e il modello finale viene restituito."
   ]
  },
  {
   "cell_type": "code",
   "execution_count": 7,
   "metadata": {},
   "outputs": [],
   "source": [
    "# Funzione per la ricerca di iperparametri e valutazione utilizzando il validation set\n",
    "def hyperp_search(classifier, parameters, X_train, y_train, X_val, y_val):\n",
    "    results = []  # Lista per memorizzare i risultati di tutte le combinazioni di parametri\n",
    "    \n",
    "    # Iterazione manuale sui parametri da esplorare tramite il prodotto cartesiano\n",
    "    for param_comb in (dict(zip(parameters, x)) for x in itertools.product(*parameters.values())):\n",
    "        # Imposta i parametri del classificatore\n",
    "        classifier.set_params(**param_comb)\n",
    "        \n",
    "        # Allena il modello sul training set\n",
    "        classifier.fit(X_train, y_train)\n",
    "        \n",
    "        # Predizioni sui dataset di validation e training\n",
    "        y_pred_val = classifier.predict(X_val)\n",
    "        y_pred_train = classifier.predict(X_train)\n",
    "        \n",
    "        # Calcola le metriche di valutazione per il training e il validation set\n",
    "        f1_train = f1_score(y_train, y_pred_train, average='weighted')\n",
    "        f1_val = f1_score(y_val, y_pred_val, average='weighted')\n",
    "        accuracy_train = metrics.accuracy_score(y_train, y_pred_train)\n",
    "        accuracy_val = metrics.accuracy_score(y_val, y_pred_val)\n",
    "        \n",
    "        # Memorizza i risultati per ogni combinazione di parametri\n",
    "        results.append((param_comb, f1_train, f1_val, accuracy_train, accuracy_val))\n",
    "    \n",
    "    # Seleziona i migliori parametri in base al miglior F1 score sul validation set\n",
    "    best_result = max(results, key=lambda x: x[2])  # Massimizza l'F1 score sulla validazione\n",
    "    best_params = best_result[0]  # I migliori parametri\n",
    "    \n",
    "    # Stampa i risultati\n",
    "    print(f\"{'-'*40}\")\n",
    "    print(f\"Classificatore: {classifier}\")\n",
    "    print(f\"Migliori Parametri: {best_params}\")\n",
    "    print(f\"{'-'*40}\")\n",
    "    print(f\"F1 Score (Train): {best_result[1]:.3f}\")\n",
    "    print(f\"F1 Score (Validation): {best_result[2]:.3f}\")\n",
    "    print(f\"Accuracy (Train): {best_result[3]:.3f}\")\n",
    "    print(f\"Accuracy (Validation): {best_result[4]:.3f}\")\n",
    "    print(f\"{'-'*40}\")\n",
    "    \n",
    "    # Ri-allena il miglior modello con i parametri trovati\n",
    "    classifier.set_params(**best_params)\n",
    "    classifier.fit(X_train, y_train)\n",
    "    \n",
    "    # Restituisci il miglior modello, i parametri e le metriche\n",
    "    return classifier, best_params, best_result[1], best_result[2], best_result[3], best_result[4]\n",
    "\n",
    "# Funzione di valutazione totale del modello che utilizza la funzione di ricerca degli iperparametri\n",
    "def total(classifier, parameters, X_train, y_train, X_val, y_val):\n",
    "    best_model, best_param, f1_train, f1_val, accuracy_train, accuracy_val = hyperp_search(classifier, parameters, X_train, y_train, X_val, y_val)\n",
    "    return best_model, best_param, f1_train, f1_val, accuracy_train, accuracy_val"
   ]
  },
  {
   "cell_type": "markdown",
   "metadata": {},
   "source": [
    "In questa fase vengono applicati i diversi modelli di classificazione sulle diverse combinazioni di feature (tutte le feature, solo statistiche, solo fisiologiche, solo edge, solo texture, e ridotte). I modelli utilizzati includono:\n",
    "\n",
    "- **Random Forest Classifier**\n",
    "- **Bagging Tree Classifier**\n",
    "- **AdaBoost Classifier**\n",
    "- **Support Vector Classifier (SVC)**"
   ]
  },
  {
   "cell_type": "markdown",
   "metadata": {},
   "source": [
    "### Random Forest\n",
    "Il **Random Forest** è un ensemble di alberi decisionali, utilizzato per migliorare la robustezza del modello e ridurre il rischio di overfitting. "
   ]
  },
  {
   "cell_type": "code",
   "execution_count": 8,
   "metadata": {},
   "outputs": [],
   "source": [
    "from sklearn.ensemble import RandomForestClassifier\n",
    "\n",
    "classifier = RandomForestClassifier()\n",
    "\n",
    "parameters = {'n_estimators' : [19,20,21,22,23],\n",
    "    'criterion' : ['gini'],\n",
    "             'max_depth' : [4,5,6,7,8,9,10], \n",
    "             'min_samples_split' : [2,3,4],\n",
    "              'min_samples_leaf' : [4,5,6],\n",
    "              'class_weight': [class_weights]\n",
    "             }"
   ]
  },
  {
   "cell_type": "code",
   "execution_count": 9,
   "metadata": {},
   "outputs": [
    {
     "name": "stdout",
     "output_type": "stream",
     "text": [
      "----------------------------------------\n",
      "Classificatore: RandomForestClassifier(class_weight={np.int64(0): np.float64(0.5074554294975688),\n",
      "                                     np.int64(1): np.float64(1.1053839364518976),\n",
      "                                     np.int64(2): np.float64(0.7594906003638568),\n",
      "                                     np.int64(3): np.float64(1.5217496962332928),\n",
      "                                     np.int64(4): np.float64(6.626455026455027)},\n",
      "                       max_depth=10, min_samples_leaf=6, min_samples_split=4,\n",
      "                       n_estimators=23)\n",
      "Migliori Parametri: {'n_estimators': 22, 'criterion': 'gini', 'max_depth': 10, 'min_samples_split': 2, 'min_samples_leaf': 4, 'class_weight': {np.int64(0): np.float64(0.5074554294975688), np.int64(1): np.float64(1.1053839364518976), np.int64(2): np.float64(0.7594906003638568), np.int64(3): np.float64(1.5217496962332928), np.int64(4): np.float64(6.626455026455027)}}\n",
      "----------------------------------------\n",
      "F1 Score (Train): 0.750\n",
      "F1 Score (Validation): 0.434\n",
      "Accuracy (Train): 0.750\n",
      "Accuracy (Validation): 0.437\n",
      "----------------------------------------\n"
     ]
    }
   ],
   "source": [
    "# Ricerca degli iperparametri e valutazione del modello su tutte le feature\n",
    "best_model_RF, best_param_RF, f1_train_RF, f1_val_RF, accuracy_train_RF, accuracy_val_RF = total(classifier, parameters, X_train, y_train, X_val, y_val)\n"
   ]
  },
  {
   "cell_type": "code",
   "execution_count": 10,
   "metadata": {},
   "outputs": [
    {
     "name": "stdout",
     "output_type": "stream",
     "text": [
      "----------------------------------------\n",
      "Classificatore: RandomForestClassifier(class_weight={np.int64(0): np.float64(0.5074554294975688),\n",
      "                                     np.int64(1): np.float64(1.1053839364518976),\n",
      "                                     np.int64(2): np.float64(0.7594906003638568),\n",
      "                                     np.int64(3): np.float64(1.5217496962332928),\n",
      "                                     np.int64(4): np.float64(6.626455026455027)},\n",
      "                       max_depth=10, min_samples_leaf=6, min_samples_split=4,\n",
      "                       n_estimators=23)\n",
      "Migliori Parametri: {'n_estimators': 19, 'criterion': 'gini', 'max_depth': 9, 'min_samples_split': 3, 'min_samples_leaf': 4, 'class_weight': {np.int64(0): np.float64(0.5074554294975688), np.int64(1): np.float64(1.1053839364518976), np.int64(2): np.float64(0.7594906003638568), np.int64(3): np.float64(1.5217496962332928), np.int64(4): np.float64(6.626455026455027)}}\n",
      "----------------------------------------\n",
      "F1 Score (Train): 0.651\n",
      "F1 Score (Validation): 0.428\n",
      "Accuracy (Train): 0.653\n",
      "Accuracy (Validation): 0.434\n",
      "----------------------------------------\n"
     ]
    }
   ],
   "source": [
    "# Ricerca degli iperparametri e valutazione del modello sulle feature ridotte\n",
    "best_model_RF_reduced, best_param_RF_reduced, f1_train_RF_reduced, f1_val_RF_reduced, accuracy_train_RF_reduced, accuracy_val_RF_reduced = total(classifier, parameters, X_train_reduced, y_train_reduced, X_val_reduced, y_val_reduced)\n"
   ]
  },
  {
   "cell_type": "code",
   "execution_count": 11,
   "metadata": {},
   "outputs": [
    {
     "name": "stdout",
     "output_type": "stream",
     "text": [
      "----------------------------------------\n",
      "Classificatore: RandomForestClassifier(class_weight={np.int64(0): np.float64(0.5074554294975688),\n",
      "                                     np.int64(1): np.float64(1.1053839364518976),\n",
      "                                     np.int64(2): np.float64(0.7594906003638568),\n",
      "                                     np.int64(3): np.float64(1.5217496962332928),\n",
      "                                     np.int64(4): np.float64(6.626455026455027)},\n",
      "                       max_depth=10, min_samples_leaf=6, min_samples_split=4,\n",
      "                       n_estimators=23)\n",
      "Migliori Parametri: {'n_estimators': 21, 'criterion': 'gini', 'max_depth': 9, 'min_samples_split': 2, 'min_samples_leaf': 4, 'class_weight': {np.int64(0): np.float64(0.5074554294975688), np.int64(1): np.float64(1.1053839364518976), np.int64(2): np.float64(0.7594906003638568), np.int64(3): np.float64(1.5217496962332928), np.int64(4): np.float64(6.626455026455027)}}\n",
      "----------------------------------------\n",
      "F1 Score (Train): 0.586\n",
      "F1 Score (Validation): 0.392\n",
      "Accuracy (Train): 0.588\n",
      "Accuracy (Validation): 0.391\n",
      "----------------------------------------\n"
     ]
    }
   ],
   "source": [
    "# Ricerca degli iperparametri e valutazione del modello sulle feature edge\n",
    "best_model_RF_edge, best_param_RF_edge, f1_train_RF_edge, f1_val_RF_edge, accuracy_train_RF_edge, accuracy_val_RF_edge = total(classifier, parameters, X_train_edge, y_train_edge, X_val_edge, y_val_edge)\n"
   ]
  },
  {
   "cell_type": "code",
   "execution_count": 12,
   "metadata": {},
   "outputs": [
    {
     "name": "stdout",
     "output_type": "stream",
     "text": [
      "----------------------------------------\n",
      "Classificatore: RandomForestClassifier(class_weight={np.int64(0): np.float64(0.5074554294975688),\n",
      "                                     np.int64(1): np.float64(1.1053839364518976),\n",
      "                                     np.int64(2): np.float64(0.7594906003638568),\n",
      "                                     np.int64(3): np.float64(1.5217496962332928),\n",
      "                                     np.int64(4): np.float64(6.626455026455027)},\n",
      "                       max_depth=10, min_samples_leaf=6, min_samples_split=4,\n",
      "                       n_estimators=23)\n",
      "Migliori Parametri: {'n_estimators': 23, 'criterion': 'gini', 'max_depth': 10, 'min_samples_split': 4, 'min_samples_leaf': 6, 'class_weight': {np.int64(0): np.float64(0.5074554294975688), np.int64(1): np.float64(1.1053839364518976), np.int64(2): np.float64(0.7594906003638568), np.int64(3): np.float64(1.5217496962332928), np.int64(4): np.float64(6.626455026455027)}}\n",
      "----------------------------------------\n",
      "F1 Score (Train): 0.523\n",
      "F1 Score (Validation): 0.373\n",
      "Accuracy (Train): 0.528\n",
      "Accuracy (Validation): 0.374\n",
      "----------------------------------------\n"
     ]
    }
   ],
   "source": [
    "# Ricerca degli iperparametri e valutazione del modello sulle feature ridotte edge\n",
    "best_model_RF_edge_reduced, best_param_RF_edge_reduced, f1_train_RF_edge_reduced, f1_val_RF_edge_reduced, accuracy_train_RF_edge_reduced, accuracy_val_RF_edge_reduced = total(classifier, parameters, X_train_edge_reduced, y_train_edge_reduced, X_val_edge_reduced, y_val_edge_reduced)\n"
   ]
  },
  {
   "cell_type": "code",
   "execution_count": 13,
   "metadata": {},
   "outputs": [
    {
     "name": "stdout",
     "output_type": "stream",
     "text": [
      "----------------------------------------\n",
      "Classificatore: RandomForestClassifier(class_weight={np.int64(0): np.float64(0.5074554294975688),\n",
      "                                     np.int64(1): np.float64(1.1053839364518976),\n",
      "                                     np.int64(2): np.float64(0.7594906003638568),\n",
      "                                     np.int64(3): np.float64(1.5217496962332928),\n",
      "                                     np.int64(4): np.float64(6.626455026455027)},\n",
      "                       max_depth=10, min_samples_leaf=6, min_samples_split=4,\n",
      "                       n_estimators=23)\n",
      "Migliori Parametri: {'n_estimators': 23, 'criterion': 'gini', 'max_depth': 10, 'min_samples_split': 3, 'min_samples_leaf': 6, 'class_weight': {np.int64(0): np.float64(0.5074554294975688), np.int64(1): np.float64(1.1053839364518976), np.int64(2): np.float64(0.7594906003638568), np.int64(3): np.float64(1.5217496962332928), np.int64(4): np.float64(6.626455026455027)}}\n",
      "----------------------------------------\n",
      "F1 Score (Train): 0.745\n",
      "F1 Score (Validation): 0.417\n",
      "Accuracy (Train): 0.747\n",
      "Accuracy (Validation): 0.421\n",
      "----------------------------------------\n"
     ]
    }
   ],
   "source": [
    "# Ricerca degli iperparametri e valutazione del modello sulle feature texture\n",
    "best_model_RF_texture, best_param_RF_texture, f1_train_RF_texture, f1_val_RF_texture, accuracy_train_RF_texture, accuracy_val_RF_texture = total(classifier, parameters, X_train_texture, y_train_texture, X_val_texture, y_val_texture)\n"
   ]
  },
  {
   "cell_type": "code",
   "execution_count": 14,
   "metadata": {},
   "outputs": [
    {
     "name": "stdout",
     "output_type": "stream",
     "text": [
      "----------------------------------------\n",
      "Classificatore: RandomForestClassifier(class_weight={np.int64(0): np.float64(0.5074554294975688),\n",
      "                                     np.int64(1): np.float64(1.1053839364518976),\n",
      "                                     np.int64(2): np.float64(0.7594906003638568),\n",
      "                                     np.int64(3): np.float64(1.5217496962332928),\n",
      "                                     np.int64(4): np.float64(6.626455026455027)},\n",
      "                       max_depth=10, min_samples_leaf=6, min_samples_split=4,\n",
      "                       n_estimators=23)\n",
      "Migliori Parametri: {'n_estimators': 20, 'criterion': 'gini', 'max_depth': 10, 'min_samples_split': 2, 'min_samples_leaf': 6, 'class_weight': {np.int64(0): np.float64(0.5074554294975688), np.int64(1): np.float64(1.1053839364518976), np.int64(2): np.float64(0.7594906003638568), np.int64(3): np.float64(1.5217496962332928), np.int64(4): np.float64(6.626455026455027)}}\n",
      "----------------------------------------\n",
      "F1 Score (Train): 0.691\n",
      "F1 Score (Validation): 0.411\n",
      "Accuracy (Train): 0.692\n",
      "Accuracy (Validation): 0.416\n",
      "----------------------------------------\n"
     ]
    }
   ],
   "source": [
    "# Ricerca degli iperparametri e valutazione del modello sulle feature ridotte texture\n",
    "best_model_RF_texture_reduced, best_param_RF_texture_reduced, f1_train_RF_texture_reduced, f1_val_RF_texture_reduced, accuracy_train_RF_texture_reduced, accuracy_val_RF_texture_reduced = total(classifier, parameters, X_train_texture_reduced, y_train_texture_reduced, X_val_texture_reduced, y_val_texture_reduced)\n"
   ]
  },
  {
   "cell_type": "code",
   "execution_count": 15,
   "metadata": {},
   "outputs": [
    {
     "name": "stdout",
     "output_type": "stream",
     "text": [
      "----------------------------------------\n",
      "Classificatore: RandomForestClassifier(class_weight={np.int64(0): np.float64(0.5074554294975688),\n",
      "                                     np.int64(1): np.float64(1.1053839364518976),\n",
      "                                     np.int64(2): np.float64(0.7594906003638568),\n",
      "                                     np.int64(3): np.float64(1.5217496962332928),\n",
      "                                     np.int64(4): np.float64(6.626455026455027)},\n",
      "                       max_depth=10, min_samples_leaf=6, min_samples_split=4,\n",
      "                       n_estimators=23)\n",
      "Migliori Parametri: {'n_estimators': 21, 'criterion': 'gini', 'max_depth': 10, 'min_samples_split': 2, 'min_samples_leaf': 4, 'class_weight': {np.int64(0): np.float64(0.5074554294975688), np.int64(1): np.float64(1.1053839364518976), np.int64(2): np.float64(0.7594906003638568), np.int64(3): np.float64(1.5217496962332928), np.int64(4): np.float64(6.626455026455027)}}\n",
      "----------------------------------------\n",
      "F1 Score (Train): 0.707\n",
      "F1 Score (Validation): 0.430\n",
      "Accuracy (Train): 0.707\n",
      "Accuracy (Validation): 0.432\n",
      "----------------------------------------\n"
     ]
    }
   ],
   "source": [
    "# Ricerca degli iperparametri e valutazione del modello sulle feature statistical\n",
    "best_model_RF_statistical, best_param_RF_statistical, f1_train_RF_statistical, f1_val_RF_statistical, accuracy_train_RF_statistical, accuracy_val_RF_statistical = total(classifier, parameters, X_train_statistical, y_train_statistical, X_val_statistical, y_val_statistical)\n"
   ]
  },
  {
   "cell_type": "code",
   "execution_count": 16,
   "metadata": {},
   "outputs": [
    {
     "name": "stdout",
     "output_type": "stream",
     "text": [
      "----------------------------------------\n",
      "Classificatore: RandomForestClassifier(class_weight={np.int64(0): np.float64(0.5074554294975688),\n",
      "                                     np.int64(1): np.float64(1.1053839364518976),\n",
      "                                     np.int64(2): np.float64(0.7594906003638568),\n",
      "                                     np.int64(3): np.float64(1.5217496962332928),\n",
      "                                     np.int64(4): np.float64(6.626455026455027)},\n",
      "                       max_depth=10, min_samples_leaf=6, min_samples_split=4,\n",
      "                       n_estimators=23)\n",
      "Migliori Parametri: {'n_estimators': 21, 'criterion': 'gini', 'max_depth': 8, 'min_samples_split': 2, 'min_samples_leaf': 5, 'class_weight': {np.int64(0): np.float64(0.5074554294975688), np.int64(1): np.float64(1.1053839364518976), np.int64(2): np.float64(0.7594906003638568), np.int64(3): np.float64(1.5217496962332928), np.int64(4): np.float64(6.626455026455027)}}\n",
      "----------------------------------------\n",
      "F1 Score (Train): 0.533\n",
      "F1 Score (Validation): 0.396\n",
      "Accuracy (Train): 0.536\n",
      "Accuracy (Validation): 0.397\n",
      "----------------------------------------\n"
     ]
    }
   ],
   "source": [
    "# Ricerca degli iperparametri e valutazione del modello sulle feature ridotte statistical\n",
    "best_model_RF_statistical_reduced, best_param_RF_statistical_reduced, f1_train_RF_statistical_reduced, f1_val_RF_statistical_reduced, accuracy_train_RF_statistical_reduced, accuracy_val_RF_statistical_reduced = total(classifier, parameters, X_train_statistical_reduced, y_train_statistical_reduced, X_val_statistical_reduced, y_val_statistical_reduced)\n"
   ]
  },
  {
   "cell_type": "code",
   "execution_count": 17,
   "metadata": {},
   "outputs": [
    {
     "name": "stdout",
     "output_type": "stream",
     "text": [
      "----------------------------------------\n",
      "Classificatore: RandomForestClassifier(class_weight={np.int64(0): np.float64(0.5074554294975688),\n",
      "                                     np.int64(1): np.float64(1.1053839364518976),\n",
      "                                     np.int64(2): np.float64(0.7594906003638568),\n",
      "                                     np.int64(3): np.float64(1.5217496962332928),\n",
      "                                     np.int64(4): np.float64(6.626455026455027)},\n",
      "                       max_depth=10, min_samples_leaf=6, min_samples_split=4,\n",
      "                       n_estimators=23)\n",
      "Migliori Parametri: {'n_estimators': 20, 'criterion': 'gini', 'max_depth': 10, 'min_samples_split': 3, 'min_samples_leaf': 4, 'class_weight': {np.int64(0): np.float64(0.5074554294975688), np.int64(1): np.float64(1.1053839364518976), np.int64(2): np.float64(0.7594906003638568), np.int64(3): np.float64(1.5217496962332928), np.int64(4): np.float64(6.626455026455027)}}\n",
      "----------------------------------------\n",
      "F1 Score (Train): 0.562\n",
      "F1 Score (Validation): 0.352\n",
      "Accuracy (Train): 0.563\n",
      "Accuracy (Validation): 0.345\n",
      "----------------------------------------\n"
     ]
    }
   ],
   "source": [
    "# Ricerca degli iperparametri e valutazione del modello sulle feature physiological\n",
    "best_model_RF_physiological, best_param_RF_physiological, f1_train_RF_physiological, f1_val_RF_physiological, accuracy_train_RF_physiological, accuracy_val_RF_physiological = total(classifier, parameters, X_train_physiological, y_train_physiological, X_val_physiological, y_val_physiological)\n"
   ]
  },
  {
   "cell_type": "code",
   "execution_count": 18,
   "metadata": {},
   "outputs": [
    {
     "data": {
      "text/html": [
       "<div>\n",
       "<style scoped>\n",
       "    .dataframe tbody tr th:only-of-type {\n",
       "        vertical-align: middle;\n",
       "    }\n",
       "\n",
       "    .dataframe tbody tr th {\n",
       "        vertical-align: top;\n",
       "    }\n",
       "\n",
       "    .dataframe thead th {\n",
       "        text-align: right;\n",
       "    }\n",
       "</style>\n",
       "<table border=\"1\" class=\"dataframe\">\n",
       "  <thead>\n",
       "    <tr style=\"text-align: right;\">\n",
       "      <th></th>\n",
       "      <th>Feature</th>\n",
       "      <th>F1 Score (Train)</th>\n",
       "      <th>F1 Score (Validation)</th>\n",
       "      <th>Accuracy (Train)</th>\n",
       "      <th>Accuracy (Validation)</th>\n",
       "    </tr>\n",
       "  </thead>\n",
       "  <tbody>\n",
       "    <tr>\n",
       "      <th>0</th>\n",
       "      <td>All</td>\n",
       "      <td>0.750483</td>\n",
       "      <td>0.433772</td>\n",
       "      <td>0.749920</td>\n",
       "      <td>0.436782</td>\n",
       "    </tr>\n",
       "    <tr>\n",
       "      <th>1</th>\n",
       "      <td>All Reduced</td>\n",
       "      <td>0.650984</td>\n",
       "      <td>0.427869</td>\n",
       "      <td>0.652986</td>\n",
       "      <td>0.433589</td>\n",
       "    </tr>\n",
       "    <tr>\n",
       "      <th>2</th>\n",
       "      <td>Edge</td>\n",
       "      <td>0.586212</td>\n",
       "      <td>0.391602</td>\n",
       "      <td>0.588151</td>\n",
       "      <td>0.390805</td>\n",
       "    </tr>\n",
       "    <tr>\n",
       "      <th>3</th>\n",
       "      <td>Edge Reduced</td>\n",
       "      <td>0.523171</td>\n",
       "      <td>0.372827</td>\n",
       "      <td>0.527627</td>\n",
       "      <td>0.373563</td>\n",
       "    </tr>\n",
       "    <tr>\n",
       "      <th>4</th>\n",
       "      <td>Texture</td>\n",
       "      <td>0.745432</td>\n",
       "      <td>0.417147</td>\n",
       "      <td>0.746567</td>\n",
       "      <td>0.421456</td>\n",
       "    </tr>\n",
       "    <tr>\n",
       "      <th>5</th>\n",
       "      <td>Texture Reduced</td>\n",
       "      <td>0.690907</td>\n",
       "      <td>0.411130</td>\n",
       "      <td>0.692271</td>\n",
       "      <td>0.415709</td>\n",
       "    </tr>\n",
       "    <tr>\n",
       "      <th>6</th>\n",
       "      <td>Statistical</td>\n",
       "      <td>0.706805</td>\n",
       "      <td>0.429741</td>\n",
       "      <td>0.707442</td>\n",
       "      <td>0.432312</td>\n",
       "    </tr>\n",
       "    <tr>\n",
       "      <th>7</th>\n",
       "      <td>Statistical Reduced</td>\n",
       "      <td>0.533423</td>\n",
       "      <td>0.396264</td>\n",
       "      <td>0.535612</td>\n",
       "      <td>0.396552</td>\n",
       "    </tr>\n",
       "    <tr>\n",
       "      <th>8</th>\n",
       "      <td>Physiological</td>\n",
       "      <td>0.562372</td>\n",
       "      <td>0.351672</td>\n",
       "      <td>0.562600</td>\n",
       "      <td>0.345466</td>\n",
       "    </tr>\n",
       "  </tbody>\n",
       "</table>\n",
       "</div>"
      ],
      "text/plain": [
       "               Feature  F1 Score (Train)  F1 Score (Validation)  \\\n",
       "0                  All          0.750483               0.433772   \n",
       "1          All Reduced          0.650984               0.427869   \n",
       "2                 Edge          0.586212               0.391602   \n",
       "3         Edge Reduced          0.523171               0.372827   \n",
       "4              Texture          0.745432               0.417147   \n",
       "5      Texture Reduced          0.690907               0.411130   \n",
       "6          Statistical          0.706805               0.429741   \n",
       "7  Statistical Reduced          0.533423               0.396264   \n",
       "8        Physiological          0.562372               0.351672   \n",
       "\n",
       "   Accuracy (Train)  Accuracy (Validation)  \n",
       "0          0.749920               0.436782  \n",
       "1          0.652986               0.433589  \n",
       "2          0.588151               0.390805  \n",
       "3          0.527627               0.373563  \n",
       "4          0.746567               0.421456  \n",
       "5          0.692271               0.415709  \n",
       "6          0.707442               0.432312  \n",
       "7          0.535612               0.396552  \n",
       "8          0.562600               0.345466  "
      ]
     },
     "execution_count": 18,
     "metadata": {},
     "output_type": "execute_result"
    }
   ],
   "source": [
    "# Stampa dei risultati in un DataFrame per confrontare le performance del modello su diverse feature\n",
    "\n",
    "results_RF = pd.DataFrame({\n",
    "    'Feature': ['All', 'All Reduced', 'Edge', 'Edge Reduced', 'Texture', 'Texture Reduced', 'Statistical', 'Statistical Reduced', 'Physiological'],\n",
    "    'F1 Score (Train)': [f1_train_RF, f1_train_RF_reduced, f1_train_RF_edge, f1_train_RF_edge_reduced, f1_train_RF_texture, f1_train_RF_texture_reduced, f1_train_RF_statistical, f1_train_RF_statistical_reduced, f1_train_RF_physiological],\n",
    "    'F1 Score (Validation)': [f1_val_RF, f1_val_RF_reduced, f1_val_RF_edge, f1_val_RF_edge_reduced, f1_val_RF_texture, f1_val_RF_texture_reduced, f1_val_RF_statistical, f1_val_RF_statistical_reduced, f1_val_RF_physiological],\n",
    "    'Accuracy (Train)': [accuracy_train_RF, accuracy_train_RF_reduced, accuracy_train_RF_edge, accuracy_train_RF_edge_reduced, accuracy_train_RF_texture, accuracy_train_RF_texture_reduced, accuracy_train_RF_statistical, accuracy_train_RF_statistical_reduced, accuracy_train_RF_physiological],\n",
    "    'Accuracy (Validation)': [accuracy_val_RF, accuracy_val_RF_reduced, accuracy_val_RF_edge, accuracy_val_RF_edge_reduced, accuracy_val_RF_texture, accuracy_val_RF_texture_reduced, accuracy_val_RF_statistical, accuracy_val_RF_statistical_reduced, accuracy_val_RF_physiological]\n",
    "})\n",
    "\n",
    "results_RF\n"
   ]
  },
  {
   "cell_type": "markdown",
   "metadata": {},
   "source": [
    "### Bagging Tree Classifier\n",
    "Il **Bagging (Bootstrap Aggregating)** è un altro ensemble di modelli che usa il campionamento casuale per addestrare più modelli di base (in questo caso, alberi decisionali). "
   ]
  },
  {
   "cell_type": "code",
   "execution_count": 19,
   "metadata": {},
   "outputs": [],
   "source": [
    "from sklearn.ensemble import BaggingClassifier\n",
    "from sklearn.tree import DecisionTreeClassifier\n",
    "\n",
    "\n",
    "classifier = BaggingClassifier()\n",
    "base = DecisionTreeClassifier(criterion='gini', max_depth=7, min_samples_leaf=5, min_samples_split=17, class_weight=class_weights)\n",
    "\n",
    "parameters = {'n_estimators':[4,5,6,7,8,9],\n",
    "              'estimator':[base],\n",
    "              'random_state':[2]}"
   ]
  },
  {
   "cell_type": "code",
   "execution_count": 20,
   "metadata": {},
   "outputs": [
    {
     "name": "stdout",
     "output_type": "stream",
     "text": [
      "----------------------------------------\n",
      "Classificatore: BaggingClassifier(estimator=DecisionTreeClassifier(class_weight={np.int64(0): np.float64(0.5074554294975688),\n",
      "                                                                 np.int64(1): np.float64(1.1053839364518976),\n",
      "                                                                 np.int64(2): np.float64(0.7594906003638568),\n",
      "                                                                 np.int64(3): np.float64(1.5217496962332928),\n",
      "                                                                 np.int64(4): np.float64(6.626455026455027)},\n",
      "                                                   max_depth=7,\n",
      "                                                   min_samples_leaf=5,\n",
      "                                                   min_samples_split=17),\n",
      "                  n_estimators=9, random_state=2)\n",
      "Migliori Parametri: {'n_estimators': 7, 'estimator': DecisionTreeClassifier(class_weight={np.int64(0): np.float64(0.5074554294975688),\n",
      "                                     np.int64(1): np.float64(1.1053839364518976),\n",
      "                                     np.int64(2): np.float64(0.7594906003638568),\n",
      "                                     np.int64(3): np.float64(1.5217496962332928),\n",
      "                                     np.int64(4): np.float64(6.626455026455027)},\n",
      "                       max_depth=7, min_samples_leaf=5, min_samples_split=17), 'random_state': 2}\n",
      "----------------------------------------\n",
      "F1 Score (Train): 0.481\n",
      "F1 Score (Validation): 0.380\n",
      "Accuracy (Train): 0.488\n",
      "Accuracy (Validation): 0.382\n",
      "----------------------------------------\n"
     ]
    }
   ],
   "source": [
    "# Ricerca degli iperparametri e valutazione del modello su tutte le feature\n",
    "best_model_BC, best_param_BC, f1_train_BC, f1_val_BC, accuracy_train_BC, accuracy_val_BC = total(classifier, parameters, X_train, y_train, X_val, y_val)"
   ]
  },
  {
   "cell_type": "code",
   "execution_count": 21,
   "metadata": {},
   "outputs": [
    {
     "name": "stdout",
     "output_type": "stream",
     "text": [
      "----------------------------------------\n",
      "Classificatore: BaggingClassifier(estimator=DecisionTreeClassifier(class_weight={np.int64(0): np.float64(0.5074554294975688),\n",
      "                                                                 np.int64(1): np.float64(1.1053839364518976),\n",
      "                                                                 np.int64(2): np.float64(0.7594906003638568),\n",
      "                                                                 np.int64(3): np.float64(1.5217496962332928),\n",
      "                                                                 np.int64(4): np.float64(6.626455026455027)},\n",
      "                                                   max_depth=7,\n",
      "                                                   min_samples_leaf=5,\n",
      "                                                   min_samples_split=17),\n",
      "                  n_estimators=9, random_state=2)\n",
      "Migliori Parametri: {'n_estimators': 9, 'estimator': DecisionTreeClassifier(class_weight={np.int64(0): np.float64(0.5074554294975688),\n",
      "                                     np.int64(1): np.float64(1.1053839364518976),\n",
      "                                     np.int64(2): np.float64(0.7594906003638568),\n",
      "                                     np.int64(3): np.float64(1.5217496962332928),\n",
      "                                     np.int64(4): np.float64(6.626455026455027)},\n",
      "                       max_depth=7, min_samples_leaf=5, min_samples_split=17), 'random_state': 2}\n",
      "----------------------------------------\n",
      "F1 Score (Train): 0.476\n",
      "F1 Score (Validation): 0.368\n",
      "Accuracy (Train): 0.481\n",
      "Accuracy (Validation): 0.371\n",
      "----------------------------------------\n"
     ]
    }
   ],
   "source": [
    "# Ricerca degli iperparametri e valutazione del modello sulle feature ridotte\n",
    "best_model_BC_reduced, best_param_BC_reduced, f1_train_BC_reduced, f1_val_BC_reduced, accuracy_train_BC_reduced, accuracy_val_BC_reduced = total(classifier, parameters, X_train_reduced, y_train_reduced, X_val_reduced, y_val_reduced)"
   ]
  },
  {
   "cell_type": "code",
   "execution_count": 22,
   "metadata": {},
   "outputs": [
    {
     "name": "stdout",
     "output_type": "stream",
     "text": [
      "----------------------------------------\n",
      "Classificatore: BaggingClassifier(estimator=DecisionTreeClassifier(class_weight={np.int64(0): np.float64(0.5074554294975688),\n",
      "                                                                 np.int64(1): np.float64(1.1053839364518976),\n",
      "                                                                 np.int64(2): np.float64(0.7594906003638568),\n",
      "                                                                 np.int64(3): np.float64(1.5217496962332928),\n",
      "                                                                 np.int64(4): np.float64(6.626455026455027)},\n",
      "                                                   max_depth=7,\n",
      "                                                   min_samples_leaf=5,\n",
      "                                                   min_samples_split=17),\n",
      "                  n_estimators=9, random_state=2)\n",
      "Migliori Parametri: {'n_estimators': 8, 'estimator': DecisionTreeClassifier(class_weight={np.int64(0): np.float64(0.5074554294975688),\n",
      "                                     np.int64(1): np.float64(1.1053839364518976),\n",
      "                                     np.int64(2): np.float64(0.7594906003638568),\n",
      "                                     np.int64(3): np.float64(1.5217496962332928),\n",
      "                                     np.int64(4): np.float64(6.626455026455027)},\n",
      "                       max_depth=7, min_samples_leaf=5, min_samples_split=17), 'random_state': 2}\n",
      "----------------------------------------\n",
      "F1 Score (Train): 0.441\n",
      "F1 Score (Validation): 0.346\n",
      "Accuracy (Train): 0.453\n",
      "Accuracy (Validation): 0.352\n",
      "----------------------------------------\n"
     ]
    }
   ],
   "source": [
    "# Ricerca degli iperparametri e valutazione del modello sulle feature edge\n",
    "best_model_BC_edge, best_param_BC_edge, f1_train_BC_edge, f1_val_BC_edge, accuracy_train_BC_edge, accuracy_val_BC_edge = total(classifier, parameters, X_train_edge, y_train_edge, X_val_edge, y_val_edge)"
   ]
  },
  {
   "cell_type": "code",
   "execution_count": 23,
   "metadata": {},
   "outputs": [
    {
     "name": "stdout",
     "output_type": "stream",
     "text": [
      "----------------------------------------\n",
      "Classificatore: BaggingClassifier(estimator=DecisionTreeClassifier(class_weight={np.int64(0): np.float64(0.5074554294975688),\n",
      "                                                                 np.int64(1): np.float64(1.1053839364518976),\n",
      "                                                                 np.int64(2): np.float64(0.7594906003638568),\n",
      "                                                                 np.int64(3): np.float64(1.5217496962332928),\n",
      "                                                                 np.int64(4): np.float64(6.626455026455027)},\n",
      "                                                   max_depth=7,\n",
      "                                                   min_samples_leaf=5,\n",
      "                                                   min_samples_split=17),\n",
      "                  n_estimators=9, random_state=2)\n",
      "Migliori Parametri: {'n_estimators': 8, 'estimator': DecisionTreeClassifier(class_weight={np.int64(0): np.float64(0.5074554294975688),\n",
      "                                     np.int64(1): np.float64(1.1053839364518976),\n",
      "                                     np.int64(2): np.float64(0.7594906003638568),\n",
      "                                     np.int64(3): np.float64(1.5217496962332928),\n",
      "                                     np.int64(4): np.float64(6.626455026455027)},\n",
      "                       max_depth=7, min_samples_leaf=5, min_samples_split=17), 'random_state': 2}\n",
      "----------------------------------------\n",
      "F1 Score (Train): 0.406\n",
      "F1 Score (Validation): 0.352\n",
      "Accuracy (Train): 0.419\n",
      "Accuracy (Validation): 0.362\n",
      "----------------------------------------\n"
     ]
    }
   ],
   "source": [
    "# Ricerca degli iperparametri e valutazione del modello sulle feature ridotte edge\n",
    "best_model_BC_edge_reduced, best_param_BC_edge_reduced, f1_train_BC_edge_reduced, f1_val_BC_edge_reduced, accuracy_train_BC_edge_reduced, accuracy_val_BC_edge_reduced = total(classifier, parameters, X_train_edge_reduced, y_train_edge_reduced, X_val_edge_reduced, y_val_edge_reduced)"
   ]
  },
  {
   "cell_type": "code",
   "execution_count": 24,
   "metadata": {},
   "outputs": [
    {
     "name": "stdout",
     "output_type": "stream",
     "text": [
      "----------------------------------------\n",
      "Classificatore: BaggingClassifier(estimator=DecisionTreeClassifier(class_weight={np.int64(0): np.float64(0.5074554294975688),\n",
      "                                                                 np.int64(1): np.float64(1.1053839364518976),\n",
      "                                                                 np.int64(2): np.float64(0.7594906003638568),\n",
      "                                                                 np.int64(3): np.float64(1.5217496962332928),\n",
      "                                                                 np.int64(4): np.float64(6.626455026455027)},\n",
      "                                                   max_depth=7,\n",
      "                                                   min_samples_leaf=5,\n",
      "                                                   min_samples_split=17),\n",
      "                  n_estimators=9, random_state=2)\n",
      "Migliori Parametri: {'n_estimators': 4, 'estimator': DecisionTreeClassifier(class_weight={np.int64(0): np.float64(0.5074554294975688),\n",
      "                                     np.int64(1): np.float64(1.1053839364518976),\n",
      "                                     np.int64(2): np.float64(0.7594906003638568),\n",
      "                                     np.int64(3): np.float64(1.5217496962332928),\n",
      "                                     np.int64(4): np.float64(6.626455026455027)},\n",
      "                       max_depth=7, min_samples_leaf=5, min_samples_split=17), 'random_state': 2}\n",
      "----------------------------------------\n",
      "F1 Score (Train): 0.448\n",
      "F1 Score (Validation): 0.369\n",
      "Accuracy (Train): 0.464\n",
      "Accuracy (Validation): 0.382\n",
      "----------------------------------------\n"
     ]
    }
   ],
   "source": [
    "# Ricerca degli iperparametri e valutazione del modello sulle feature texture\n",
    "best_model_BC_texture, best_param_BC_texture, f1_train_BC_texture, f1_val_BC_texture, accuracy_train_BC_texture, accuracy_val_BC_texture = total(classifier, parameters, X_train_texture, y_train_texture, X_val_texture, y_val_texture)"
   ]
  },
  {
   "cell_type": "code",
   "execution_count": 25,
   "metadata": {},
   "outputs": [
    {
     "name": "stdout",
     "output_type": "stream",
     "text": [
      "----------------------------------------\n",
      "Classificatore: BaggingClassifier(estimator=DecisionTreeClassifier(class_weight={np.int64(0): np.float64(0.5074554294975688),\n",
      "                                                                 np.int64(1): np.float64(1.1053839364518976),\n",
      "                                                                 np.int64(2): np.float64(0.7594906003638568),\n",
      "                                                                 np.int64(3): np.float64(1.5217496962332928),\n",
      "                                                                 np.int64(4): np.float64(6.626455026455027)},\n",
      "                                                   max_depth=7,\n",
      "                                                   min_samples_leaf=5,\n",
      "                                                   min_samples_split=17),\n",
      "                  n_estimators=9, random_state=2)\n",
      "Migliori Parametri: {'n_estimators': 9, 'estimator': DecisionTreeClassifier(class_weight={np.int64(0): np.float64(0.5074554294975688),\n",
      "                                     np.int64(1): np.float64(1.1053839364518976),\n",
      "                                     np.int64(2): np.float64(0.7594906003638568),\n",
      "                                     np.int64(3): np.float64(1.5217496962332928),\n",
      "                                     np.int64(4): np.float64(6.626455026455027)},\n",
      "                       max_depth=7, min_samples_leaf=5, min_samples_split=17), 'random_state': 2}\n",
      "----------------------------------------\n",
      "F1 Score (Train): 0.489\n",
      "F1 Score (Validation): 0.360\n",
      "Accuracy (Train): 0.499\n",
      "Accuracy (Validation): 0.366\n",
      "----------------------------------------\n"
     ]
    }
   ],
   "source": [
    "# Ricerca degli iperparametri e valutazione del modello sulle feature ridotte texture\n",
    "best_model_BC_texture_reduced, best_param_BC_texture_reduced, f1_train_BC_texture_reduced, f1_val_BC_texture_reduced, accuracy_train_BC_texture_reduced, accuracy_val_BC_texture_reduced = total(classifier, parameters, X_train_texture_reduced, y_train_texture_reduced, X_val_texture_reduced, y_val_texture_reduced)"
   ]
  },
  {
   "cell_type": "code",
   "execution_count": 26,
   "metadata": {},
   "outputs": [
    {
     "name": "stdout",
     "output_type": "stream",
     "text": [
      "----------------------------------------\n",
      "Classificatore: BaggingClassifier(estimator=DecisionTreeClassifier(class_weight={np.int64(0): np.float64(0.5074554294975688),\n",
      "                                                                 np.int64(1): np.float64(1.1053839364518976),\n",
      "                                                                 np.int64(2): np.float64(0.7594906003638568),\n",
      "                                                                 np.int64(3): np.float64(1.5217496962332928),\n",
      "                                                                 np.int64(4): np.float64(6.626455026455027)},\n",
      "                                                   max_depth=7,\n",
      "                                                   min_samples_leaf=5,\n",
      "                                                   min_samples_split=17),\n",
      "                  n_estimators=9, random_state=2)\n",
      "Migliori Parametri: {'n_estimators': 8, 'estimator': DecisionTreeClassifier(class_weight={np.int64(0): np.float64(0.5074554294975688),\n",
      "                                     np.int64(1): np.float64(1.1053839364518976),\n",
      "                                     np.int64(2): np.float64(0.7594906003638568),\n",
      "                                     np.int64(3): np.float64(1.5217496962332928),\n",
      "                                     np.int64(4): np.float64(6.626455026455027)},\n",
      "                       max_depth=7, min_samples_leaf=5, min_samples_split=17), 'random_state': 2}\n",
      "----------------------------------------\n",
      "F1 Score (Train): 0.451\n",
      "F1 Score (Validation): 0.375\n",
      "Accuracy (Train): 0.456\n",
      "Accuracy (Validation): 0.375\n",
      "----------------------------------------\n"
     ]
    }
   ],
   "source": [
    "# Ricerca degli iperparametri e valutazione del modello sulle feature statistical\n",
    "best_model_BC_statistical, best_param_BC_statistical, f1_train_BC_statistical, f1_val_BC_statistical, accuracy_train_BC_statistical, accuracy_val_BC_statistical = total(classifier, parameters, X_train_statistical, y_train_statistical, X_val_statistical, y_val_statistical)"
   ]
  },
  {
   "cell_type": "code",
   "execution_count": 27,
   "metadata": {},
   "outputs": [
    {
     "name": "stdout",
     "output_type": "stream",
     "text": [
      "----------------------------------------\n",
      "Classificatore: BaggingClassifier(estimator=DecisionTreeClassifier(class_weight={np.int64(0): np.float64(0.5074554294975688),\n",
      "                                                                 np.int64(1): np.float64(1.1053839364518976),\n",
      "                                                                 np.int64(2): np.float64(0.7594906003638568),\n",
      "                                                                 np.int64(3): np.float64(1.5217496962332928),\n",
      "                                                                 np.int64(4): np.float64(6.626455026455027)},\n",
      "                                                   max_depth=7,\n",
      "                                                   min_samples_leaf=5,\n",
      "                                                   min_samples_split=17),\n",
      "                  n_estimators=9, random_state=2)\n",
      "Migliori Parametri: {'n_estimators': 4, 'estimator': DecisionTreeClassifier(class_weight={np.int64(0): np.float64(0.5074554294975688),\n",
      "                                     np.int64(1): np.float64(1.1053839364518976),\n",
      "                                     np.int64(2): np.float64(0.7594906003638568),\n",
      "                                     np.int64(3): np.float64(1.5217496962332928),\n",
      "                                     np.int64(4): np.float64(6.626455026455027)},\n",
      "                       max_depth=7, min_samples_leaf=5, min_samples_split=17), 'random_state': 2}\n",
      "----------------------------------------\n",
      "F1 Score (Train): 0.393\n",
      "F1 Score (Validation): 0.342\n",
      "Accuracy (Train): 0.408\n",
      "Accuracy (Validation): 0.358\n",
      "----------------------------------------\n"
     ]
    }
   ],
   "source": [
    "# Ricerca degli iperparametri e valutazione del modello sulle feature ridotte statistical\n",
    "best_model_BC_statistical_reduced, best_param_BC_statistical_reduced, f1_train_BC_statistical_reduced, f1_val_BC_statistical_reduced, accuracy_train_BC_statistical_reduced, accuracy_val_BC_statistical_reduced = total(classifier, parameters, X_train_statistical_reduced, y_train_statistical_reduced, X_val_statistical_reduced, y_val_statistical_reduced)"
   ]
  },
  {
   "cell_type": "code",
   "execution_count": 28,
   "metadata": {},
   "outputs": [
    {
     "name": "stdout",
     "output_type": "stream",
     "text": [
      "----------------------------------------\n",
      "Classificatore: BaggingClassifier(estimator=DecisionTreeClassifier(class_weight={np.int64(0): np.float64(0.5074554294975688),\n",
      "                                                                 np.int64(1): np.float64(1.1053839364518976),\n",
      "                                                                 np.int64(2): np.float64(0.7594906003638568),\n",
      "                                                                 np.int64(3): np.float64(1.5217496962332928),\n",
      "                                                                 np.int64(4): np.float64(6.626455026455027)},\n",
      "                                                   max_depth=7,\n",
      "                                                   min_samples_leaf=5,\n",
      "                                                   min_samples_split=17),\n",
      "                  n_estimators=9, random_state=2)\n",
      "Migliori Parametri: {'n_estimators': 8, 'estimator': DecisionTreeClassifier(class_weight={np.int64(0): np.float64(0.5074554294975688),\n",
      "                                     np.int64(1): np.float64(1.1053839364518976),\n",
      "                                     np.int64(2): np.float64(0.7594906003638568),\n",
      "                                     np.int64(3): np.float64(1.5217496962332928),\n",
      "                                     np.int64(4): np.float64(6.626455026455027)},\n",
      "                       max_depth=7, min_samples_leaf=5, min_samples_split=17), 'random_state': 2}\n",
      "----------------------------------------\n",
      "F1 Score (Train): 0.382\n",
      "F1 Score (Validation): 0.303\n",
      "Accuracy (Train): 0.381\n",
      "Accuracy (Validation): 0.295\n",
      "----------------------------------------\n"
     ]
    }
   ],
   "source": [
    "# Ricerca degli iperparametri e valutazione del modello sulle feature physiological\n",
    "best_model_BC_physiological, best_param_BC_physiological, f1_train_BC_physiological, f1_val_BC_physiological, accuracy_train_BC_physiological, accuracy_val_BC_physiological = total(classifier, parameters, X_train_physiological, y_train_physiological, X_val_physiological, y_val_physiological)"
   ]
  },
  {
   "cell_type": "code",
   "execution_count": 29,
   "metadata": {},
   "outputs": [
    {
     "data": {
      "text/html": [
       "<div>\n",
       "<style scoped>\n",
       "    .dataframe tbody tr th:only-of-type {\n",
       "        vertical-align: middle;\n",
       "    }\n",
       "\n",
       "    .dataframe tbody tr th {\n",
       "        vertical-align: top;\n",
       "    }\n",
       "\n",
       "    .dataframe thead th {\n",
       "        text-align: right;\n",
       "    }\n",
       "</style>\n",
       "<table border=\"1\" class=\"dataframe\">\n",
       "  <thead>\n",
       "    <tr style=\"text-align: right;\">\n",
       "      <th></th>\n",
       "      <th>Feature</th>\n",
       "      <th>F1 Score (Train)</th>\n",
       "      <th>F1 Score (Validation)</th>\n",
       "      <th>Accuracy (Train)</th>\n",
       "      <th>Accuracy (Validation)</th>\n",
       "    </tr>\n",
       "  </thead>\n",
       "  <tbody>\n",
       "    <tr>\n",
       "      <th>0</th>\n",
       "      <td>All</td>\n",
       "      <td>0.481058</td>\n",
       "      <td>0.380353</td>\n",
       "      <td>0.487863</td>\n",
       "      <td>0.381865</td>\n",
       "    </tr>\n",
       "    <tr>\n",
       "      <th>1</th>\n",
       "      <td>All Reduced</td>\n",
       "      <td>0.476041</td>\n",
       "      <td>0.367868</td>\n",
       "      <td>0.480677</td>\n",
       "      <td>0.371009</td>\n",
       "    </tr>\n",
       "    <tr>\n",
       "      <th>2</th>\n",
       "      <td>Edge</td>\n",
       "      <td>0.441194</td>\n",
       "      <td>0.346136</td>\n",
       "      <td>0.452571</td>\n",
       "      <td>0.351852</td>\n",
       "    </tr>\n",
       "    <tr>\n",
       "      <th>3</th>\n",
       "      <td>Edge Reduced</td>\n",
       "      <td>0.405685</td>\n",
       "      <td>0.352134</td>\n",
       "      <td>0.419355</td>\n",
       "      <td>0.362069</td>\n",
       "    </tr>\n",
       "    <tr>\n",
       "      <th>4</th>\n",
       "      <td>Texture</td>\n",
       "      <td>0.448217</td>\n",
       "      <td>0.368681</td>\n",
       "      <td>0.463750</td>\n",
       "      <td>0.381865</td>\n",
       "    </tr>\n",
       "    <tr>\n",
       "      <th>5</th>\n",
       "      <td>Texture Reduced</td>\n",
       "      <td>0.489484</td>\n",
       "      <td>0.360220</td>\n",
       "      <td>0.498882</td>\n",
       "      <td>0.365900</td>\n",
       "    </tr>\n",
       "    <tr>\n",
       "      <th>6</th>\n",
       "      <td>Statistical</td>\n",
       "      <td>0.451171</td>\n",
       "      <td>0.374864</td>\n",
       "      <td>0.455925</td>\n",
       "      <td>0.374840</td>\n",
       "    </tr>\n",
       "    <tr>\n",
       "      <th>7</th>\n",
       "      <td>Statistical Reduced</td>\n",
       "      <td>0.393259</td>\n",
       "      <td>0.342453</td>\n",
       "      <td>0.408496</td>\n",
       "      <td>0.358238</td>\n",
       "    </tr>\n",
       "    <tr>\n",
       "      <th>8</th>\n",
       "      <td>Physiological</td>\n",
       "      <td>0.382197</td>\n",
       "      <td>0.303073</td>\n",
       "      <td>0.380869</td>\n",
       "      <td>0.295019</td>\n",
       "    </tr>\n",
       "  </tbody>\n",
       "</table>\n",
       "</div>"
      ],
      "text/plain": [
       "               Feature  F1 Score (Train)  F1 Score (Validation)  \\\n",
       "0                  All          0.481058               0.380353   \n",
       "1          All Reduced          0.476041               0.367868   \n",
       "2                 Edge          0.441194               0.346136   \n",
       "3         Edge Reduced          0.405685               0.352134   \n",
       "4              Texture          0.448217               0.368681   \n",
       "5      Texture Reduced          0.489484               0.360220   \n",
       "6          Statistical          0.451171               0.374864   \n",
       "7  Statistical Reduced          0.393259               0.342453   \n",
       "8        Physiological          0.382197               0.303073   \n",
       "\n",
       "   Accuracy (Train)  Accuracy (Validation)  \n",
       "0          0.487863               0.381865  \n",
       "1          0.480677               0.371009  \n",
       "2          0.452571               0.351852  \n",
       "3          0.419355               0.362069  \n",
       "4          0.463750               0.381865  \n",
       "5          0.498882               0.365900  \n",
       "6          0.455925               0.374840  \n",
       "7          0.408496               0.358238  \n",
       "8          0.380869               0.295019  "
      ]
     },
     "execution_count": 29,
     "metadata": {},
     "output_type": "execute_result"
    }
   ],
   "source": [
    "# Stampa dei risultati in un DataFrame per confrontare le performance del modello su diverse feature\n",
    "results_BC = pd.DataFrame({\n",
    "    'Feature': ['All', 'All Reduced', 'Edge', 'Edge Reduced', 'Texture', 'Texture Reduced', 'Statistical', 'Statistical Reduced', 'Physiological'],\n",
    "    'F1 Score (Train)': [f1_train_BC, f1_train_BC_reduced, f1_train_BC_edge, f1_train_BC_edge_reduced, f1_train_BC_texture, f1_train_BC_texture_reduced, f1_train_BC_statistical, f1_train_BC_statistical_reduced, f1_train_BC_physiological],\n",
    "    'F1 Score (Validation)': [f1_val_BC, f1_val_BC_reduced, f1_val_BC_edge, f1_val_BC_edge_reduced, f1_val_BC_texture, f1_val_BC_texture_reduced, f1_val_BC_statistical, f1_val_BC_statistical_reduced, f1_val_BC_physiological],\n",
    "    'Accuracy (Train)': [accuracy_train_BC, accuracy_train_BC_reduced, accuracy_train_BC_edge, accuracy_train_BC_edge_reduced, accuracy_train_BC_texture, accuracy_train_BC_texture_reduced, accuracy_train_BC_statistical, accuracy_train_BC_statistical_reduced, accuracy_train_BC_physiological],\n",
    "    'Accuracy (Validation)': [accuracy_val_BC, accuracy_val_BC_reduced, accuracy_val_BC_edge, accuracy_val_BC_edge_reduced, accuracy_val_BC_texture, accuracy_val_BC_texture_reduced, accuracy_val_BC_statistical, accuracy_val_BC_statistical_reduced, accuracy_val_BC_physiological]\n",
    "})\n",
    "\n",
    "results_BC"
   ]
  },
  {
   "cell_type": "markdown",
   "metadata": {},
   "source": [
    "### Adaboost Tree Classifier\n",
    "**AdaBoost (Adaptive Boosting)** è un algoritmo che si concentra sugli errori commessi dai modelli precedenti, cercando di migliorarne la previsione."
   ]
  },
  {
   "cell_type": "code",
   "execution_count": 30,
   "metadata": {},
   "outputs": [],
   "source": [
    "from sklearn.ensemble import AdaBoostClassifier\n",
    "\n",
    "classifier = AdaBoostClassifier()\n",
    "base = DecisionTreeClassifier(criterion='gini', max_depth=7, min_samples_leaf=5, min_samples_split=17, class_weight=class_weights)\n",
    "\n",
    "parameters = {'n_estimators':[4,6,7,8,9,10,11],\n",
    "              'estimator':[base], \n",
    "              'learning_rate' :[0.5,0.6,0.7,0.8,0.9,1],\n",
    "              'random_state':[2],\n",
    "              'algorithm':['SAMME']}"
   ]
  },
  {
   "cell_type": "code",
   "execution_count": 31,
   "metadata": {},
   "outputs": [
    {
     "name": "stdout",
     "output_type": "stream",
     "text": [
      "----------------------------------------\n",
      "Classificatore: AdaBoostClassifier(algorithm='SAMME',\n",
      "                   estimator=DecisionTreeClassifier(class_weight={np.int64(0): np.float64(0.5074554294975688),\n",
      "                                                                  np.int64(1): np.float64(1.1053839364518976),\n",
      "                                                                  np.int64(2): np.float64(0.7594906003638568),\n",
      "                                                                  np.int64(3): np.float64(1.5217496962332928),\n",
      "                                                                  np.int64(4): np.float64(6.626455026455027)},\n",
      "                                                    max_depth=7,\n",
      "                                                    min_samples_leaf=5,\n",
      "                                                    min_samples_split=17),\n",
      "                   learning_rate=1, n_estimators=11, random_state=2)\n",
      "Migliori Parametri: {'n_estimators': 11, 'estimator': DecisionTreeClassifier(class_weight={np.int64(0): np.float64(0.5074554294975688),\n",
      "                                     np.int64(1): np.float64(1.1053839364518976),\n",
      "                                     np.int64(2): np.float64(0.7594906003638568),\n",
      "                                     np.int64(3): np.float64(1.5217496962332928),\n",
      "                                     np.int64(4): np.float64(6.626455026455027)},\n",
      "                       max_depth=7, min_samples_leaf=5, min_samples_split=17), 'learning_rate': 0.5, 'random_state': 2, 'algorithm': 'SAMME'}\n",
      "----------------------------------------\n",
      "F1 Score (Train): 0.552\n",
      "F1 Score (Validation): 0.401\n",
      "Accuracy (Train): 0.552\n",
      "Accuracy (Validation): 0.400\n",
      "----------------------------------------\n"
     ]
    }
   ],
   "source": [
    "# Ricerca degli iperparametri e valutazione del modello su tutte le feature\n",
    "best_model_AB, best_param_AB, f1_train_AB, f1_val_AB, accuracy_train_AB, accuracy_val_AB = total(classifier, parameters, X_train, y_train, X_val, y_val)"
   ]
  },
  {
   "cell_type": "code",
   "execution_count": 32,
   "metadata": {},
   "outputs": [
    {
     "name": "stdout",
     "output_type": "stream",
     "text": [
      "----------------------------------------\n",
      "Classificatore: AdaBoostClassifier(algorithm='SAMME',\n",
      "                   estimator=DecisionTreeClassifier(class_weight={np.int64(0): np.float64(0.5074554294975688),\n",
      "                                                                  np.int64(1): np.float64(1.1053839364518976),\n",
      "                                                                  np.int64(2): np.float64(0.7594906003638568),\n",
      "                                                                  np.int64(3): np.float64(1.5217496962332928),\n",
      "                                                                  np.int64(4): np.float64(6.626455026455027)},\n",
      "                                                    max_depth=7,\n",
      "                                                    min_samples_leaf=5,\n",
      "                                                    min_samples_split=17),\n",
      "                   learning_rate=1, n_estimators=11, random_state=2)\n",
      "Migliori Parametri: {'n_estimators': 10, 'estimator': DecisionTreeClassifier(class_weight={np.int64(0): np.float64(0.5074554294975688),\n",
      "                                     np.int64(1): np.float64(1.1053839364518976),\n",
      "                                     np.int64(2): np.float64(0.7594906003638568),\n",
      "                                     np.int64(3): np.float64(1.5217496962332928),\n",
      "                                     np.int64(4): np.float64(6.626455026455027)},\n",
      "                       max_depth=7, min_samples_leaf=5, min_samples_split=17), 'learning_rate': 0.6, 'random_state': 2, 'algorithm': 'SAMME'}\n",
      "----------------------------------------\n",
      "F1 Score (Train): 0.518\n",
      "F1 Score (Validation): 0.410\n",
      "Accuracy (Train): 0.517\n",
      "Accuracy (Validation): 0.405\n",
      "----------------------------------------\n"
     ]
    }
   ],
   "source": [
    "# Ricerca degli iperparametri e valutazione del modello sulle feature ridotte\n",
    "best_model_AB_reduced, best_param_AB_reduced, f1_train_AB_reduced, f1_val_AB_reduced, accuracy_train_AB_reduced, accuracy_val_AB_reduced = total(classifier, parameters, X_train_reduced, y_train_reduced, X_val_reduced, y_val_reduced)"
   ]
  },
  {
   "cell_type": "code",
   "execution_count": 33,
   "metadata": {},
   "outputs": [
    {
     "name": "stdout",
     "output_type": "stream",
     "text": [
      "----------------------------------------\n",
      "Classificatore: AdaBoostClassifier(algorithm='SAMME',\n",
      "                   estimator=DecisionTreeClassifier(class_weight={np.int64(0): np.float64(0.5074554294975688),\n",
      "                                                                  np.int64(1): np.float64(1.1053839364518976),\n",
      "                                                                  np.int64(2): np.float64(0.7594906003638568),\n",
      "                                                                  np.int64(3): np.float64(1.5217496962332928),\n",
      "                                                                  np.int64(4): np.float64(6.626455026455027)},\n",
      "                                                    max_depth=7,\n",
      "                                                    min_samples_leaf=5,\n",
      "                                                    min_samples_split=17),\n",
      "                   learning_rate=1, n_estimators=11, random_state=2)\n",
      "Migliori Parametri: {'n_estimators': 11, 'estimator': DecisionTreeClassifier(class_weight={np.int64(0): np.float64(0.5074554294975688),\n",
      "                                     np.int64(1): np.float64(1.1053839364518976),\n",
      "                                     np.int64(2): np.float64(0.7594906003638568),\n",
      "                                     np.int64(3): np.float64(1.5217496962332928),\n",
      "                                     np.int64(4): np.float64(6.626455026455027)},\n",
      "                       max_depth=7, min_samples_leaf=5, min_samples_split=17), 'learning_rate': 0.8, 'random_state': 2, 'algorithm': 'SAMME'}\n",
      "----------------------------------------\n",
      "F1 Score (Train): 0.508\n",
      "F1 Score (Validation): 0.377\n",
      "Accuracy (Train): 0.509\n",
      "Accuracy (Validation): 0.380\n",
      "----------------------------------------\n"
     ]
    }
   ],
   "source": [
    "# Ricerca degli iperparametri e valutazione del modello sulle feature edge\n",
    "best_model_AB_edge, best_param_AB_edge, f1_train_AB_edge, f1_val_AB_edge, accuracy_train_AB_edge, accuracy_val_AB_edge = total(classifier, parameters, X_train_edge, y_train_edge, X_val_edge, y_val_edge)"
   ]
  },
  {
   "cell_type": "code",
   "execution_count": 34,
   "metadata": {},
   "outputs": [
    {
     "name": "stdout",
     "output_type": "stream",
     "text": [
      "----------------------------------------\n",
      "Classificatore: AdaBoostClassifier(algorithm='SAMME',\n",
      "                   estimator=DecisionTreeClassifier(class_weight={np.int64(0): np.float64(0.5074554294975688),\n",
      "                                                                  np.int64(1): np.float64(1.1053839364518976),\n",
      "                                                                  np.int64(2): np.float64(0.7594906003638568),\n",
      "                                                                  np.int64(3): np.float64(1.5217496962332928),\n",
      "                                                                  np.int64(4): np.float64(6.626455026455027)},\n",
      "                                                    max_depth=7,\n",
      "                                                    min_samples_leaf=5,\n",
      "                                                    min_samples_split=17),\n",
      "                   learning_rate=1, n_estimators=11, random_state=2)\n",
      "Migliori Parametri: {'n_estimators': 11, 'estimator': DecisionTreeClassifier(class_weight={np.int64(0): np.float64(0.5074554294975688),\n",
      "                                     np.int64(1): np.float64(1.1053839364518976),\n",
      "                                     np.int64(2): np.float64(0.7594906003638568),\n",
      "                                     np.int64(3): np.float64(1.5217496962332928),\n",
      "                                     np.int64(4): np.float64(6.626455026455027)},\n",
      "                       max_depth=7, min_samples_leaf=5, min_samples_split=17), 'learning_rate': 0.9, 'random_state': 2, 'algorithm': 'SAMME'}\n",
      "----------------------------------------\n",
      "F1 Score (Train): 0.447\n",
      "F1 Score (Validation): 0.354\n",
      "Accuracy (Train): 0.447\n",
      "Accuracy (Validation): 0.354\n",
      "----------------------------------------\n"
     ]
    }
   ],
   "source": [
    "# Ricerca degli iperparametri e valutazione del modello sulle feature ridotte edge\n",
    "best_model_AB_edge_reduced, best_param_AB_edge_reduced, f1_train_AB_edge_reduced, f1_val_AB_edge_reduced, accuracy_train_AB_edge_reduced, accuracy_val_AB_edge_reduced = total(classifier, parameters, X_train_edge_reduced, y_train_edge_reduced, X_val_edge_reduced, y_val_edge_reduced)"
   ]
  },
  {
   "cell_type": "code",
   "execution_count": 35,
   "metadata": {},
   "outputs": [
    {
     "name": "stdout",
     "output_type": "stream",
     "text": [
      "----------------------------------------\n",
      "Classificatore: AdaBoostClassifier(algorithm='SAMME',\n",
      "                   estimator=DecisionTreeClassifier(class_weight={np.int64(0): np.float64(0.5074554294975688),\n",
      "                                                                  np.int64(1): np.float64(1.1053839364518976),\n",
      "                                                                  np.int64(2): np.float64(0.7594906003638568),\n",
      "                                                                  np.int64(3): np.float64(1.5217496962332928),\n",
      "                                                                  np.int64(4): np.float64(6.626455026455027)},\n",
      "                                                    max_depth=7,\n",
      "                                                    min_samples_leaf=5,\n",
      "                                                    min_samples_split=17),\n",
      "                   learning_rate=1, n_estimators=11, random_state=2)\n",
      "Migliori Parametri: {'n_estimators': 10, 'estimator': DecisionTreeClassifier(class_weight={np.int64(0): np.float64(0.5074554294975688),\n",
      "                                     np.int64(1): np.float64(1.1053839364518976),\n",
      "                                     np.int64(2): np.float64(0.7594906003638568),\n",
      "                                     np.int64(3): np.float64(1.5217496962332928),\n",
      "                                     np.int64(4): np.float64(6.626455026455027)},\n",
      "                       max_depth=7, min_samples_leaf=5, min_samples_split=17), 'learning_rate': 0.8, 'random_state': 2, 'algorithm': 'SAMME'}\n",
      "----------------------------------------\n",
      "F1 Score (Train): 0.573\n",
      "F1 Score (Validation): 0.384\n",
      "Accuracy (Train): 0.573\n",
      "Accuracy (Validation): 0.386\n",
      "----------------------------------------\n"
     ]
    }
   ],
   "source": [
    "# Ricerca degli iperparametri e valutazione del modello sulle feature texture\n",
    "best_model_AB_texture, best_param_AB_texture, f1_train_AB_texture, f1_val_AB_texture, accuracy_train_AB_texture, accuracy_val_AB_texture = total(classifier, parameters, X_train_texture, y_train_texture, X_val_texture, y_val_texture)"
   ]
  },
  {
   "cell_type": "code",
   "execution_count": 36,
   "metadata": {},
   "outputs": [
    {
     "name": "stdout",
     "output_type": "stream",
     "text": [
      "----------------------------------------\n",
      "Classificatore: AdaBoostClassifier(algorithm='SAMME',\n",
      "                   estimator=DecisionTreeClassifier(class_weight={np.int64(0): np.float64(0.5074554294975688),\n",
      "                                                                  np.int64(1): np.float64(1.1053839364518976),\n",
      "                                                                  np.int64(2): np.float64(0.7594906003638568),\n",
      "                                                                  np.int64(3): np.float64(1.5217496962332928),\n",
      "                                                                  np.int64(4): np.float64(6.626455026455027)},\n",
      "                                                    max_depth=7,\n",
      "                                                    min_samples_leaf=5,\n",
      "                                                    min_samples_split=17),\n",
      "                   learning_rate=1, n_estimators=11, random_state=2)\n",
      "Migliori Parametri: {'n_estimators': 11, 'estimator': DecisionTreeClassifier(class_weight={np.int64(0): np.float64(0.5074554294975688),\n",
      "                                     np.int64(1): np.float64(1.1053839364518976),\n",
      "                                     np.int64(2): np.float64(0.7594906003638568),\n",
      "                                     np.int64(3): np.float64(1.5217496962332928),\n",
      "                                     np.int64(4): np.float64(6.626455026455027)},\n",
      "                       max_depth=7, min_samples_leaf=5, min_samples_split=17), 'learning_rate': 0.5, 'random_state': 2, 'algorithm': 'SAMME'}\n",
      "----------------------------------------\n",
      "F1 Score (Train): 0.505\n",
      "F1 Score (Validation): 0.388\n",
      "Accuracy (Train): 0.514\n",
      "Accuracy (Validation): 0.394\n",
      "----------------------------------------\n"
     ]
    }
   ],
   "source": [
    "# Ricerca degli iperparametri e valutazione del modello sulle feature ridotte texture\n",
    "best_model_AB_texture_reduced, best_param_AB_texture_reduced, f1_train_AB_texture_reduced, f1_val_AB_texture_reduced, accuracy_train_AB_texture_reduced, accuracy_val_AB_texture_reduced = total(classifier, parameters, X_train_texture_reduced, y_train_texture_reduced, X_val_texture_reduced, y_val_texture_reduced)"
   ]
  },
  {
   "cell_type": "code",
   "execution_count": 37,
   "metadata": {},
   "outputs": [
    {
     "name": "stdout",
     "output_type": "stream",
     "text": [
      "----------------------------------------\n",
      "Classificatore: AdaBoostClassifier(algorithm='SAMME',\n",
      "                   estimator=DecisionTreeClassifier(class_weight={np.int64(0): np.float64(0.5074554294975688),\n",
      "                                                                  np.int64(1): np.float64(1.1053839364518976),\n",
      "                                                                  np.int64(2): np.float64(0.7594906003638568),\n",
      "                                                                  np.int64(3): np.float64(1.5217496962332928),\n",
      "                                                                  np.int64(4): np.float64(6.626455026455027)},\n",
      "                                                    max_depth=7,\n",
      "                                                    min_samples_leaf=5,\n",
      "                                                    min_samples_split=17),\n",
      "                   learning_rate=1, n_estimators=11, random_state=2)\n",
      "Migliori Parametri: {'n_estimators': 10, 'estimator': DecisionTreeClassifier(class_weight={np.int64(0): np.float64(0.5074554294975688),\n",
      "                                     np.int64(1): np.float64(1.1053839364518976),\n",
      "                                     np.int64(2): np.float64(0.7594906003638568),\n",
      "                                     np.int64(3): np.float64(1.5217496962332928),\n",
      "                                     np.int64(4): np.float64(6.626455026455027)},\n",
      "                       max_depth=7, min_samples_leaf=5, min_samples_split=17), 'learning_rate': 0.6, 'random_state': 2, 'algorithm': 'SAMME'}\n",
      "----------------------------------------\n",
      "F1 Score (Train): 0.537\n",
      "F1 Score (Validation): 0.393\n",
      "Accuracy (Train): 0.539\n",
      "Accuracy (Validation): 0.392\n",
      "----------------------------------------\n"
     ]
    }
   ],
   "source": [
    "# Ricerca degli iperparametri e valutazione del modello sulle feature statistical\n",
    "best_model_AB_statistical, best_param_AB_statistical, f1_train_AB_statistical, f1_val_AB_statistical, accuracy_train_AB_statistical, accuracy_val_AB_statistical = total(classifier, parameters, X_train_statistical, y_train_statistical, X_val_statistical, y_val_statistical)"
   ]
  },
  {
   "cell_type": "code",
   "execution_count": 38,
   "metadata": {},
   "outputs": [
    {
     "name": "stdout",
     "output_type": "stream",
     "text": [
      "----------------------------------------\n",
      "Classificatore: AdaBoostClassifier(algorithm='SAMME',\n",
      "                   estimator=DecisionTreeClassifier(class_weight={np.int64(0): np.float64(0.5074554294975688),\n",
      "                                                                  np.int64(1): np.float64(1.1053839364518976),\n",
      "                                                                  np.int64(2): np.float64(0.7594906003638568),\n",
      "                                                                  np.int64(3): np.float64(1.5217496962332928),\n",
      "                                                                  np.int64(4): np.float64(6.626455026455027)},\n",
      "                                                    max_depth=7,\n",
      "                                                    min_samples_leaf=5,\n",
      "                                                    min_samples_split=17),\n",
      "                   learning_rate=1, n_estimators=11, random_state=2)\n",
      "Migliori Parametri: {'n_estimators': 11, 'estimator': DecisionTreeClassifier(class_weight={np.int64(0): np.float64(0.5074554294975688),\n",
      "                                     np.int64(1): np.float64(1.1053839364518976),\n",
      "                                     np.int64(2): np.float64(0.7594906003638568),\n",
      "                                     np.int64(3): np.float64(1.5217496962332928),\n",
      "                                     np.int64(4): np.float64(6.626455026455027)},\n",
      "                       max_depth=7, min_samples_leaf=5, min_samples_split=17), 'learning_rate': 0.6, 'random_state': 2, 'algorithm': 'SAMME'}\n",
      "----------------------------------------\n",
      "F1 Score (Train): 0.481\n",
      "F1 Score (Validation): 0.376\n",
      "Accuracy (Train): 0.484\n",
      "Accuracy (Validation): 0.375\n",
      "----------------------------------------\n"
     ]
    }
   ],
   "source": [
    "# Ricerca degli iperparametri e valutazione del modello sulle feature ridotte statistical\n",
    "best_model_AB_statistical_reduced, best_param_AB_statistical_reduced, f1_train_AB_statistical_reduced, f1_val_AB_statistical_reduced, accuracy_train_AB_statistical_reduced, accuracy_val_AB_statistical_reduced = total(classifier, parameters, X_train_statistical_reduced, y_train_statistical_reduced, X_val_statistical_reduced, y_val_statistical_reduced)"
   ]
  },
  {
   "cell_type": "code",
   "execution_count": 39,
   "metadata": {},
   "outputs": [
    {
     "name": "stdout",
     "output_type": "stream",
     "text": [
      "----------------------------------------\n",
      "Classificatore: AdaBoostClassifier(algorithm='SAMME',\n",
      "                   estimator=DecisionTreeClassifier(class_weight={np.int64(0): np.float64(0.5074554294975688),\n",
      "                                                                  np.int64(1): np.float64(1.1053839364518976),\n",
      "                                                                  np.int64(2): np.float64(0.7594906003638568),\n",
      "                                                                  np.int64(3): np.float64(1.5217496962332928),\n",
      "                                                                  np.int64(4): np.float64(6.626455026455027)},\n",
      "                                                    max_depth=7,\n",
      "                                                    min_samples_leaf=5,\n",
      "                                                    min_samples_split=17),\n",
      "                   learning_rate=1, n_estimators=11, random_state=2)\n",
      "Migliori Parametri: {'n_estimators': 11, 'estimator': DecisionTreeClassifier(class_weight={np.int64(0): np.float64(0.5074554294975688),\n",
      "                                     np.int64(1): np.float64(1.1053839364518976),\n",
      "                                     np.int64(2): np.float64(0.7594906003638568),\n",
      "                                     np.int64(3): np.float64(1.5217496962332928),\n",
      "                                     np.int64(4): np.float64(6.626455026455027)},\n",
      "                       max_depth=7, min_samples_leaf=5, min_samples_split=17), 'learning_rate': 0.7, 'random_state': 2, 'algorithm': 'SAMME'}\n",
      "----------------------------------------\n",
      "F1 Score (Train): 0.440\n",
      "F1 Score (Validation): 0.327\n",
      "Accuracy (Train): 0.442\n",
      "Accuracy (Validation): 0.323\n",
      "----------------------------------------\n"
     ]
    }
   ],
   "source": [
    "# Ricerca degli iperparametri e valutazione del modello sulle feature physiological\n",
    "best_model_AB_physiological, best_param_AB_physiological, f1_train_AB_physiological, f1_val_AB_physiological, accuracy_train_AB_physiological, accuracy_val_AB_physiological = total(classifier, parameters, X_train_physiological, y_train_physiological, X_val_physiological, y_val_physiological)"
   ]
  },
  {
   "cell_type": "code",
   "execution_count": 40,
   "metadata": {},
   "outputs": [
    {
     "data": {
      "text/html": [
       "<div>\n",
       "<style scoped>\n",
       "    .dataframe tbody tr th:only-of-type {\n",
       "        vertical-align: middle;\n",
       "    }\n",
       "\n",
       "    .dataframe tbody tr th {\n",
       "        vertical-align: top;\n",
       "    }\n",
       "\n",
       "    .dataframe thead th {\n",
       "        text-align: right;\n",
       "    }\n",
       "</style>\n",
       "<table border=\"1\" class=\"dataframe\">\n",
       "  <thead>\n",
       "    <tr style=\"text-align: right;\">\n",
       "      <th></th>\n",
       "      <th>Feature</th>\n",
       "      <th>F1 Score (Train)</th>\n",
       "      <th>F1 Score (Validation)</th>\n",
       "      <th>Accuracy (Train)</th>\n",
       "      <th>Accuracy (Validation)</th>\n",
       "    </tr>\n",
       "  </thead>\n",
       "  <tbody>\n",
       "    <tr>\n",
       "      <th>0</th>\n",
       "      <td>All</td>\n",
       "      <td>0.552178</td>\n",
       "      <td>0.400950</td>\n",
       "      <td>0.552060</td>\n",
       "      <td>0.400383</td>\n",
       "    </tr>\n",
       "    <tr>\n",
       "      <th>1</th>\n",
       "      <td>All Reduced</td>\n",
       "      <td>0.517564</td>\n",
       "      <td>0.409504</td>\n",
       "      <td>0.516768</td>\n",
       "      <td>0.404853</td>\n",
       "    </tr>\n",
       "    <tr>\n",
       "      <th>2</th>\n",
       "      <td>Edge</td>\n",
       "      <td>0.507913</td>\n",
       "      <td>0.377127</td>\n",
       "      <td>0.509103</td>\n",
       "      <td>0.379949</td>\n",
       "    </tr>\n",
       "    <tr>\n",
       "      <th>3</th>\n",
       "      <td>Edge Reduced</td>\n",
       "      <td>0.446633</td>\n",
       "      <td>0.353551</td>\n",
       "      <td>0.446662</td>\n",
       "      <td>0.354406</td>\n",
       "    </tr>\n",
       "    <tr>\n",
       "      <th>4</th>\n",
       "      <td>Texture</td>\n",
       "      <td>0.572991</td>\n",
       "      <td>0.383552</td>\n",
       "      <td>0.573299</td>\n",
       "      <td>0.385696</td>\n",
       "    </tr>\n",
       "    <tr>\n",
       "      <th>5</th>\n",
       "      <td>Texture Reduced</td>\n",
       "      <td>0.505399</td>\n",
       "      <td>0.388311</td>\n",
       "      <td>0.513734</td>\n",
       "      <td>0.393997</td>\n",
       "    </tr>\n",
       "    <tr>\n",
       "      <th>6</th>\n",
       "      <td>Statistical</td>\n",
       "      <td>0.536857</td>\n",
       "      <td>0.393364</td>\n",
       "      <td>0.539285</td>\n",
       "      <td>0.392082</td>\n",
       "    </tr>\n",
       "    <tr>\n",
       "      <th>7</th>\n",
       "      <td>Statistical Reduced</td>\n",
       "      <td>0.481290</td>\n",
       "      <td>0.375591</td>\n",
       "      <td>0.483871</td>\n",
       "      <td>0.375479</td>\n",
       "    </tr>\n",
       "    <tr>\n",
       "      <th>8</th>\n",
       "      <td>Physiological</td>\n",
       "      <td>0.439618</td>\n",
       "      <td>0.326540</td>\n",
       "      <td>0.442351</td>\n",
       "      <td>0.323116</td>\n",
       "    </tr>\n",
       "  </tbody>\n",
       "</table>\n",
       "</div>"
      ],
      "text/plain": [
       "               Feature  F1 Score (Train)  F1 Score (Validation)  \\\n",
       "0                  All          0.552178               0.400950   \n",
       "1          All Reduced          0.517564               0.409504   \n",
       "2                 Edge          0.507913               0.377127   \n",
       "3         Edge Reduced          0.446633               0.353551   \n",
       "4              Texture          0.572991               0.383552   \n",
       "5      Texture Reduced          0.505399               0.388311   \n",
       "6          Statistical          0.536857               0.393364   \n",
       "7  Statistical Reduced          0.481290               0.375591   \n",
       "8        Physiological          0.439618               0.326540   \n",
       "\n",
       "   Accuracy (Train)  Accuracy (Validation)  \n",
       "0          0.552060               0.400383  \n",
       "1          0.516768               0.404853  \n",
       "2          0.509103               0.379949  \n",
       "3          0.446662               0.354406  \n",
       "4          0.573299               0.385696  \n",
       "5          0.513734               0.393997  \n",
       "6          0.539285               0.392082  \n",
       "7          0.483871               0.375479  \n",
       "8          0.442351               0.323116  "
      ]
     },
     "execution_count": 40,
     "metadata": {},
     "output_type": "execute_result"
    }
   ],
   "source": [
    "# Stampa dei risultati in un DataFrame per confrontare le performance del modello su diverse feature\n",
    "results_AB = pd.DataFrame({\n",
    "    'Feature': ['All', 'All Reduced', 'Edge', 'Edge Reduced', 'Texture', 'Texture Reduced', 'Statistical', 'Statistical Reduced', 'Physiological'],\n",
    "    'F1 Score (Train)': [f1_train_AB, f1_train_AB_reduced, f1_train_AB_edge, f1_train_AB_edge_reduced, f1_train_AB_texture, f1_train_AB_texture_reduced, f1_train_AB_statistical, f1_train_AB_statistical_reduced, f1_train_AB_physiological],\n",
    "    'F1 Score (Validation)': [f1_val_AB, f1_val_AB_reduced, f1_val_AB_edge, f1_val_AB_edge_reduced, f1_val_AB_texture, f1_val_AB_texture_reduced, f1_val_AB_statistical, f1_val_AB_statistical_reduced, f1_val_AB_physiological],\n",
    "    'Accuracy (Train)': [accuracy_train_AB, accuracy_train_AB_reduced, accuracy_train_AB_edge, accuracy_train_AB_edge_reduced, accuracy_train_AB_texture, accuracy_train_AB_texture_reduced, accuracy_train_AB_statistical, accuracy_train_AB_statistical_reduced, accuracy_train_AB_physiological],\n",
    "    'Accuracy (Validation)': [accuracy_val_AB, accuracy_val_AB_reduced, accuracy_val_AB_edge, accuracy_val_AB_edge_reduced, accuracy_val_AB_texture, accuracy_val_AB_texture_reduced, accuracy_val_AB_statistical, accuracy_val_AB_statistical_reduced, accuracy_val_AB_physiological]\n",
    "})\n",
    "\n",
    "results_AB"
   ]
  },
  {
   "cell_type": "markdown",
   "metadata": {},
   "source": [
    "### Support Vector Classifier\n",
    "Il **SVC** è uno dei modelli più potenti per la classificazione di dati con margini separabili. In questo caso viee utilizzato un kernel RBF che permette di classificare anche problemi non separabili linearmente.\n"
   ]
  },
  {
   "cell_type": "code",
   "execution_count": 41,
   "metadata": {},
   "outputs": [],
   "source": [
    "from sklearn.svm import SVC\n",
    "\n",
    "classifier = SVC()\n",
    "\n",
    "parameters = {\"kernel\":['rbf'],\n",
    "              \"C\":[0.01,0.1,1],\n",
    "              \"probability\":[True],\n",
    "              \"class_weight\":[class_weights]}"
   ]
  },
  {
   "cell_type": "code",
   "execution_count": 42,
   "metadata": {},
   "outputs": [
    {
     "name": "stdout",
     "output_type": "stream",
     "text": [
      "----------------------------------------\n",
      "Classificatore: SVC(C=1,\n",
      "    class_weight={np.int64(0): np.float64(0.5074554294975688),\n",
      "                  np.int64(1): np.float64(1.1053839364518976),\n",
      "                  np.int64(2): np.float64(0.7594906003638568),\n",
      "                  np.int64(3): np.float64(1.5217496962332928),\n",
      "                  np.int64(4): np.float64(6.626455026455027)},\n",
      "    probability=True)\n",
      "Migliori Parametri: {'kernel': 'rbf', 'C': 1, 'probability': True, 'class_weight': {np.int64(0): np.float64(0.5074554294975688), np.int64(1): np.float64(1.1053839364518976), np.int64(2): np.float64(0.7594906003638568), np.int64(3): np.float64(1.5217496962332928), np.int64(4): np.float64(6.626455026455027)}}\n",
      "----------------------------------------\n",
      "F1 Score (Train): 0.690\n",
      "F1 Score (Validation): 0.480\n",
      "Accuracy (Train): 0.688\n",
      "Accuracy (Validation): 0.473\n",
      "----------------------------------------\n"
     ]
    }
   ],
   "source": [
    "# Ricerca degli iperparametri e valutazione del modello su tutte le feature\n",
    "best_model_SVC, best_param_SVC, f1_train_SVC, f1_val_SVC, accuracy_train_SVC, accuracy_val_SVC = total(classifier, parameters, X_train, y_train, X_val, y_val)"
   ]
  },
  {
   "cell_type": "code",
   "execution_count": 43,
   "metadata": {},
   "outputs": [
    {
     "name": "stdout",
     "output_type": "stream",
     "text": [
      "----------------------------------------\n",
      "Classificatore: SVC(C=1,\n",
      "    class_weight={np.int64(0): np.float64(0.5074554294975688),\n",
      "                  np.int64(1): np.float64(1.1053839364518976),\n",
      "                  np.int64(2): np.float64(0.7594906003638568),\n",
      "                  np.int64(3): np.float64(1.5217496962332928),\n",
      "                  np.int64(4): np.float64(6.626455026455027)},\n",
      "    probability=True)\n",
      "Migliori Parametri: {'kernel': 'rbf', 'C': 1, 'probability': True, 'class_weight': {np.int64(0): np.float64(0.5074554294975688), np.int64(1): np.float64(1.1053839364518976), np.int64(2): np.float64(0.7594906003638568), np.int64(3): np.float64(1.5217496962332928), np.int64(4): np.float64(6.626455026455027)}}\n",
      "----------------------------------------\n",
      "F1 Score (Train): 0.648\n",
      "F1 Score (Validation): 0.456\n",
      "Accuracy (Train): 0.645\n",
      "Accuracy (Validation): 0.450\n",
      "----------------------------------------\n"
     ]
    }
   ],
   "source": [
    "# Ricerca degli iperparametri e valutazione del modello sulle feature ridotte\n",
    "best_model_SVC_reduced, best_param_SVC_reduced, f1_train_SVC_reduced, f1_val_SVC_reduced, accuracy_train_SVC_reduced, accuracy_val_SVC_reduced = total(classifier, parameters, X_train_reduced, y_train_reduced, X_val_reduced, y_val_reduced)"
   ]
  },
  {
   "cell_type": "code",
   "execution_count": 44,
   "metadata": {},
   "outputs": [
    {
     "name": "stdout",
     "output_type": "stream",
     "text": [
      "----------------------------------------\n",
      "Classificatore: SVC(C=1,\n",
      "    class_weight={np.int64(0): np.float64(0.5074554294975688),\n",
      "                  np.int64(1): np.float64(1.1053839364518976),\n",
      "                  np.int64(2): np.float64(0.7594906003638568),\n",
      "                  np.int64(3): np.float64(1.5217496962332928),\n",
      "                  np.int64(4): np.float64(6.626455026455027)},\n",
      "    probability=True)\n",
      "Migliori Parametri: {'kernel': 'rbf', 'C': 1, 'probability': True, 'class_weight': {np.int64(0): np.float64(0.5074554294975688), np.int64(1): np.float64(1.1053839364518976), np.int64(2): np.float64(0.7594906003638568), np.int64(3): np.float64(1.5217496962332928), np.int64(4): np.float64(6.626455026455027)}}\n",
      "----------------------------------------\n",
      "F1 Score (Train): 0.442\n",
      "F1 Score (Validation): 0.352\n",
      "Accuracy (Train): 0.436\n",
      "Accuracy (Validation): 0.345\n",
      "----------------------------------------\n"
     ]
    }
   ],
   "source": [
    "# Ricerca degli iperparametri e valutazione del modello sulle feature edge\n",
    "best_model_SVC_edge, best_param_SVC_edge, f1_train_SVC_edge, f1_val_SVC_edge, accuracy_train_SVC_edge, accuracy_val_SVC_edge = total(classifier, parameters, X_train_edge, y_train_edge, X_val_edge, y_val_edge)"
   ]
  },
  {
   "cell_type": "code",
   "execution_count": 45,
   "metadata": {},
   "outputs": [
    {
     "name": "stdout",
     "output_type": "stream",
     "text": [
      "----------------------------------------\n",
      "Classificatore: SVC(C=1,\n",
      "    class_weight={np.int64(0): np.float64(0.5074554294975688),\n",
      "                  np.int64(1): np.float64(1.1053839364518976),\n",
      "                  np.int64(2): np.float64(0.7594906003638568),\n",
      "                  np.int64(3): np.float64(1.5217496962332928),\n",
      "                  np.int64(4): np.float64(6.626455026455027)},\n",
      "    probability=True)\n",
      "Migliori Parametri: {'kernel': 'rbf', 'C': 1, 'probability': True, 'class_weight': {np.int64(0): np.float64(0.5074554294975688), np.int64(1): np.float64(1.1053839364518976), np.int64(2): np.float64(0.7594906003638568), np.int64(3): np.float64(1.5217496962332928), np.int64(4): np.float64(6.626455026455027)}}\n",
      "----------------------------------------\n",
      "F1 Score (Train): 0.383\n",
      "F1 Score (Validation): 0.330\n",
      "Accuracy (Train): 0.383\n",
      "Accuracy (Validation): 0.326\n",
      "----------------------------------------\n"
     ]
    }
   ],
   "source": [
    "# Ricerca degli iperparametri e valutazione del modello sulle feature ridotte edge\n",
    "best_model_SVC_edge_reduced, best_param_SVC_edge_reduced, f1_train_SVC_edge_reduced, f1_val_SVC_edge_reduced, accuracy_train_SVC_edge_reduced, accuracy_val_SVC_edge_reduced = total(classifier, parameters, X_train_edge_reduced, y_train_edge_reduced, X_val_edge_reduced, y_val_edge_reduced)"
   ]
  },
  {
   "cell_type": "code",
   "execution_count": 46,
   "metadata": {},
   "outputs": [
    {
     "name": "stdout",
     "output_type": "stream",
     "text": [
      "----------------------------------------\n",
      "Classificatore: SVC(C=1,\n",
      "    class_weight={np.int64(0): np.float64(0.5074554294975688),\n",
      "                  np.int64(1): np.float64(1.1053839364518976),\n",
      "                  np.int64(2): np.float64(0.7594906003638568),\n",
      "                  np.int64(3): np.float64(1.5217496962332928),\n",
      "                  np.int64(4): np.float64(6.626455026455027)},\n",
      "    probability=True)\n",
      "Migliori Parametri: {'kernel': 'rbf', 'C': 1, 'probability': True, 'class_weight': {np.int64(0): np.float64(0.5074554294975688), np.int64(1): np.float64(1.1053839364518976), np.int64(2): np.float64(0.7594906003638568), np.int64(3): np.float64(1.5217496962332928), np.int64(4): np.float64(6.626455026455027)}}\n",
      "----------------------------------------\n",
      "F1 Score (Train): 0.649\n",
      "F1 Score (Validation): 0.454\n",
      "Accuracy (Train): 0.647\n",
      "Accuracy (Validation): 0.448\n",
      "----------------------------------------\n"
     ]
    }
   ],
   "source": [
    "# Ricerca degli iperparametri e valutazione del modello sulle feature texture\n",
    "best_model_SVC_texture, best_param_SVC_texture, f1_train_SVC_texture, f1_val_SVC_texture, accuracy_train_SVC_texture, accuracy_val_SVC_texture = total(classifier, parameters, X_train_texture, y_train_texture, X_val_texture, y_val_texture)"
   ]
  },
  {
   "cell_type": "code",
   "execution_count": 47,
   "metadata": {},
   "outputs": [
    {
     "name": "stdout",
     "output_type": "stream",
     "text": [
      "----------------------------------------\n",
      "Classificatore: SVC(C=1,\n",
      "    class_weight={np.int64(0): np.float64(0.5074554294975688),\n",
      "                  np.int64(1): np.float64(1.1053839364518976),\n",
      "                  np.int64(2): np.float64(0.7594906003638568),\n",
      "                  np.int64(3): np.float64(1.5217496962332928),\n",
      "                  np.int64(4): np.float64(6.626455026455027)},\n",
      "    probability=True)\n",
      "Migliori Parametri: {'kernel': 'rbf', 'C': 1, 'probability': True, 'class_weight': {np.int64(0): np.float64(0.5074554294975688), np.int64(1): np.float64(1.1053839364518976), np.int64(2): np.float64(0.7594906003638568), np.int64(3): np.float64(1.5217496962332928), np.int64(4): np.float64(6.626455026455027)}}\n",
      "----------------------------------------\n",
      "F1 Score (Train): 0.585\n",
      "F1 Score (Validation): 0.425\n",
      "Accuracy (Train): 0.584\n",
      "Accuracy (Validation): 0.420\n",
      "----------------------------------------\n"
     ]
    }
   ],
   "source": [
    "# Ricerca degli iperparametri e valutazione del modello sulle feature ridotte texture\n",
    "best_model_SVC_texture_reduced, best_param_SVC_texture_reduced, f1_train_SVC_texture_reduced, f1_val_SVC_texture_reduced, accuracy_train_SVC_texture_reduced, accuracy_val_SVC_texture_reduced = total(classifier, parameters, X_train_texture_reduced, y_train_texture_reduced, X_val_texture_reduced, y_val_texture_reduced)"
   ]
  },
  {
   "cell_type": "code",
   "execution_count": 48,
   "metadata": {},
   "outputs": [
    {
     "name": "stdout",
     "output_type": "stream",
     "text": [
      "----------------------------------------\n",
      "Classificatore: SVC(C=1,\n",
      "    class_weight={np.int64(0): np.float64(0.5074554294975688),\n",
      "                  np.int64(1): np.float64(1.1053839364518976),\n",
      "                  np.int64(2): np.float64(0.7594906003638568),\n",
      "                  np.int64(3): np.float64(1.5217496962332928),\n",
      "                  np.int64(4): np.float64(6.626455026455027)},\n",
      "    probability=True)\n",
      "Migliori Parametri: {'kernel': 'rbf', 'C': 1, 'probability': True, 'class_weight': {np.int64(0): np.float64(0.5074554294975688), np.int64(1): np.float64(1.1053839364518976), np.int64(2): np.float64(0.7594906003638568), np.int64(3): np.float64(1.5217496962332928), np.int64(4): np.float64(6.626455026455027)}}\n",
      "----------------------------------------\n",
      "F1 Score (Train): 0.626\n",
      "F1 Score (Validation): 0.458\n",
      "Accuracy (Train): 0.626\n",
      "Accuracy (Validation): 0.456\n",
      "----------------------------------------\n"
     ]
    }
   ],
   "source": [
    "# Ricerca degli iperparametri e valutazione del modello sulle feature statistical\n",
    "best_model_SVC_statistical, best_param_SVC_statistical, f1_train_SVC_statistical, f1_val_SVC_statistical, accuracy_train_SVC_statistical, accuracy_val_SVC_statistical = total(classifier, parameters, X_train_statistical, y_train_statistical, X_val_statistical, y_val_statistical)"
   ]
  },
  {
   "cell_type": "code",
   "execution_count": 49,
   "metadata": {},
   "outputs": [
    {
     "name": "stdout",
     "output_type": "stream",
     "text": [
      "----------------------------------------\n",
      "Classificatore: SVC(C=1,\n",
      "    class_weight={np.int64(0): np.float64(0.5074554294975688),\n",
      "                  np.int64(1): np.float64(1.1053839364518976),\n",
      "                  np.int64(2): np.float64(0.7594906003638568),\n",
      "                  np.int64(3): np.float64(1.5217496962332928),\n",
      "                  np.int64(4): np.float64(6.626455026455027)},\n",
      "    probability=True)\n",
      "Migliori Parametri: {'kernel': 'rbf', 'C': 1, 'probability': True, 'class_weight': {np.int64(0): np.float64(0.5074554294975688), np.int64(1): np.float64(1.1053839364518976), np.int64(2): np.float64(0.7594906003638568), np.int64(3): np.float64(1.5217496962332928), np.int64(4): np.float64(6.626455026455027)}}\n",
      "----------------------------------------\n",
      "F1 Score (Train): 0.538\n",
      "F1 Score (Validation): 0.418\n",
      "Accuracy (Train): 0.538\n",
      "Accuracy (Validation): 0.416\n",
      "----------------------------------------\n"
     ]
    }
   ],
   "source": [
    "# Ricerca degli iperparametri e valutazione del modello sulle feature ridotte statistical\n",
    "best_model_SVC_statistical_reduced, best_param_SVC_statistical_reduced, f1_train_SVC_statistical_reduced, f1_val_SVC_statistical_reduced, accuracy_train_SVC_statistical_reduced, accuracy_val_SVC_statistical_reduced = total(classifier, parameters, X_train_statistical_reduced, y_train_statistical_reduced, X_val_statistical_reduced, y_val_statistical_reduced)"
   ]
  },
  {
   "cell_type": "code",
   "execution_count": 50,
   "metadata": {},
   "outputs": [
    {
     "name": "stdout",
     "output_type": "stream",
     "text": [
      "----------------------------------------\n",
      "Classificatore: SVC(C=1,\n",
      "    class_weight={np.int64(0): np.float64(0.5074554294975688),\n",
      "                  np.int64(1): np.float64(1.1053839364518976),\n",
      "                  np.int64(2): np.float64(0.7594906003638568),\n",
      "                  np.int64(3): np.float64(1.5217496962332928),\n",
      "                  np.int64(4): np.float64(6.626455026455027)},\n",
      "    probability=True)\n",
      "Migliori Parametri: {'kernel': 'rbf', 'C': 1, 'probability': True, 'class_weight': {np.int64(0): np.float64(0.5074554294975688), np.int64(1): np.float64(1.1053839364518976), np.int64(2): np.float64(0.7594906003638568), np.int64(3): np.float64(1.5217496962332928), np.int64(4): np.float64(6.626455026455027)}}\n",
      "----------------------------------------\n",
      "F1 Score (Train): 0.346\n",
      "F1 Score (Validation): 0.313\n",
      "Accuracy (Train): 0.339\n",
      "Accuracy (Validation): 0.303\n",
      "----------------------------------------\n"
     ]
    }
   ],
   "source": [
    "# Ricerca degli iperparametri e valutazione del modello sulle feature physiological\n",
    "best_model_SVC_physiological, best_param_SVC_physiological, f1_train_SVC_physiological, f1_val_SVC_physiological, accuracy_train_SVC_physiological, accuracy_val_SVC_physiological = total(classifier, parameters, X_train_physiological, y_train_physiological, X_val_physiological, y_val_physiological)"
   ]
  },
  {
   "cell_type": "code",
   "execution_count": 51,
   "metadata": {},
   "outputs": [
    {
     "data": {
      "text/html": [
       "<div>\n",
       "<style scoped>\n",
       "    .dataframe tbody tr th:only-of-type {\n",
       "        vertical-align: middle;\n",
       "    }\n",
       "\n",
       "    .dataframe tbody tr th {\n",
       "        vertical-align: top;\n",
       "    }\n",
       "\n",
       "    .dataframe thead th {\n",
       "        text-align: right;\n",
       "    }\n",
       "</style>\n",
       "<table border=\"1\" class=\"dataframe\">\n",
       "  <thead>\n",
       "    <tr style=\"text-align: right;\">\n",
       "      <th></th>\n",
       "      <th>Feature</th>\n",
       "      <th>F1 Score (Train)</th>\n",
       "      <th>F1 Score (Validation)</th>\n",
       "      <th>Accuracy (Train)</th>\n",
       "      <th>Accuracy (Validation)</th>\n",
       "    </tr>\n",
       "  </thead>\n",
       "  <tbody>\n",
       "    <tr>\n",
       "      <th>0</th>\n",
       "      <td>All</td>\n",
       "      <td>0.689969</td>\n",
       "      <td>0.479724</td>\n",
       "      <td>0.687640</td>\n",
       "      <td>0.472542</td>\n",
       "    </tr>\n",
       "    <tr>\n",
       "      <th>1</th>\n",
       "      <td>All Reduced</td>\n",
       "      <td>0.647544</td>\n",
       "      <td>0.456208</td>\n",
       "      <td>0.645161</td>\n",
       "      <td>0.450192</td>\n",
       "    </tr>\n",
       "    <tr>\n",
       "      <th>2</th>\n",
       "      <td>Edge</td>\n",
       "      <td>0.441735</td>\n",
       "      <td>0.351647</td>\n",
       "      <td>0.436282</td>\n",
       "      <td>0.345466</td>\n",
       "    </tr>\n",
       "    <tr>\n",
       "      <th>3</th>\n",
       "      <td>Edge Reduced</td>\n",
       "      <td>0.382792</td>\n",
       "      <td>0.330077</td>\n",
       "      <td>0.382785</td>\n",
       "      <td>0.325670</td>\n",
       "    </tr>\n",
       "    <tr>\n",
       "      <th>4</th>\n",
       "      <td>Texture</td>\n",
       "      <td>0.649019</td>\n",
       "      <td>0.454227</td>\n",
       "      <td>0.647237</td>\n",
       "      <td>0.447637</td>\n",
       "    </tr>\n",
       "    <tr>\n",
       "      <th>5</th>\n",
       "      <td>Texture Reduced</td>\n",
       "      <td>0.585036</td>\n",
       "      <td>0.425180</td>\n",
       "      <td>0.583999</td>\n",
       "      <td>0.420179</td>\n",
       "    </tr>\n",
       "    <tr>\n",
       "      <th>6</th>\n",
       "      <td>Statistical</td>\n",
       "      <td>0.626453</td>\n",
       "      <td>0.458210</td>\n",
       "      <td>0.625679</td>\n",
       "      <td>0.455939</td>\n",
       "    </tr>\n",
       "    <tr>\n",
       "      <th>7</th>\n",
       "      <td>Statistical Reduced</td>\n",
       "      <td>0.538001</td>\n",
       "      <td>0.417780</td>\n",
       "      <td>0.538486</td>\n",
       "      <td>0.415709</td>\n",
       "    </tr>\n",
       "    <tr>\n",
       "      <th>8</th>\n",
       "      <td>Physiological</td>\n",
       "      <td>0.345506</td>\n",
       "      <td>0.312891</td>\n",
       "      <td>0.339189</td>\n",
       "      <td>0.302682</td>\n",
       "    </tr>\n",
       "  </tbody>\n",
       "</table>\n",
       "</div>"
      ],
      "text/plain": [
       "               Feature  F1 Score (Train)  F1 Score (Validation)  \\\n",
       "0                  All          0.689969               0.479724   \n",
       "1          All Reduced          0.647544               0.456208   \n",
       "2                 Edge          0.441735               0.351647   \n",
       "3         Edge Reduced          0.382792               0.330077   \n",
       "4              Texture          0.649019               0.454227   \n",
       "5      Texture Reduced          0.585036               0.425180   \n",
       "6          Statistical          0.626453               0.458210   \n",
       "7  Statistical Reduced          0.538001               0.417780   \n",
       "8        Physiological          0.345506               0.312891   \n",
       "\n",
       "   Accuracy (Train)  Accuracy (Validation)  \n",
       "0          0.687640               0.472542  \n",
       "1          0.645161               0.450192  \n",
       "2          0.436282               0.345466  \n",
       "3          0.382785               0.325670  \n",
       "4          0.647237               0.447637  \n",
       "5          0.583999               0.420179  \n",
       "6          0.625679               0.455939  \n",
       "7          0.538486               0.415709  \n",
       "8          0.339189               0.302682  "
      ]
     },
     "execution_count": 51,
     "metadata": {},
     "output_type": "execute_result"
    }
   ],
   "source": [
    "# Stampa dei risultati in un DataFrame per confrontare le performance del modello su diverse feature\n",
    "results_SVC = pd.DataFrame({\n",
    "    'Feature': ['All', 'All Reduced', 'Edge', 'Edge Reduced', 'Texture', 'Texture Reduced', 'Statistical', 'Statistical Reduced', 'Physiological'],\n",
    "    'F1 Score (Train)': [f1_train_SVC, f1_train_SVC_reduced, f1_train_SVC_edge, f1_train_SVC_edge_reduced, f1_train_SVC_texture, f1_train_SVC_texture_reduced, f1_train_SVC_statistical, f1_train_SVC_statistical_reduced, f1_train_SVC_physiological],\n",
    "    'F1 Score (Validation)': [f1_val_SVC, f1_val_SVC_reduced, f1_val_SVC_edge, f1_val_SVC_edge_reduced, f1_val_SVC_texture, f1_val_SVC_texture_reduced, f1_val_SVC_statistical, f1_val_SVC_statistical_reduced, f1_val_SVC_physiological],\n",
    "    'Accuracy (Train)': [accuracy_train_SVC, accuracy_train_SVC_reduced, accuracy_train_SVC_edge, accuracy_train_SVC_edge_reduced, accuracy_train_SVC_texture, accuracy_train_SVC_texture_reduced, accuracy_train_SVC_statistical, accuracy_train_SVC_statistical_reduced, accuracy_train_SVC_physiological],\n",
    "    'Accuracy (Validation)': [accuracy_val_SVC, accuracy_val_SVC_reduced, accuracy_val_SVC_edge, accuracy_val_SVC_edge_reduced, accuracy_val_SVC_texture, accuracy_val_SVC_texture_reduced, accuracy_val_SVC_statistical, accuracy_val_SVC_statistical_reduced, accuracy_val_SVC_physiological]\n",
    "})\n",
    "\n",
    "results_SVC"
   ]
  },
  {
   "cell_type": "markdown",
   "metadata": {},
   "source": [
    "## Risultati Model Fitting and Validation Senza PCA\n",
    "\n",
    "I risultati ottenuti dai vari modelli indicano che l'uso di un singolo tipo di feature (come edge, texture, statistical, ecc.) porta a performance peggiori rispetto alla combinazione di tutte le feature. Questo conferma l'importanza di utilizzare un insieme più ampio di informazioni per il modello. Inoltre, i risultati mostrano che la **riduzione delle feature** (rimuovendo le patch che non contengono lo spazio articolare) non porta a un abbassamento delle performance, anzi, conferma l'efficacia della prima feature reduction (da 327 a 127)."
   ]
  },
  {
   "cell_type": "code",
   "execution_count": 52,
   "metadata": {},
   "outputs": [
    {
     "data": {
      "text/html": [
       "<div>\n",
       "<style scoped>\n",
       "    .dataframe tbody tr th:only-of-type {\n",
       "        vertical-align: middle;\n",
       "    }\n",
       "\n",
       "    .dataframe tbody tr th {\n",
       "        vertical-align: top;\n",
       "    }\n",
       "\n",
       "    .dataframe thead th {\n",
       "        text-align: right;\n",
       "    }\n",
       "</style>\n",
       "<table border=\"1\" class=\"dataframe\">\n",
       "  <thead>\n",
       "    <tr style=\"text-align: right;\">\n",
       "      <th></th>\n",
       "      <th>Feature</th>\n",
       "      <th>F1 Score (Train)</th>\n",
       "      <th>F1 Score (Validation)</th>\n",
       "      <th>Accuracy (Train)</th>\n",
       "      <th>Accuracy (Validation)</th>\n",
       "    </tr>\n",
       "  </thead>\n",
       "  <tbody>\n",
       "    <tr>\n",
       "      <th>0</th>\n",
       "      <td>All</td>\n",
       "      <td>0.750483</td>\n",
       "      <td>0.433772</td>\n",
       "      <td>0.749920</td>\n",
       "      <td>0.436782</td>\n",
       "    </tr>\n",
       "    <tr>\n",
       "      <th>1</th>\n",
       "      <td>All Reduced</td>\n",
       "      <td>0.650984</td>\n",
       "      <td>0.427869</td>\n",
       "      <td>0.652986</td>\n",
       "      <td>0.433589</td>\n",
       "    </tr>\n",
       "    <tr>\n",
       "      <th>2</th>\n",
       "      <td>Edge</td>\n",
       "      <td>0.586212</td>\n",
       "      <td>0.391602</td>\n",
       "      <td>0.588151</td>\n",
       "      <td>0.390805</td>\n",
       "    </tr>\n",
       "    <tr>\n",
       "      <th>3</th>\n",
       "      <td>Edge Reduced</td>\n",
       "      <td>0.523171</td>\n",
       "      <td>0.372827</td>\n",
       "      <td>0.527627</td>\n",
       "      <td>0.373563</td>\n",
       "    </tr>\n",
       "    <tr>\n",
       "      <th>4</th>\n",
       "      <td>Texture</td>\n",
       "      <td>0.745432</td>\n",
       "      <td>0.417147</td>\n",
       "      <td>0.746567</td>\n",
       "      <td>0.421456</td>\n",
       "    </tr>\n",
       "    <tr>\n",
       "      <th>5</th>\n",
       "      <td>Texture Reduced</td>\n",
       "      <td>0.690907</td>\n",
       "      <td>0.411130</td>\n",
       "      <td>0.692271</td>\n",
       "      <td>0.415709</td>\n",
       "    </tr>\n",
       "    <tr>\n",
       "      <th>6</th>\n",
       "      <td>Statistical</td>\n",
       "      <td>0.706805</td>\n",
       "      <td>0.429741</td>\n",
       "      <td>0.707442</td>\n",
       "      <td>0.432312</td>\n",
       "    </tr>\n",
       "    <tr>\n",
       "      <th>7</th>\n",
       "      <td>Statistical Reduced</td>\n",
       "      <td>0.533423</td>\n",
       "      <td>0.396264</td>\n",
       "      <td>0.535612</td>\n",
       "      <td>0.396552</td>\n",
       "    </tr>\n",
       "    <tr>\n",
       "      <th>8</th>\n",
       "      <td>Physiological</td>\n",
       "      <td>0.562372</td>\n",
       "      <td>0.351672</td>\n",
       "      <td>0.562600</td>\n",
       "      <td>0.345466</td>\n",
       "    </tr>\n",
       "  </tbody>\n",
       "</table>\n",
       "</div>"
      ],
      "text/plain": [
       "               Feature  F1 Score (Train)  F1 Score (Validation)  \\\n",
       "0                  All          0.750483               0.433772   \n",
       "1          All Reduced          0.650984               0.427869   \n",
       "2                 Edge          0.586212               0.391602   \n",
       "3         Edge Reduced          0.523171               0.372827   \n",
       "4              Texture          0.745432               0.417147   \n",
       "5      Texture Reduced          0.690907               0.411130   \n",
       "6          Statistical          0.706805               0.429741   \n",
       "7  Statistical Reduced          0.533423               0.396264   \n",
       "8        Physiological          0.562372               0.351672   \n",
       "\n",
       "   Accuracy (Train)  Accuracy (Validation)  \n",
       "0          0.749920               0.436782  \n",
       "1          0.652986               0.433589  \n",
       "2          0.588151               0.390805  \n",
       "3          0.527627               0.373563  \n",
       "4          0.746567               0.421456  \n",
       "5          0.692271               0.415709  \n",
       "6          0.707442               0.432312  \n",
       "7          0.535612               0.396552  \n",
       "8          0.562600               0.345466  "
      ]
     },
     "execution_count": 52,
     "metadata": {},
     "output_type": "execute_result"
    }
   ],
   "source": [
    "results_RF"
   ]
  },
  {
   "cell_type": "code",
   "execution_count": 53,
   "metadata": {},
   "outputs": [
    {
     "data": {
      "text/html": [
       "<div>\n",
       "<style scoped>\n",
       "    .dataframe tbody tr th:only-of-type {\n",
       "        vertical-align: middle;\n",
       "    }\n",
       "\n",
       "    .dataframe tbody tr th {\n",
       "        vertical-align: top;\n",
       "    }\n",
       "\n",
       "    .dataframe thead th {\n",
       "        text-align: right;\n",
       "    }\n",
       "</style>\n",
       "<table border=\"1\" class=\"dataframe\">\n",
       "  <thead>\n",
       "    <tr style=\"text-align: right;\">\n",
       "      <th></th>\n",
       "      <th>Feature</th>\n",
       "      <th>F1 Score (Train)</th>\n",
       "      <th>F1 Score (Validation)</th>\n",
       "      <th>Accuracy (Train)</th>\n",
       "      <th>Accuracy (Validation)</th>\n",
       "    </tr>\n",
       "  </thead>\n",
       "  <tbody>\n",
       "    <tr>\n",
       "      <th>0</th>\n",
       "      <td>All</td>\n",
       "      <td>0.481058</td>\n",
       "      <td>0.380353</td>\n",
       "      <td>0.487863</td>\n",
       "      <td>0.381865</td>\n",
       "    </tr>\n",
       "    <tr>\n",
       "      <th>1</th>\n",
       "      <td>All Reduced</td>\n",
       "      <td>0.476041</td>\n",
       "      <td>0.367868</td>\n",
       "      <td>0.480677</td>\n",
       "      <td>0.371009</td>\n",
       "    </tr>\n",
       "    <tr>\n",
       "      <th>2</th>\n",
       "      <td>Edge</td>\n",
       "      <td>0.441194</td>\n",
       "      <td>0.346136</td>\n",
       "      <td>0.452571</td>\n",
       "      <td>0.351852</td>\n",
       "    </tr>\n",
       "    <tr>\n",
       "      <th>3</th>\n",
       "      <td>Edge Reduced</td>\n",
       "      <td>0.405685</td>\n",
       "      <td>0.352134</td>\n",
       "      <td>0.419355</td>\n",
       "      <td>0.362069</td>\n",
       "    </tr>\n",
       "    <tr>\n",
       "      <th>4</th>\n",
       "      <td>Texture</td>\n",
       "      <td>0.448217</td>\n",
       "      <td>0.368681</td>\n",
       "      <td>0.463750</td>\n",
       "      <td>0.381865</td>\n",
       "    </tr>\n",
       "    <tr>\n",
       "      <th>5</th>\n",
       "      <td>Texture Reduced</td>\n",
       "      <td>0.489484</td>\n",
       "      <td>0.360220</td>\n",
       "      <td>0.498882</td>\n",
       "      <td>0.365900</td>\n",
       "    </tr>\n",
       "    <tr>\n",
       "      <th>6</th>\n",
       "      <td>Statistical</td>\n",
       "      <td>0.451171</td>\n",
       "      <td>0.374864</td>\n",
       "      <td>0.455925</td>\n",
       "      <td>0.374840</td>\n",
       "    </tr>\n",
       "    <tr>\n",
       "      <th>7</th>\n",
       "      <td>Statistical Reduced</td>\n",
       "      <td>0.393259</td>\n",
       "      <td>0.342453</td>\n",
       "      <td>0.408496</td>\n",
       "      <td>0.358238</td>\n",
       "    </tr>\n",
       "    <tr>\n",
       "      <th>8</th>\n",
       "      <td>Physiological</td>\n",
       "      <td>0.382197</td>\n",
       "      <td>0.303073</td>\n",
       "      <td>0.380869</td>\n",
       "      <td>0.295019</td>\n",
       "    </tr>\n",
       "  </tbody>\n",
       "</table>\n",
       "</div>"
      ],
      "text/plain": [
       "               Feature  F1 Score (Train)  F1 Score (Validation)  \\\n",
       "0                  All          0.481058               0.380353   \n",
       "1          All Reduced          0.476041               0.367868   \n",
       "2                 Edge          0.441194               0.346136   \n",
       "3         Edge Reduced          0.405685               0.352134   \n",
       "4              Texture          0.448217               0.368681   \n",
       "5      Texture Reduced          0.489484               0.360220   \n",
       "6          Statistical          0.451171               0.374864   \n",
       "7  Statistical Reduced          0.393259               0.342453   \n",
       "8        Physiological          0.382197               0.303073   \n",
       "\n",
       "   Accuracy (Train)  Accuracy (Validation)  \n",
       "0          0.487863               0.381865  \n",
       "1          0.480677               0.371009  \n",
       "2          0.452571               0.351852  \n",
       "3          0.419355               0.362069  \n",
       "4          0.463750               0.381865  \n",
       "5          0.498882               0.365900  \n",
       "6          0.455925               0.374840  \n",
       "7          0.408496               0.358238  \n",
       "8          0.380869               0.295019  "
      ]
     },
     "execution_count": 53,
     "metadata": {},
     "output_type": "execute_result"
    }
   ],
   "source": [
    "results_BC"
   ]
  },
  {
   "cell_type": "code",
   "execution_count": 54,
   "metadata": {},
   "outputs": [
    {
     "data": {
      "text/html": [
       "<div>\n",
       "<style scoped>\n",
       "    .dataframe tbody tr th:only-of-type {\n",
       "        vertical-align: middle;\n",
       "    }\n",
       "\n",
       "    .dataframe tbody tr th {\n",
       "        vertical-align: top;\n",
       "    }\n",
       "\n",
       "    .dataframe thead th {\n",
       "        text-align: right;\n",
       "    }\n",
       "</style>\n",
       "<table border=\"1\" class=\"dataframe\">\n",
       "  <thead>\n",
       "    <tr style=\"text-align: right;\">\n",
       "      <th></th>\n",
       "      <th>Feature</th>\n",
       "      <th>F1 Score (Train)</th>\n",
       "      <th>F1 Score (Validation)</th>\n",
       "      <th>Accuracy (Train)</th>\n",
       "      <th>Accuracy (Validation)</th>\n",
       "    </tr>\n",
       "  </thead>\n",
       "  <tbody>\n",
       "    <tr>\n",
       "      <th>0</th>\n",
       "      <td>All</td>\n",
       "      <td>0.552178</td>\n",
       "      <td>0.400950</td>\n",
       "      <td>0.552060</td>\n",
       "      <td>0.400383</td>\n",
       "    </tr>\n",
       "    <tr>\n",
       "      <th>1</th>\n",
       "      <td>All Reduced</td>\n",
       "      <td>0.517564</td>\n",
       "      <td>0.409504</td>\n",
       "      <td>0.516768</td>\n",
       "      <td>0.404853</td>\n",
       "    </tr>\n",
       "    <tr>\n",
       "      <th>2</th>\n",
       "      <td>Edge</td>\n",
       "      <td>0.507913</td>\n",
       "      <td>0.377127</td>\n",
       "      <td>0.509103</td>\n",
       "      <td>0.379949</td>\n",
       "    </tr>\n",
       "    <tr>\n",
       "      <th>3</th>\n",
       "      <td>Edge Reduced</td>\n",
       "      <td>0.446633</td>\n",
       "      <td>0.353551</td>\n",
       "      <td>0.446662</td>\n",
       "      <td>0.354406</td>\n",
       "    </tr>\n",
       "    <tr>\n",
       "      <th>4</th>\n",
       "      <td>Texture</td>\n",
       "      <td>0.572991</td>\n",
       "      <td>0.383552</td>\n",
       "      <td>0.573299</td>\n",
       "      <td>0.385696</td>\n",
       "    </tr>\n",
       "    <tr>\n",
       "      <th>5</th>\n",
       "      <td>Texture Reduced</td>\n",
       "      <td>0.505399</td>\n",
       "      <td>0.388311</td>\n",
       "      <td>0.513734</td>\n",
       "      <td>0.393997</td>\n",
       "    </tr>\n",
       "    <tr>\n",
       "      <th>6</th>\n",
       "      <td>Statistical</td>\n",
       "      <td>0.536857</td>\n",
       "      <td>0.393364</td>\n",
       "      <td>0.539285</td>\n",
       "      <td>0.392082</td>\n",
       "    </tr>\n",
       "    <tr>\n",
       "      <th>7</th>\n",
       "      <td>Statistical Reduced</td>\n",
       "      <td>0.481290</td>\n",
       "      <td>0.375591</td>\n",
       "      <td>0.483871</td>\n",
       "      <td>0.375479</td>\n",
       "    </tr>\n",
       "    <tr>\n",
       "      <th>8</th>\n",
       "      <td>Physiological</td>\n",
       "      <td>0.439618</td>\n",
       "      <td>0.326540</td>\n",
       "      <td>0.442351</td>\n",
       "      <td>0.323116</td>\n",
       "    </tr>\n",
       "  </tbody>\n",
       "</table>\n",
       "</div>"
      ],
      "text/plain": [
       "               Feature  F1 Score (Train)  F1 Score (Validation)  \\\n",
       "0                  All          0.552178               0.400950   \n",
       "1          All Reduced          0.517564               0.409504   \n",
       "2                 Edge          0.507913               0.377127   \n",
       "3         Edge Reduced          0.446633               0.353551   \n",
       "4              Texture          0.572991               0.383552   \n",
       "5      Texture Reduced          0.505399               0.388311   \n",
       "6          Statistical          0.536857               0.393364   \n",
       "7  Statistical Reduced          0.481290               0.375591   \n",
       "8        Physiological          0.439618               0.326540   \n",
       "\n",
       "   Accuracy (Train)  Accuracy (Validation)  \n",
       "0          0.552060               0.400383  \n",
       "1          0.516768               0.404853  \n",
       "2          0.509103               0.379949  \n",
       "3          0.446662               0.354406  \n",
       "4          0.573299               0.385696  \n",
       "5          0.513734               0.393997  \n",
       "6          0.539285               0.392082  \n",
       "7          0.483871               0.375479  \n",
       "8          0.442351               0.323116  "
      ]
     },
     "execution_count": 54,
     "metadata": {},
     "output_type": "execute_result"
    }
   ],
   "source": [
    "results_AB"
   ]
  },
  {
   "cell_type": "code",
   "execution_count": 55,
   "metadata": {},
   "outputs": [
    {
     "data": {
      "text/html": [
       "<div>\n",
       "<style scoped>\n",
       "    .dataframe tbody tr th:only-of-type {\n",
       "        vertical-align: middle;\n",
       "    }\n",
       "\n",
       "    .dataframe tbody tr th {\n",
       "        vertical-align: top;\n",
       "    }\n",
       "\n",
       "    .dataframe thead th {\n",
       "        text-align: right;\n",
       "    }\n",
       "</style>\n",
       "<table border=\"1\" class=\"dataframe\">\n",
       "  <thead>\n",
       "    <tr style=\"text-align: right;\">\n",
       "      <th></th>\n",
       "      <th>Feature</th>\n",
       "      <th>F1 Score (Train)</th>\n",
       "      <th>F1 Score (Validation)</th>\n",
       "      <th>Accuracy (Train)</th>\n",
       "      <th>Accuracy (Validation)</th>\n",
       "    </tr>\n",
       "  </thead>\n",
       "  <tbody>\n",
       "    <tr>\n",
       "      <th>0</th>\n",
       "      <td>All</td>\n",
       "      <td>0.689969</td>\n",
       "      <td>0.479724</td>\n",
       "      <td>0.687640</td>\n",
       "      <td>0.472542</td>\n",
       "    </tr>\n",
       "    <tr>\n",
       "      <th>1</th>\n",
       "      <td>All Reduced</td>\n",
       "      <td>0.647544</td>\n",
       "      <td>0.456208</td>\n",
       "      <td>0.645161</td>\n",
       "      <td>0.450192</td>\n",
       "    </tr>\n",
       "    <tr>\n",
       "      <th>2</th>\n",
       "      <td>Edge</td>\n",
       "      <td>0.441735</td>\n",
       "      <td>0.351647</td>\n",
       "      <td>0.436282</td>\n",
       "      <td>0.345466</td>\n",
       "    </tr>\n",
       "    <tr>\n",
       "      <th>3</th>\n",
       "      <td>Edge Reduced</td>\n",
       "      <td>0.382792</td>\n",
       "      <td>0.330077</td>\n",
       "      <td>0.382785</td>\n",
       "      <td>0.325670</td>\n",
       "    </tr>\n",
       "    <tr>\n",
       "      <th>4</th>\n",
       "      <td>Texture</td>\n",
       "      <td>0.649019</td>\n",
       "      <td>0.454227</td>\n",
       "      <td>0.647237</td>\n",
       "      <td>0.447637</td>\n",
       "    </tr>\n",
       "    <tr>\n",
       "      <th>5</th>\n",
       "      <td>Texture Reduced</td>\n",
       "      <td>0.585036</td>\n",
       "      <td>0.425180</td>\n",
       "      <td>0.583999</td>\n",
       "      <td>0.420179</td>\n",
       "    </tr>\n",
       "    <tr>\n",
       "      <th>6</th>\n",
       "      <td>Statistical</td>\n",
       "      <td>0.626453</td>\n",
       "      <td>0.458210</td>\n",
       "      <td>0.625679</td>\n",
       "      <td>0.455939</td>\n",
       "    </tr>\n",
       "    <tr>\n",
       "      <th>7</th>\n",
       "      <td>Statistical Reduced</td>\n",
       "      <td>0.538001</td>\n",
       "      <td>0.417780</td>\n",
       "      <td>0.538486</td>\n",
       "      <td>0.415709</td>\n",
       "    </tr>\n",
       "    <tr>\n",
       "      <th>8</th>\n",
       "      <td>Physiological</td>\n",
       "      <td>0.345506</td>\n",
       "      <td>0.312891</td>\n",
       "      <td>0.339189</td>\n",
       "      <td>0.302682</td>\n",
       "    </tr>\n",
       "  </tbody>\n",
       "</table>\n",
       "</div>"
      ],
      "text/plain": [
       "               Feature  F1 Score (Train)  F1 Score (Validation)  \\\n",
       "0                  All          0.689969               0.479724   \n",
       "1          All Reduced          0.647544               0.456208   \n",
       "2                 Edge          0.441735               0.351647   \n",
       "3         Edge Reduced          0.382792               0.330077   \n",
       "4              Texture          0.649019               0.454227   \n",
       "5      Texture Reduced          0.585036               0.425180   \n",
       "6          Statistical          0.626453               0.458210   \n",
       "7  Statistical Reduced          0.538001               0.417780   \n",
       "8        Physiological          0.345506               0.312891   \n",
       "\n",
       "   Accuracy (Train)  Accuracy (Validation)  \n",
       "0          0.687640               0.472542  \n",
       "1          0.645161               0.450192  \n",
       "2          0.436282               0.345466  \n",
       "3          0.382785               0.325670  \n",
       "4          0.647237               0.447637  \n",
       "5          0.583999               0.420179  \n",
       "6          0.625679               0.455939  \n",
       "7          0.538486               0.415709  \n",
       "8          0.339189               0.302682  "
      ]
     },
     "execution_count": 55,
     "metadata": {},
     "output_type": "execute_result"
    }
   ],
   "source": [
    "results_SVC"
   ]
  },
  {
   "cell_type": "code",
   "execution_count": 56,
   "metadata": {},
   "outputs": [
    {
     "name": "stdout",
     "output_type": "stream",
     "text": [
      "Shape di X_train_reduced:\n",
      "(6262, 127)\n",
      "Shape di X_val_reduced:\n",
      "(1566, 127)\n",
      "Shape di X_test_reduced:\n",
      "(1958, 127)\n"
     ]
    }
   ],
   "source": [
    "# Print delle shape di X_train, X_val e X_test reduced\n",
    "print('Shape di X_train_reduced:')\n",
    "print(X_train_reduced.shape)\n",
    "\n",
    "print('Shape di X_val_reduced:')\n",
    "print(X_val_reduced.shape)\n",
    "\n",
    "print('Shape di X_test_reduced:')\n",
    "print(X_test_reduced.shape)\n"
   ]
  },
  {
   "cell_type": "markdown",
   "metadata": {},
   "source": [
    "Di seguito le metriche su training e validation della migliore combinazione di features (tutte le feature tolte le patch inutili pre-PCA) di tutti e quattro i modelli"
   ]
  },
  {
   "cell_type": "code",
   "execution_count": 57,
   "metadata": {},
   "outputs": [
    {
     "data": {
      "text/html": [
       "<div>\n",
       "<style scoped>\n",
       "    .dataframe tbody tr th:only-of-type {\n",
       "        vertical-align: middle;\n",
       "    }\n",
       "\n",
       "    .dataframe tbody tr th {\n",
       "        vertical-align: top;\n",
       "    }\n",
       "\n",
       "    .dataframe thead th {\n",
       "        text-align: right;\n",
       "    }\n",
       "</style>\n",
       "<table border=\"1\" class=\"dataframe\">\n",
       "  <thead>\n",
       "    <tr style=\"text-align: right;\">\n",
       "      <th></th>\n",
       "      <th>Model</th>\n",
       "      <th>F1 Score (Train)</th>\n",
       "      <th>F1 Score (Validation)</th>\n",
       "      <th>Accuracy (Train)</th>\n",
       "      <th>Accuracy (Validation)</th>\n",
       "    </tr>\n",
       "  </thead>\n",
       "  <tbody>\n",
       "    <tr>\n",
       "      <th>0</th>\n",
       "      <td>Random Forest</td>\n",
       "      <td>0.650984</td>\n",
       "      <td>0.427869</td>\n",
       "      <td>0.652986</td>\n",
       "      <td>0.433589</td>\n",
       "    </tr>\n",
       "    <tr>\n",
       "      <th>1</th>\n",
       "      <td>Bagging</td>\n",
       "      <td>0.476041</td>\n",
       "      <td>0.367868</td>\n",
       "      <td>0.480677</td>\n",
       "      <td>0.371009</td>\n",
       "    </tr>\n",
       "    <tr>\n",
       "      <th>2</th>\n",
       "      <td>AdaBoost</td>\n",
       "      <td>0.517564</td>\n",
       "      <td>0.409504</td>\n",
       "      <td>0.516768</td>\n",
       "      <td>0.404853</td>\n",
       "    </tr>\n",
       "    <tr>\n",
       "      <th>3</th>\n",
       "      <td>SVC</td>\n",
       "      <td>0.647544</td>\n",
       "      <td>0.456208</td>\n",
       "      <td>0.645161</td>\n",
       "      <td>0.450192</td>\n",
       "    </tr>\n",
       "  </tbody>\n",
       "</table>\n",
       "</div>"
      ],
      "text/plain": [
       "           Model  F1 Score (Train)  F1 Score (Validation)  Accuracy (Train)  \\\n",
       "0  Random Forest          0.650984               0.427869          0.652986   \n",
       "1        Bagging          0.476041               0.367868          0.480677   \n",
       "2       AdaBoost          0.517564               0.409504          0.516768   \n",
       "3            SVC          0.647544               0.456208          0.645161   \n",
       "\n",
       "   Accuracy (Validation)  \n",
       "0               0.433589  \n",
       "1               0.371009  \n",
       "2               0.404853  \n",
       "3               0.450192  "
      ]
     },
     "execution_count": 57,
     "metadata": {},
     "output_type": "execute_result"
    }
   ],
   "source": [
    "# Dataframe con modelli sulle righe e metriche sulle colonne per confrontare i modelli sul training set e sul validation set con le feature ridotte\n",
    "results_reduced = pd.DataFrame({\n",
    "    'Model': ['Random Forest', 'Bagging', 'AdaBoost', 'SVC'],\n",
    "    'F1 Score (Train)': [f1_train_RF_reduced, f1_train_BC_reduced, f1_train_AB_reduced, f1_train_SVC_reduced],\n",
    "    'F1 Score (Validation)': [f1_val_RF_reduced, f1_val_BC_reduced, f1_val_AB_reduced, f1_val_SVC_reduced],\n",
    "    'Accuracy (Train)': [accuracy_train_RF_reduced, accuracy_train_BC_reduced, accuracy_train_AB_reduced, accuracy_train_SVC_reduced],\n",
    "    'Accuracy (Validation)': [accuracy_val_RF_reduced, accuracy_val_BC_reduced, accuracy_val_AB_reduced, accuracy_val_SVC_reduced]\n",
    "})\n",
    "\n",
    "results_reduced"
   ]
  },
  {
   "cell_type": "markdown",
   "metadata": {},
   "source": [
    "## Seconda Riduzione delle Feature: PCA\n",
    "\n",
    "Dopo aver ottenuto i migliori risultati con l'approccio di **feature selection** (riducendo le patch non rilevanti), si decide di applicare un'ulteriore riduzione delle feature tramite **Principal Component Analysis (PCA)**. Questo approccio mira a ridurre la dimensionalità del dataset preservando la varianza e la struttura informativa più importante, con l'intento di vedere se le performance del modello rimangono simili o addirittura migliorano.\n",
    "\n",
    "Ho applicato la PCA sul **training set** e, successivamente, ho deciso di mantenere circa il **90% della varianza** (precisamente il **92%**), selezionando le prime 45 componenti principali. Dopo aver applicato la PCA sul training set, ho applicato le stesse trasformazioni anche sul **validation set** e **test set** utilizzando la combinazione di feature migliore ottenuta nella fase di riduzione precedente.\n",
    "\n",
    "L'obiettivo è confrontare i risultati ottenuti utilizzando le 127 feature con quelli ottenuti dopo la riduzione tramite PCA (45 features), per vedere se questa ulteriore riduzione della dimensionalità ha un impatto sulle performance del modello."
   ]
  },
  {
   "cell_type": "code",
   "execution_count": 58,
   "metadata": {},
   "outputs": [
    {
     "data": {
      "image/png": "[encoded data removed]",
      "text/plain": [
       "<Figure size 640x480 with 1 Axes>"
      ]
     },
     "metadata": {},
     "output_type": "display_data"
    }
   ],
   "source": [
    "pca = PCA() \n",
    "X_train_reduced_pca = pca.fit_transform(X_train_reduced)\n",
    "X_val_reduced_pca = pca.transform(X_val_reduced)\n",
    "X_test_reduced_pca = pca.transform(X_test_reduced)\n",
    "\n",
    "# Stampa della varianza spiegata per ogni componente principale\n",
    "explained_variance_ratio = pca.explained_variance_ratio_\n",
    "cumulative_variance_ratio = np.cumsum(explained_variance_ratio)\n",
    "\n",
    "# Plot della varianza spiegata cumulativa\n",
    "plt.bar(range(len(cumulative_variance_ratio)), cumulative_variance_ratio, color=colors)\n",
    "plt.xlabel('Numero di componenti principali')\n",
    "plt.ylabel('Varianza spiegata cumulativa')\n",
    "plt.title('Varianza spiegata cumulativa vs Numero di componenti principali')\n",
    "plt.show()"
   ]
  },
  {
   "cell_type": "code",
   "execution_count": 59,
   "metadata": {},
   "outputs": [
    {
     "name": "stdout",
     "output_type": "stream",
     "text": [
      "Varianza spiegata dalle prime 45 componenti: 0.92\n"
     ]
    }
   ],
   "source": [
    "# Usare solo le prime 45 componenti principali\n",
    "pca = PCA(n_components=45)\n",
    "X_train_reduced_pca = pca.fit_transform(X_train_reduced)\n",
    "X_val_reduced_pca = pca.transform(X_val_reduced)\n",
    "X_test_reduced_pca = pca.transform(X_test_reduced)\n",
    "\n",
    "explained_variance_45 = np.sum(pca.explained_variance_ratio_)\n",
    "print(f\"Varianza spiegata dalle prime 45 componenti: {explained_variance_45:.2f}\")"
   ]
  },
  {
   "cell_type": "markdown",
   "metadata": {},
   "source": [
    "## Model fitting and validation con PCA\n",
    "Dopo aver applicato la PCA per la riduzione della dimensionalità, i modelli vengono addestrati sui dati trasformati. Vengono utilizzati gli stessi modelli (Random Forest, Bagging, AdaBoost, SVC) per valutare se l'applicazione della PCA mantiene le performance simili a quelle ottenute senza PCA."
   ]
  },
  {
   "cell_type": "markdown",
   "metadata": {},
   "source": [
    "### Random Forest"
   ]
  },
  {
   "cell_type": "code",
   "execution_count": 60,
   "metadata": {},
   "outputs": [
    {
     "name": "stdout",
     "output_type": "stream",
     "text": [
      "----------------------------------------\n",
      "Classificatore: RandomForestClassifier(class_weight={np.int64(0): np.float64(0.5074554294975688),\n",
      "                                     np.int64(1): np.float64(1.1053839364518976),\n",
      "                                     np.int64(2): np.float64(0.7594906003638568),\n",
      "                                     np.int64(3): np.float64(1.5217496962332928),\n",
      "                                     np.int64(4): np.float64(6.626455026455027)},\n",
      "                       max_depth=10, min_samples_leaf=6, min_samples_split=4,\n",
      "                       n_estimators=23)\n",
      "Migliori Parametri: {'n_estimators': 21, 'criterion': 'gini', 'max_depth': 9, 'min_samples_split': 4, 'min_samples_leaf': 6, 'class_weight': {np.int64(0): np.float64(0.5074554294975688), np.int64(1): np.float64(1.1053839364518976), np.int64(2): np.float64(0.7594906003638568), np.int64(3): np.float64(1.5217496962332928), np.int64(4): np.float64(6.626455026455027)}}\n",
      "----------------------------------------\n",
      "F1 Score (Train): 0.645\n",
      "F1 Score (Validation): 0.404\n",
      "Accuracy (Train): 0.646\n",
      "Accuracy (Validation): 0.404\n",
      "----------------------------------------\n"
     ]
    }
   ],
   "source": [
    "classifier = RandomForestClassifier()\n",
    "\n",
    "parameters = {'n_estimators' : [19,20,21,22,23],\n",
    "    'criterion' : ['gini'],\n",
    "             'max_depth' : [4,5,6,7,8,9,10], \n",
    "             'min_samples_split' : [2,3,4],\n",
    "              'min_samples_leaf' : [4,5,6],\n",
    "              'class_weight': [class_weights]\n",
    "             }\n",
    "\n",
    "# Ricerca degli iperparametri e valutazione del modello sul dataset ridotto e trasformato con PCA (45 componenti principali)\n",
    "best_model_RF_reduced_pca, best_param_RF_reduced_pca, f1_train_RF_reduced_pca, f1_val_RF_reduced_pca, accuracy_train_RF_reduced_pca, accuracy_val_RF_reduced_pca = total(classifier, parameters, X_train_reduced_pca, y_train_reduced, X_val_reduced_pca, y_val_reduced)"
   ]
  },
  {
   "cell_type": "markdown",
   "metadata": {},
   "source": [
    "### Bagging Tree Classifier"
   ]
  },
  {
   "cell_type": "code",
   "execution_count": 61,
   "metadata": {},
   "outputs": [
    {
     "name": "stdout",
     "output_type": "stream",
     "text": [
      "----------------------------------------\n",
      "Classificatore: BaggingClassifier(estimator=DecisionTreeClassifier(class_weight={np.int64(0): np.float64(0.5074554294975688),\n",
      "                                                                 np.int64(1): np.float64(1.1053839364518976),\n",
      "                                                                 np.int64(2): np.float64(0.7594906003638568),\n",
      "                                                                 np.int64(3): np.float64(1.5217496962332928),\n",
      "                                                                 np.int64(4): np.float64(6.626455026455027)},\n",
      "                                                   max_depth=7,\n",
      "                                                   min_samples_leaf=5,\n",
      "                                                   min_samples_split=17),\n",
      "                  n_estimators=9, random_state=2)\n",
      "Migliori Parametri: {'n_estimators': 6, 'estimator': DecisionTreeClassifier(class_weight={np.int64(0): np.float64(0.5074554294975688),\n",
      "                                     np.int64(1): np.float64(1.1053839364518976),\n",
      "                                     np.int64(2): np.float64(0.7594906003638568),\n",
      "                                     np.int64(3): np.float64(1.5217496962332928),\n",
      "                                     np.int64(4): np.float64(6.626455026455027)},\n",
      "                       max_depth=7, min_samples_leaf=5, min_samples_split=17), 'random_state': 2}\n",
      "----------------------------------------\n",
      "F1 Score (Train): 0.468\n",
      "F1 Score (Validation): 0.376\n",
      "Accuracy (Train): 0.467\n",
      "Accuracy (Validation): 0.370\n",
      "----------------------------------------\n"
     ]
    }
   ],
   "source": [
    "classifier = BaggingClassifier()\n",
    "base = DecisionTreeClassifier(criterion='gini', max_depth=7, min_samples_leaf=5, min_samples_split=17, class_weight=class_weights)\n",
    "\n",
    "parameters = {'n_estimators':[4,5,6,7,8,9],\n",
    "              'estimator':[base],\n",
    "              'random_state':[2]}\n",
    "\n",
    "# Ricerca degli iperparametri e valutazione del modello sul dataset ridotto e trasformato con PCA (45 componenti principali)classifier = BaggingClassifier()\n",
    "best_model_BC_reduced_pca, best_param_BC_reduced_pca, f1_train_BC_reduced_pca, f1_val_BC_reduced_pca, accuracy_train_BC_reduced_pca, accuracy_val_BC_reduced_pca = total(classifier, parameters, X_train_reduced_pca, y_train_reduced, X_val_reduced_pca, y_val_reduced)"
   ]
  },
  {
   "cell_type": "markdown",
   "metadata": {},
   "source": [
    "### Adaboost Tree Classifier"
   ]
  },
  {
   "cell_type": "code",
   "execution_count": 62,
   "metadata": {},
   "outputs": [
    {
     "name": "stdout",
     "output_type": "stream",
     "text": [
      "----------------------------------------\n",
      "Classificatore: AdaBoostClassifier(algorithm='SAMME',\n",
      "                   estimator=DecisionTreeClassifier(class_weight={np.int64(0): np.float64(0.5074554294975688),\n",
      "                                                                  np.int64(1): np.float64(1.1053839364518976),\n",
      "                                                                  np.int64(2): np.float64(0.7594906003638568),\n",
      "                                                                  np.int64(3): np.float64(1.5217496962332928),\n",
      "                                                                  np.int64(4): np.float64(6.626455026455027)},\n",
      "                                                    max_depth=7,\n",
      "                                                    min_samples_leaf=5,\n",
      "                                                    min_samples_split=17),\n",
      "                   learning_rate=1, n_estimators=11, random_state=2)\n",
      "Migliori Parametri: {'n_estimators': 10, 'estimator': DecisionTreeClassifier(class_weight={np.int64(0): np.float64(0.5074554294975688),\n",
      "                                     np.int64(1): np.float64(1.1053839364518976),\n",
      "                                     np.int64(2): np.float64(0.7594906003638568),\n",
      "                                     np.int64(3): np.float64(1.5217496962332928),\n",
      "                                     np.int64(4): np.float64(6.626455026455027)},\n",
      "                       max_depth=7, min_samples_leaf=5, min_samples_split=17), 'learning_rate': 0.6, 'random_state': 2, 'algorithm': 'SAMME'}\n",
      "----------------------------------------\n",
      "F1 Score (Train): 0.553\n",
      "F1 Score (Validation): 0.382\n",
      "Accuracy (Train): 0.552\n",
      "Accuracy (Validation): 0.376\n",
      "----------------------------------------\n"
     ]
    }
   ],
   "source": [
    "classifier = AdaBoostClassifier()\n",
    "base = DecisionTreeClassifier(criterion='gini', max_depth=7, min_samples_leaf=5, min_samples_split=17, class_weight=class_weights)\n",
    "\n",
    "parameters = {'n_estimators':[4,6,7,8,9,10,11],\n",
    "              'estimator':[base], \n",
    "              'learning_rate' :[0.5,0.6,0.7,0.8,0.9,1],\n",
    "              'random_state':[2],\n",
    "              'algorithm':['SAMME']}\n",
    "\n",
    "# Ricerca degli iperparametri e valutazione del modello sul dataset ridotto e trasformato con PCA (45 componenti principali)classifier = AdaBoostClassifier()\n",
    "best_model_AB_reduced_pca, best_param_AB_reduced_pca, f1_train_AB_reduced_pca, f1_val_AB_reduced_pca, accuracy_train_AB_reduced_pca, accuracy_val_AB_reduced_pca = total(classifier, parameters, X_train_reduced_pca, y_train_reduced, X_val_reduced_pca, y_val_reduced)"
   ]
  },
  {
   "cell_type": "markdown",
   "metadata": {},
   "source": [
    "### Support Vector Classifier"
   ]
  },
  {
   "cell_type": "code",
   "execution_count": 63,
   "metadata": {},
   "outputs": [
    {
     "name": "stdout",
     "output_type": "stream",
     "text": [
      "----------------------------------------\n",
      "Classificatore: SVC(C=1,\n",
      "    class_weight={np.int64(0): np.float64(0.5074554294975688),\n",
      "                  np.int64(1): np.float64(1.1053839364518976),\n",
      "                  np.int64(2): np.float64(0.7594906003638568),\n",
      "                  np.int64(3): np.float64(1.5217496962332928),\n",
      "                  np.int64(4): np.float64(6.626455026455027)},\n",
      "    probability=True)\n",
      "Migliori Parametri: {'kernel': 'rbf', 'C': 1, 'probability': True, 'class_weight': {np.int64(0): np.float64(0.5074554294975688), np.int64(1): np.float64(1.1053839364518976), np.int64(2): np.float64(0.7594906003638568), np.int64(3): np.float64(1.5217496962332928), np.int64(4): np.float64(6.626455026455027)}}\n",
      "----------------------------------------\n",
      "F1 Score (Train): 0.588\n",
      "F1 Score (Validation): 0.445\n",
      "Accuracy (Train): 0.586\n",
      "Accuracy (Validation): 0.440\n",
      "----------------------------------------\n"
     ]
    }
   ],
   "source": [
    "classifier = SVC()\n",
    "\n",
    "parameters = {\"kernel\":['rbf'],\n",
    "              \"C\":[0.01,0.1,1],\n",
    "              \"probability\":[True],\n",
    "              \"class_weight\":[class_weights]}\n",
    "\n",
    "# Ricerca degli iperparametri e valutazione del modello sul dataset ridotto e trasformato con PCA (45 componenti principali)\n",
    "best_model_SVC_reduced_pca, best_param_SVC_reduced_pca, f1_train_SVC_reduced_pca, f1_val_SVC_reduced_pca, accuracy_train_SVC_reduced_pca, accuracy_val_SVC_reduced_pca = total(classifier, parameters, X_train_reduced_pca, y_train_reduced, X_val_reduced_pca, y_val_reduced)"
   ]
  },
  {
   "cell_type": "markdown",
   "metadata": {},
   "source": [
    "## Risultati model fitting e validation con PCA\n",
    "\n",
    "I risultati ottenuti dai modelli con e senza PCA mostrano le seguenti differenze:\n",
    "\n",
    "- **Overfitting**: Con l'uso di PCA, l'overfitting è stato ridotto. Questo perché la PCA riduce la dimensionalità dei dati, eliminando il rumore e le feature irrilevanti, favorendo una generalizzazione migliore. Al contrario, senza PCA, il modello tende a soffrire maggiormente di overfitting, specialmente quando ci sono molte feature non utili.\n",
    "  \n",
    "- **Performance su Training**: Le performance sui dati di training sono peggiorate leggermente con la PCA, poiché la riduzione delle feature ha limitato la capacità del modello di adattarsi perfettamente ai dati di addestramento. Senza PCA, il modello riesce ad adattarsi meglio ai dati di training, ma a rischio di overfitting.\n",
    "\n",
    "- **Performance su Validation**: L'uso di PCA ha portato a un miglioramento delle performance sui dati di validazione e test. La riduzione della dimensionalità aiuta il modello a generalizzare meglio, riducendo l'overfitting e migliorando la capacità predittiva. Al contrario, senza PCA, le performance sui dati di validazione tendono a essere peggiori a causa dell'overfitting.\n",
    "\n",
    "\n",
    "- **Tempo di computazione**: L'applicazione della PCA riduce il tempo di computazione, poiché il modello lavora su un numero inferiore di feature. Senza PCA, il tempo di allenamento e predizione aumenta a causa della maggiore complessità computazionale derivante dal numero più elevato di feature.\n",
    "\n",
    "In generale, i risultati suggeriscono che l'uso della PCA contribuisce a una maggiore efficienza e stabilità del modello, migliorando la generalizzazione e riducendo il rischio di overfitting, anche se con una leggera perdita nelle performance sui dati di training.\n",
    "Essendo tale perdita minima si è deciso di utilizzare come features finali per il metodo hold-out, le prime 45 Principal Components calcolate in precedenza"
   ]
  },
  {
   "cell_type": "code",
   "execution_count": 64,
   "metadata": {},
   "outputs": [],
   "source": [
    "# Stampa dei risultati in un DataFrame per confrontare le performance del modello sul dataset ridotto e trasformato con PCA (45 componenti principali)\n",
    "results_reduced_pca = pd.DataFrame({\n",
    "    'Model': ['Random Forest PCA', 'Bagging PCA', 'AdaBoost PCA', 'SVC PCA'],\n",
    "    'F1 Score (Train)': [f1_train_RF_reduced_pca, f1_train_BC_reduced_pca, f1_train_AB_reduced_pca, f1_train_SVC_reduced_pca],\n",
    "    'F1 Score (Validation)': [f1_val_RF_reduced_pca, f1_val_BC_reduced_pca, f1_val_AB_reduced_pca, f1_val_SVC_reduced_pca],\n",
    "    'Accuracy (Train)': [accuracy_train_RF_reduced_pca, accuracy_train_BC_reduced_pca, accuracy_train_AB_reduced_pca, accuracy_train_SVC_reduced_pca],\n",
    "    'Accuracy (Validation)': [accuracy_val_RF_reduced_pca, accuracy_val_BC_reduced_pca, accuracy_val_AB_reduced_pca, accuracy_val_SVC_reduced_pca]\n",
    "})"
   ]
  },
  {
   "cell_type": "code",
   "execution_count": 65,
   "metadata": {},
   "outputs": [
    {
     "data": {
      "text/html": [
       "<div>\n",
       "<style scoped>\n",
       "    .dataframe tbody tr th:only-of-type {\n",
       "        vertical-align: middle;\n",
       "    }\n",
       "\n",
       "    .dataframe tbody tr th {\n",
       "        vertical-align: top;\n",
       "    }\n",
       "\n",
       "    .dataframe thead th {\n",
       "        text-align: right;\n",
       "    }\n",
       "</style>\n",
       "<table border=\"1\" class=\"dataframe\">\n",
       "  <thead>\n",
       "    <tr style=\"text-align: right;\">\n",
       "      <th></th>\n",
       "      <th>Model</th>\n",
       "      <th>F1 Score (Train)</th>\n",
       "      <th>F1 Score (Validation)</th>\n",
       "      <th>Accuracy (Train)</th>\n",
       "      <th>Accuracy (Validation)</th>\n",
       "    </tr>\n",
       "  </thead>\n",
       "  <tbody>\n",
       "    <tr>\n",
       "      <th>0</th>\n",
       "      <td>Random Forest</td>\n",
       "      <td>0.650984</td>\n",
       "      <td>0.427869</td>\n",
       "      <td>0.652986</td>\n",
       "      <td>0.433589</td>\n",
       "    </tr>\n",
       "    <tr>\n",
       "      <th>1</th>\n",
       "      <td>Bagging</td>\n",
       "      <td>0.476041</td>\n",
       "      <td>0.367868</td>\n",
       "      <td>0.480677</td>\n",
       "      <td>0.371009</td>\n",
       "    </tr>\n",
       "    <tr>\n",
       "      <th>2</th>\n",
       "      <td>AdaBoost</td>\n",
       "      <td>0.517564</td>\n",
       "      <td>0.409504</td>\n",
       "      <td>0.516768</td>\n",
       "      <td>0.404853</td>\n",
       "    </tr>\n",
       "    <tr>\n",
       "      <th>3</th>\n",
       "      <td>SVC</td>\n",
       "      <td>0.647544</td>\n",
       "      <td>0.456208</td>\n",
       "      <td>0.645161</td>\n",
       "      <td>0.450192</td>\n",
       "    </tr>\n",
       "    <tr>\n",
       "      <th>0</th>\n",
       "      <td>Random Forest PCA</td>\n",
       "      <td>0.645159</td>\n",
       "      <td>0.404137</td>\n",
       "      <td>0.646279</td>\n",
       "      <td>0.403576</td>\n",
       "    </tr>\n",
       "    <tr>\n",
       "      <th>1</th>\n",
       "      <td>Bagging PCA</td>\n",
       "      <td>0.467599</td>\n",
       "      <td>0.376344</td>\n",
       "      <td>0.467263</td>\n",
       "      <td>0.370370</td>\n",
       "    </tr>\n",
       "    <tr>\n",
       "      <th>2</th>\n",
       "      <td>AdaBoost PCA</td>\n",
       "      <td>0.553042</td>\n",
       "      <td>0.381915</td>\n",
       "      <td>0.551900</td>\n",
       "      <td>0.376117</td>\n",
       "    </tr>\n",
       "    <tr>\n",
       "      <th>3</th>\n",
       "      <td>SVC PCA</td>\n",
       "      <td>0.588196</td>\n",
       "      <td>0.444964</td>\n",
       "      <td>0.586075</td>\n",
       "      <td>0.439974</td>\n",
       "    </tr>\n",
       "  </tbody>\n",
       "</table>\n",
       "</div>"
      ],
      "text/plain": [
       "               Model  F1 Score (Train)  F1 Score (Validation)  \\\n",
       "0      Random Forest          0.650984               0.427869   \n",
       "1            Bagging          0.476041               0.367868   \n",
       "2           AdaBoost          0.517564               0.409504   \n",
       "3                SVC          0.647544               0.456208   \n",
       "0  Random Forest PCA          0.645159               0.404137   \n",
       "1        Bagging PCA          0.467599               0.376344   \n",
       "2       AdaBoost PCA          0.553042               0.381915   \n",
       "3            SVC PCA          0.588196               0.444964   \n",
       "\n",
       "   Accuracy (Train)  Accuracy (Validation)  \n",
       "0          0.652986               0.433589  \n",
       "1          0.480677               0.371009  \n",
       "2          0.516768               0.404853  \n",
       "3          0.645161               0.450192  \n",
       "0          0.646279               0.403576  \n",
       "1          0.467263               0.370370  \n",
       "2          0.551900               0.376117  \n",
       "3          0.586075               0.439974  "
      ]
     },
     "execution_count": 65,
     "metadata": {},
     "output_type": "execute_result"
    }
   ],
   "source": [
    "model_metrics = pd.concat([results_reduced, results_reduced_pca], axis=0)\n",
    "model_metrics"
   ]
  },
  {
   "cell_type": "markdown",
   "metadata": {},
   "source": [
    "## Testing\n",
    "Una volta applicata la PCA al dataset migliore, i modelli vengono testati per valutare le loro performance.\n",
    "Il **test set** non è mai stato utilizzato durante il processo di training o validazione, rendendolo uno strumento fondamentale per una valutazione obiettiva della capacità di generalizzazione dei modelli. Questo approccio garantisce che i risultati riflettano il comportamento dei modelli su dati completamente nuovi, simulando scenari reali di applicazione.\n",
    "\n",
    "Per ciascun modello testato sul dataset migliore con PCA, vengono presentati i seguenti risultati: \n",
    "- **Confusion Matrix**\n",
    "\n",
    "- **Metriche di Valutazione**:\n",
    "  - **F1 Score**\n",
    "  - **Accuracy**\n"
   ]
  },
  {
   "cell_type": "code",
   "execution_count": 66,
   "metadata": {},
   "outputs": [
    {
     "name": "stdout",
     "output_type": "stream",
     "text": [
      "Confusion Matrix: Random Forest PCA\n",
      "[[384 183 116  85   4]\n",
      " [147  77  77  48   5]\n",
      " [162  96 137 113   8]\n",
      " [ 44  22  59 106  26]\n",
      " [  1   1   5  28  24]]\n",
      "\n",
      "\n",
      "Confusion Matrix: Bagging PCA\n",
      "[[329 169 149 113  12]\n",
      " [101  91  92  67   3]\n",
      " [132 103 156 105  20]\n",
      " [ 32  39  49  98  39]\n",
      " [  1   1   1  28  28]]\n",
      "\n",
      "\n",
      "Confusion Matrix: AdaBoost PCA\n",
      "[[303 225 183  57   4]\n",
      " [124 105  90  34   1]\n",
      " [149 116 143  93  15]\n",
      " [ 40  38  62  91  26]\n",
      " [  2   2   6  28  21]]\n",
      "\n",
      "\n",
      "Confusion Matrix: SVC PCA\n",
      "[[410 204 122  34   2]\n",
      " [128 122  66  36   2]\n",
      " [132 104 179  95   6]\n",
      " [ 22  23  63 128  21]\n",
      " [  0   0   0  26  33]]\n",
      "\n",
      "\n"
     ]
    }
   ],
   "source": [
    "# Funzione per la creazione della confusion matrix (predicted sulle colonne, actual sulle righe)\n",
    "def print_confusion_matrix(model, X, y, title):\n",
    "    y_pred = model.predict(X)\n",
    "    cm = confusion_matrix(y, y_pred)\n",
    "    print(f'Confusion Matrix: {title}')\n",
    "    print(cm)\n",
    "    print('\\n') \n",
    "    \n",
    "# Stampa della confusion matrix per il modello Random Forest con PCA sul test set\n",
    "print_confusion_matrix(best_model_RF_reduced_pca, X_test_reduced_pca, y_test_reduced, 'Random Forest PCA')\n",
    "\n",
    "# Stampa della confusion matrix per il modello Bagging con PCA sul test set\n",
    "print_confusion_matrix(best_model_BC_reduced_pca, X_test_reduced_pca, y_test_reduced, 'Bagging PCA')\n",
    "\n",
    "# Stampa della confusion matrix per il modello AdaBoost con PCA sul test set\n",
    "print_confusion_matrix(best_model_AB_reduced_pca, X_test_reduced_pca, y_test_reduced, 'AdaBoost PCA')\n",
    "\n",
    "# Stampa della confusion matrix per il modello SVC con PCA sul test set\n",
    "print_confusion_matrix(best_model_SVC_reduced_pca, X_test_reduced_pca, y_test_reduced, 'SVC PCA')"
   ]
  },
  {
   "cell_type": "code",
   "execution_count": 67,
   "metadata": {},
   "outputs": [
    {
     "data": {
      "text/html": [
       "<div>\n",
       "<style scoped>\n",
       "    .dataframe tbody tr th:only-of-type {\n",
       "        vertical-align: middle;\n",
       "    }\n",
       "\n",
       "    .dataframe tbody tr th {\n",
       "        vertical-align: top;\n",
       "    }\n",
       "\n",
       "    .dataframe thead th {\n",
       "        text-align: right;\n",
       "    }\n",
       "</style>\n",
       "<table border=\"1\" class=\"dataframe\">\n",
       "  <thead>\n",
       "    <tr style=\"text-align: right;\">\n",
       "      <th></th>\n",
       "      <th>Model</th>\n",
       "      <th>F1 Score (Test)</th>\n",
       "      <th>Accuracy (Test)</th>\n",
       "    </tr>\n",
       "  </thead>\n",
       "  <tbody>\n",
       "    <tr>\n",
       "      <th>0</th>\n",
       "      <td>Random Forest PCA</td>\n",
       "      <td>0.373031</td>\n",
       "      <td>0.371808</td>\n",
       "    </tr>\n",
       "    <tr>\n",
       "      <th>1</th>\n",
       "      <td>Bagging PCA</td>\n",
       "      <td>0.367628</td>\n",
       "      <td>0.358529</td>\n",
       "    </tr>\n",
       "    <tr>\n",
       "      <th>2</th>\n",
       "      <td>AdaBoost PCA</td>\n",
       "      <td>0.345167</td>\n",
       "      <td>0.338611</td>\n",
       "    </tr>\n",
       "    <tr>\n",
       "      <th>3</th>\n",
       "      <td>SVC PCA</td>\n",
       "      <td>0.449740</td>\n",
       "      <td>0.445352</td>\n",
       "    </tr>\n",
       "  </tbody>\n",
       "</table>\n",
       "</div>"
      ],
      "text/plain": [
       "               Model  F1 Score (Test)  Accuracy (Test)\n",
       "0  Random Forest PCA         0.373031         0.371808\n",
       "1        Bagging PCA         0.367628         0.358529\n",
       "2       AdaBoost PCA         0.345167         0.338611\n",
       "3            SVC PCA         0.449740         0.445352"
      ]
     },
     "execution_count": 67,
     "metadata": {},
     "output_type": "execute_result"
    }
   ],
   "source": [
    "# Funzione per il test del modello\n",
    "def test_model(model, X, y):\n",
    "    y_pred = model.predict(X)\n",
    "    f1 = f1_score(y, y_pred, average='weighted')\n",
    "    accuracy = metrics.accuracy_score(y, y_pred)\n",
    "    return f1, accuracy\n",
    "\n",
    "# Test del modello Random Forest con PCA sul test set\n",
    "f1_test_RF_reduced_pca, accuracy_test_RF_reduced_pca = test_model(best_model_RF_reduced_pca, X_test_reduced_pca, y_test_reduced)\n",
    "\n",
    "# Test del modello Bagging con PCA sul test set\n",
    "f1_test_BC_reduced_pca, accuracy_test_BC_reduced_pca = test_model(best_model_BC_reduced_pca, X_test_reduced_pca, y_test_reduced)\n",
    "\n",
    "# Test del modello AdaBoost con PCA sul test set\n",
    "f1_test_AB_reduced_pca, accuracy_test_AB_reduced_pca = test_model(best_model_AB_reduced_pca, X_test_reduced_pca, y_test_reduced)\n",
    "\n",
    "# Test del modello SVC con PCA sul test set\n",
    "f1_test_SVC_reduced_pca, accuracy_test_SVC_reduced_pca = test_model(best_model_SVC_reduced_pca, X_test_reduced_pca, y_test_reduced)\n",
    "\n",
    "# Dataframe con le metriche di test per i modelli\n",
    "results_test = pd.DataFrame({\n",
    "    'Model': ['Random Forest PCA', 'Bagging PCA', 'AdaBoost PCA', 'SVC PCA'],\n",
    "    'F1 Score (Test)': [f1_test_RF_reduced_pca, f1_test_BC_reduced_pca, f1_test_AB_reduced_pca, f1_test_SVC_reduced_pca],\n",
    "    'Accuracy (Test)': [accuracy_test_RF_reduced_pca, accuracy_test_BC_reduced_pca, accuracy_test_AB_reduced_pca, accuracy_test_SVC_reduced_pca]\n",
    "})\n",
    "\n",
    "results_test"
   ]
  },
  {
   "cell_type": "code",
   "execution_count": 68,
   "metadata": {},
   "outputs": [
    {
     "name": "stdout",
     "output_type": "stream",
     "text": [
      "Shape di X_train_reduced_pca:\n",
      "(6262, 45)\n",
      "Shape di X_val_reduced_pca:\n",
      "(1566, 45)\n",
      "Shape di X_test_reduced_pca:\n",
      "(1958, 45)\n"
     ]
    }
   ],
   "source": [
    "# Stampa delle shape di X_train, X_val e X_test ridotte e trasformate con PCA\n",
    "print('Shape di X_train_reduced_pca:')\n",
    "print(X_train_reduced_pca.shape)\n",
    "\n",
    "print('Shape di X_val_reduced_pca:')\n",
    "print(X_val_reduced_pca.shape)\n",
    "\n",
    "print('Shape di X_test_reduced_pca:')\n",
    "print(X_test_reduced_pca.shape)"
   ]
  }
 ],
 "metadata": {
  "kernelspec": {
   "display_name": "Python 3",
   "language": "python",
   "name": "python3"
  },
  "language_info": {
   "codemirror_mode": {
    "name": "ipython",
    "version": 3
   },
   "file_extension": ".py",
   "mimetype": "text/x-python",
   "name": "python",
   "nbconvert_exporter": "python",
   "pygments_lexer": "ipython3",
   "version": "3.12.7"
  }
 },
 "nbformat": 4,
 "nbformat_minor": 2
}
