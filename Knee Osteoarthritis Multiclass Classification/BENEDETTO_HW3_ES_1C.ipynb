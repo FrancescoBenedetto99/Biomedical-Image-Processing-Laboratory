{
 "cells": [
  {
   "cell_type": "markdown",
   "metadata": {},
   "source": [
    "# Implementazione con Cross-Validation Stratificata\n",
    "\n",
    "In questa sezione, il dataset viene suddiviso in due parti principali: \n",
    "\n",
    "1. **Training Set (80%)**: Utilizzato per addestrare e validare i modelli. All'interno di questo set, viene applicata una **Stratified 3-Fold Cross-Validation**, che garantisce che ogni fold mantenga la stessa distribuzione delle classi del dataset originale. Questo approccio consente di valutare le performance del modello in maniera più robusta, riducendo la dipendenza dalla specifica divisione del training set.\n",
    "\n",
    "2. **Test Set (20%)**: Separato dal processo di training e validazione, questo set rimane completamente indipendente ed è utilizzato solo per il test finale dei modelli, garantendo una valutazione imparziale delle loro performance. "
   ]
  },
  {
   "cell_type": "markdown",
   "metadata": {},
   "source": [
    "## Importazione librerie"
   ]
  },
  {
   "cell_type": "code",
   "execution_count": 1,
   "metadata": {},
   "outputs": [],
   "source": [
    "# Importazione delle librerie necessarie\n",
    "import warnings\n",
    "warnings.filterwarnings(\"ignore\")  # Disattivazione di tutti gli avvisi (WARNING)\n",
    "\n",
    "# Librerie principali per la gestione dei dati e la visualizzazione\n",
    "import numpy as np                  \n",
    "import pandas as pd                 \n",
    "import matplotlib.pyplot as plt    \n",
    "import seaborn as sns    \n",
    "\n",
    "# Librerie per preprocessing, modellazione e metriche\n",
    "from sklearn.preprocessing import StandardScaler  \n",
    "from sklearn.utils import class_weight          \n",
    "from sklearn.decomposition import PCA            \n",
    "from sklearn.model_selection import train_test_split, GridSearchCV  \n",
    "from sklearn.model_selection import StratifiedKFold\n",
    "from sklearn import metrics                     \n",
    "from sklearn.metrics import (confusion_matrix,  \n",
    "                             f1_score)          \n",
    "\n",
    "# Impostazione dei colori per i grafici utilizzando la colormap \"viridis\"\n",
    "colors = plt.cm.viridis([0.1, 0.3, 0.5, 0.7, 0.9])  # 5 colori diversi (5 classi) equidistanti"
   ]
  },
  {
   "cell_type": "markdown",
   "metadata": {},
   "source": [
    "## Caricamento Dataframes"
   ]
  },
  {
   "cell_type": "code",
   "execution_count": 2,
   "metadata": {},
   "outputs": [],
   "source": [
    "# Caricamento dei file CSV contenenti le caratteristiche calcolate\n",
    "statistical_df = pd.read_csv(\"statistical_features.csv\")  \n",
    "texture_df = pd.read_csv(\"texture_features.csv\")          \n",
    "edge_df = pd.read_csv(\"edge_features.csv\")                \n",
    "physiological_df = pd.read_csv(\"physiological_features.csv\")  \n",
    "\n",
    "# Merge dei DataFrame\n",
    "# Concatenazione dei DataFrame lungo l'asse delle colonne (axis=1)\n",
    "# Viene mantenuta una sola colonna \"label\"\n",
    "all_df = pd.concat([statistical_df, texture_df, edge_df, physiological_df], axis=1)\n",
    "\n",
    "# Rimozione delle colonne duplicate (più colonne \"label\")\n",
    "all_df = all_df.loc[:, ~all_df.columns.duplicated()]  # Selezione solo delle colonne univoche"
   ]
  },
  {
   "cell_type": "markdown",
   "metadata": {},
   "source": [
    "## Prima Riduzione delle Feature\n",
    "\n",
    "Dallo script precedente è emerso che la migliore combinazione di feature è quella che utilizza **tutte le tipologie di feature** (statistical, texture, edge, physiological), ma **escludendo le patch non rilevanti**. Questa configurazione comprende **127 feature**, dimostratesi efficaci per il task di classificazione.\n",
    "\n",
    "In questo script si utilizza esclusivamente questa configurazione di feature per tutte le analisi successive, evitando ulteriori combinazioni di feature che non hanno mostrato miglioramenti significativi nelle performance."
   ]
  },
  {
   "cell_type": "code",
   "execution_count": 3,
   "metadata": {},
   "outputs": [],
   "source": [
    "# Eliminazione delle feature calcolate su patch che non contengono la giunzione del ginocchio.\n",
    "# Si mantengono solo le feature che contengono nel nome i numeri 5, 6, 8, 9, 10, 11 e la colonna \"label\".\n",
    "\n",
    "# Filtraggio delle feature rilevanti dai DataFrame\n",
    "statistical_df_reduced = statistical_df.filter(regex=r'(5$|6$|8$|9$|10$|11$|label)')  \n",
    "texture_df_reduced = texture_df.filter(regex=r'(5$|6$|8$|9$|10$|11$|label)')        \n",
    "edge_df_reduced = edge_df.filter(regex=r'(5$|6$|8$|9$|10$|11$|label)')               \n",
    "\n",
    "# Rimozione delle feature non necessarie (non filtrate precedentemente con la regex)\n",
    "# Feature statistiche\n",
    "statistical_df_reduced = statistical_df_reduced.drop(\n",
    "    columns=['mean_patch_15', 'variance_patch_15', 'skewness_patch_15', 'kurtosis_patch_15']\n",
    ")\n",
    "\n",
    "# Feature testurali\n",
    "texture_df_reduced = texture_df_reduced.drop(\n",
    "    columns=['contrast_patch_15', 'dissimilarity_patch_15', 'homogeneity_patch_15',\n",
    "             'energy_patch_15', 'correlation_patch_15',\n",
    "             'lbp_hist_0_patch_15', 'lbp_hist_1_patch_15', 'lbp_hist_2_patch_15',\n",
    "             'lbp_hist_3_patch_15', 'lbp_hist_4_patch_15', 'lbp_hist_5_patch_15',\n",
    "             'lbp_hist_6_patch_15', 'lbp_hist_7_patch_15', 'lbp_hist_8_patch_15']\n",
    ")\n",
    "\n",
    "# Feature relative ai bordi\n",
    "edge_df_reduced = edge_df_reduced.drop(\n",
    "    columns=['mean_gradient_15', 'edge_density15']\n",
    ")\n",
    "\n",
    "# Unione dei DataFrame ridotti\n",
    "# Concatenazione di tutte le feature filtrate e delle feature fisiologiche\n",
    "all_df_reduced = pd.concat([statistical_df_reduced, texture_df_reduced, edge_df_reduced, physiological_df], axis=1)\n",
    "\n",
    "# Rimozione delle colonne duplicate (più colonne \"label\")\n",
    "all_df_reduced = all_df_reduced.loc[:, ~all_df_reduced.columns.duplicated()]  # Selezione solo delle colonne univoche"
   ]
  },
  {
   "cell_type": "markdown",
   "metadata": {},
   "source": [
    "## Split Training Set e Test Set\n",
    "\n",
    "Il dataset viene inizialmente suddiviso in **80% training set** e **20% test set**.  \n",
    "La suddivisione del test set consente di ottenere un **set indipendente e imparziale** per la valutazione finale delle performance del modello.  \n",
    "\n",
    "Successivamente, il **training set** verrà utilizzato per eseguire una **3-fold cross-validation stratificata**."
   ]
  },
  {
   "cell_type": "code",
   "execution_count": 4,
   "metadata": {},
   "outputs": [],
   "source": [
    "X = all_df_reduced.drop(columns=['label'])\n",
    "y = all_df_reduced['label']\n",
    "\n",
    "# Divisione in training e test set\n",
    "X_train_reduced, X_test_reduced, y_train_reduced, y_test_reduced = train_test_split(X, y, test_size=0.2, random_state=42, stratify=y)\n",
    "\n",
    "# Standardizzazione: calcola la media e la deviazione standard solo sul training set\n",
    "scaler = StandardScaler()\n",
    "X_train_reduced = scaler.fit_transform(X_train_reduced)\n",
    "X_test_reduced = scaler.transform(X_test_reduced)"
   ]
  },
  {
   "cell_type": "markdown",
   "metadata": {},
   "source": [
    "## Class unbalance"
   ]
  },
  {
   "cell_type": "code",
   "execution_count": 5,
   "metadata": {},
   "outputs": [
    {
     "data": {
      "image/png": "[encoded data removed]",
      "text/plain": [
       "<Figure size 640x480 with 1 Axes>"
      ]
     },
     "metadata": {},
     "output_type": "display_data"
    },
    {
     "name": "stdout",
     "output_type": "stream",
     "text": [
      "Pesi delle classi:\n",
      "{0: 0.5074878444084279, 1: 1.1056497175141242, 2: 0.759262851600388, 3: 1.5214771622934888, 4: 6.633898305084746}\n"
     ]
    }
   ],
   "source": [
    "# Calcolo dei pesi per le classi utilizzando la funzione compute_class_weight\n",
    "# I pesi vengono calcolati in modo bilanciato per tener conto delle classi sbilanciate (considerando solo il training set)\n",
    "class_weights = class_weight.compute_class_weight(class_weight='balanced',\n",
    "                                                  classes=np.unique(y_train_reduced),  # Classi uniche presenti nel training set\n",
    "                                                  y=y_train_reduced)                   # Etichette del training set\n",
    "\n",
    "# Converto i pesi calcolati in un dizionario che associa ogni classe al suo peso\n",
    "class_weights = dict(zip(np.unique(y_train_reduced), class_weights))\n",
    "\n",
    "# Visualizzazione dei pesi in un barplot\n",
    "plt.bar(class_weights.keys(), class_weights.values(), color=colors)  \n",
    "plt.xlabel('Classe')  \n",
    "plt.ylabel('Peso')   \n",
    "plt.title('Pesi delle classi') \n",
    "plt.show()  \n",
    "\n",
    "# Stampa i pesi delle classi\n",
    "print(\"Pesi delle classi:\")\n",
    "# Converto i valori numpy (np.float64) in float e le chiavi numpy (np.int64) in int\n",
    "# Per rendere la stampa più leggibile\n",
    "print({int(k): float(v) for k, v in class_weights.items()})"
   ]
  },
  {
   "cell_type": "markdown",
   "metadata": {},
   "source": [
    "## Model Fitting and Validation senza PCA\n",
    "\n",
    "Per la valutazione dei modelli, si utilizza la **3-fold cross-validation stratificata** sul training set. La stratificazione garantisce che la distribuzione delle classi venga preservata in ciascun fold. Ogni modello viene allenato e validato **3 volte** (per ognuna delle quali si utilizzano 2 fold per training e uno per validation)per ciascuna combinazione di iperparametri, e i risultati riportati rappresentano la **media delle metriche** (F1-score e accuratezza) calcolate sulle tre volte.  \n",
    "\n",
    "La suddivisione in fold assicura che ogni istanza del dataset venga utilizzata almeno una volta sia come parte del training set che come parte del validation set, riducendo il rischio di overfitting agli specifici dati di training di un singolo split. Infine, viene scelto il modello con il **miglior F1-score** sulla validation tra tutte le combinazioni di iperparametri."
   ]
  },
  {
   "cell_type": "code",
   "execution_count": 6,
   "metadata": {},
   "outputs": [],
   "source": [
    "def hyperp_search(classifier, parameters, X_train, y_train):\n",
    "    # Definizione di StratifiedKFold per gestire gli split\n",
    "    cv = StratifiedKFold(n_splits=3, shuffle=True, random_state=42)\n",
    "    \n",
    "    # GridSearchCV con StratifiedKFold\n",
    "    gs = GridSearchCV(classifier, parameters, cv=cv, scoring='f1_weighted', verbose=0, n_jobs=-1)\n",
    "    gs.fit(X_train, y_train)\n",
    "    \n",
    "    # Miglior modello e parametri\n",
    "    best_model = gs.best_estimator_\n",
    "    best_param = gs.best_params_\n",
    "    \n",
    "    # F1-score medio dalla cross-validation\n",
    "    f1_mean = gs.best_score_  # f1_weighted medio calcolato sui 3 fold\n",
    "    \n",
    "    # Inizializza le liste per tenere traccia degli F1 score e accuracy per train e val\n",
    "    f1_train_scores = []\n",
    "    accuracy_train_scores = []\n",
    "    accuracy_val_scores = []\n",
    "    f1_val_scores = []\n",
    "    \n",
    "    for train_idx, val_idx in cv.split(X_train, y_train):  # Usa StratifiedKFold per gli split\n",
    "        X_train = pd.DataFrame(X_train) # Necessario per utilizzare .iloc\n",
    "        y_train = pd.Series(y_train)    # Necessario per utilizzare .iloc\n",
    "        X_train_fold, X_val_fold = X_train.iloc[train_idx], X_train.iloc[val_idx]\n",
    "        y_train_fold, y_val_fold = y_train.iloc[train_idx], y_train.iloc[val_idx]\n",
    "        \n",
    "        # Allena il modello sul fold corrente con i migliori parametri\n",
    "        classifier.set_params(**best_param)\n",
    "        classifier.fit(X_train_fold, y_train_fold)\n",
    "        \n",
    "        # Predice sui dati di training e di validazione del fold\n",
    "        y_train_pred = classifier.predict(X_train_fold)\n",
    "        y_val_pred = classifier.predict(X_val_fold)\n",
    "        \n",
    "        # Calcola l'F1 score e l'accuratezza per il training set del fold\n",
    "        f1_train_scores.append(metrics.f1_score(y_train_fold, y_train_pred, average='weighted'))\n",
    "        accuracy_train_scores.append(metrics.accuracy_score(y_train_fold, y_train_pred))\n",
    "        \n",
    "        # Calcola l'F1 score e l'accuratezza per il validation set del fold\n",
    "        f1_val_scores.append(metrics.f1_score(y_val_fold, y_val_pred, average='weighted'))\n",
    "        accuracy_val_scores.append(metrics.accuracy_score(y_val_fold, y_val_pred))\n",
    "    \n",
    "    # Calcola la media di F1 e accuracy per il training e il validation set\n",
    "    f1_train_mean = sum(f1_train_scores) / len(f1_train_scores)\n",
    "    accuracy_train_mean = sum(accuracy_train_scores) / len(accuracy_train_scores)\n",
    "    f1_val_mean = sum(f1_val_scores) / len(f1_val_scores)\n",
    "    accuracy_val_mean = sum(accuracy_val_scores) / len(accuracy_val_scores)\n",
    "    \n",
    "    # Output dei risultati\n",
    "    print(f\"{'-'*40}\")\n",
    "    print(f\"Classifier: {classifier}\")\n",
    "    print(f\"Best Parameters: {best_param}\")\n",
    "    print(f\"{'-'*40}\")\n",
    "    print(f\"F1 Score (Training Mean): {f1_train_mean:.3f}\")\n",
    "    print(f\"Accuracy (Training Mean): {accuracy_train_mean:.3f}\")\n",
    "    print(f\"F1 Score (Validation Mean): {f1_val_mean:.3f}\")\n",
    "    print(f\"Accuracy (Validation Mean): {accuracy_val_mean:.3f}\")\n",
    "    print(f\"{'-'*40}\")\n",
    "\n",
    "    return best_model, best_param, f1_train_mean, accuracy_train_mean, f1_val_mean, accuracy_val_mean\n",
    "\n",
    "# Funzione di valutazione totale\n",
    "def total(classifier, parameters, X_train, y_train):\n",
    "    best_model, best_param, f1_train_mean, accuracy_train_mean, f1_val_mean, accuracy_val_mean = hyperp_search(classifier, parameters, X_train, y_train)\n",
    "    return best_model, best_param, f1_train_mean, accuracy_train_mean, f1_val_mean, accuracy_val_mean"
   ]
  },
  {
   "cell_type": "markdown",
   "metadata": {},
   "source": [
    "### Random Forest"
   ]
  },
  {
   "cell_type": "code",
   "execution_count": 7,
   "metadata": {},
   "outputs": [
    {
     "name": "stdout",
     "output_type": "stream",
     "text": [
      "----------------------------------------\n",
      "Classifier: RandomForestClassifier(class_weight={np.int64(0): np.float64(0.5074878444084279),\n",
      "                                     np.int64(1): np.float64(1.1056497175141242),\n",
      "                                     np.int64(2): np.float64(0.759262851600388),\n",
      "                                     np.int64(3): np.float64(1.5214771622934888),\n",
      "                                     np.int64(4): np.float64(6.633898305084746)},\n",
      "                       max_depth=10, min_samples_leaf=4, n_estimators=21)\n",
      "Best Parameters: {'class_weight': {np.int64(0): np.float64(0.5074878444084279), np.int64(1): np.float64(1.1056497175141242), np.int64(2): np.float64(0.759262851600388), np.int64(3): np.float64(1.5214771622934888), np.int64(4): np.float64(6.633898305084746)}, 'criterion': 'gini', 'max_depth': 10, 'min_samples_leaf': 4, 'min_samples_split': 2, 'n_estimators': 21}\n",
      "----------------------------------------\n",
      "F1 Score (Training Mean): 0.743\n",
      "Accuracy (Training Mean): 0.744\n",
      "F1 Score (Validation Mean): 0.409\n",
      "Accuracy (Validation Mean): 0.411\n",
      "----------------------------------------\n"
     ]
    }
   ],
   "source": [
    "from sklearn.ensemble import RandomForestClassifier\n",
    "\n",
    "classifier = RandomForestClassifier()\n",
    "\n",
    "parameters = {'n_estimators' : [19,20,21,22,23],\n",
    "    'criterion' : ['gini'],\n",
    "             'max_depth' : [4,5,6,7,8,9,10], \n",
    "             'min_samples_split' : [2,3,4],\n",
    "              'min_samples_leaf' : [4,5,6],\n",
    "              'class_weight': [class_weights]\n",
    "             }\n",
    "\n",
    "# Ricerca degli iperparametri e cross-validation\n",
    "best_model_RF, best_param_RF, f1_train_mean_RF, accuracy_train_mean_RF, f1_val_mean_RF, accuracy_val_mean_RF = total(classifier, parameters, X_train_reduced, y_train_reduced)"
   ]
  },
  {
   "cell_type": "markdown",
   "metadata": {},
   "source": [
    "### Bagging Tree Classifier"
   ]
  },
  {
   "cell_type": "code",
   "execution_count": 8,
   "metadata": {},
   "outputs": [
    {
     "name": "stdout",
     "output_type": "stream",
     "text": [
      "----------------------------------------\n",
      "Classifier: BaggingClassifier(estimator=DecisionTreeClassifier(class_weight={np.int64(0): np.float64(0.5074878444084279),\n",
      "                                                                 np.int64(1): np.float64(1.1056497175141242),\n",
      "                                                                 np.int64(2): np.float64(0.759262851600388),\n",
      "                                                                 np.int64(3): np.float64(1.5214771622934888),\n",
      "                                                                 np.int64(4): np.float64(6.633898305084746)},\n",
      "                                                   max_depth=7,\n",
      "                                                   min_samples_leaf=5,\n",
      "                                                   min_samples_split=17),\n",
      "                  n_estimators=8, random_state=2)\n",
      "Best Parameters: {'estimator': DecisionTreeClassifier(class_weight={np.int64(0): np.float64(0.5074878444084279),\n",
      "                                     np.int64(1): np.float64(1.1056497175141242),\n",
      "                                     np.int64(2): np.float64(0.759262851600388),\n",
      "                                     np.int64(3): np.float64(1.5214771622934888),\n",
      "                                     np.int64(4): np.float64(6.633898305084746)},\n",
      "                       max_depth=7, min_samples_leaf=5, min_samples_split=17), 'n_estimators': 8, 'random_state': 2}\n",
      "----------------------------------------\n",
      "F1 Score (Training Mean): 0.484\n",
      "Accuracy (Training Mean): 0.496\n",
      "F1 Score (Validation Mean): 0.378\n",
      "Accuracy (Validation Mean): 0.389\n",
      "----------------------------------------\n"
     ]
    }
   ],
   "source": [
    "from sklearn.ensemble import BaggingClassifier\n",
    "from sklearn.tree import DecisionTreeClassifier\n",
    "\n",
    "\n",
    "classifier = BaggingClassifier()\n",
    "base = DecisionTreeClassifier(criterion='gini', max_depth=7, min_samples_leaf=5, min_samples_split=17, class_weight=class_weights)\n",
    "\n",
    "parameters = {'n_estimators':[4,5,6,7,8,9],\n",
    "              'estimator':[base],\n",
    "              'random_state':[2]}\n",
    "\n",
    "# Ricerca degli iperparametri e cross-validation\n",
    "best_model_BC, best_param_BC, f1_train_mean_BC, accuracy_train_mean_BC, f1_val_mean_BC, accuracy_val_mean_BC = total(classifier, parameters, X_train_reduced, y_train_reduced)"
   ]
  },
  {
   "cell_type": "markdown",
   "metadata": {},
   "source": [
    "### Adaboost Tree Classifier"
   ]
  },
  {
   "cell_type": "code",
   "execution_count": 9,
   "metadata": {},
   "outputs": [
    {
     "name": "stdout",
     "output_type": "stream",
     "text": [
      "----------------------------------------\n",
      "Classifier: AdaBoostClassifier(algorithm='SAMME',\n",
      "                   estimator=DecisionTreeClassifier(class_weight={np.int64(0): np.float64(0.5074878444084279),\n",
      "                                                                  np.int64(1): np.float64(1.1056497175141242),\n",
      "                                                                  np.int64(2): np.float64(0.759262851600388),\n",
      "                                                                  np.int64(3): np.float64(1.5214771622934888),\n",
      "                                                                  np.int64(4): np.float64(6.633898305084746)},\n",
      "                                                    max_depth=7,\n",
      "                                                    min_samples_leaf=5,\n",
      "                                                    min_samples_split=17),\n",
      "                   learning_rate=0.8, n_estimators=11, random_state=2)\n",
      "Best Parameters: {'algorithm': 'SAMME', 'estimator': DecisionTreeClassifier(class_weight={np.int64(0): np.float64(0.5074878444084279),\n",
      "                                     np.int64(1): np.float64(1.1056497175141242),\n",
      "                                     np.int64(2): np.float64(0.759262851600388),\n",
      "                                     np.int64(3): np.float64(1.5214771622934888),\n",
      "                                     np.int64(4): np.float64(6.633898305084746)},\n",
      "                       max_depth=7, min_samples_leaf=5, min_samples_split=17), 'learning_rate': 0.8, 'n_estimators': 11, 'random_state': 2}\n",
      "----------------------------------------\n",
      "F1 Score (Training Mean): 0.594\n",
      "Accuracy (Training Mean): 0.594\n",
      "F1 Score (Validation Mean): 0.393\n",
      "Accuracy (Validation Mean): 0.392\n",
      "----------------------------------------\n"
     ]
    }
   ],
   "source": [
    "from sklearn.ensemble import AdaBoostClassifier\n",
    "\n",
    "classifier = AdaBoostClassifier()\n",
    "base = DecisionTreeClassifier(criterion='gini', max_depth=7, min_samples_leaf=5, min_samples_split=17, class_weight=class_weights)\n",
    "\n",
    "parameters = {'n_estimators':[4,6,7,8,9,10,11],\n",
    "              'estimator':[base], \n",
    "              'learning_rate' :[0.5,0.6,0.7,0.8,0.9,1],\n",
    "              'random_state':[2],\n",
    "              'algorithm':['SAMME']}\n",
    "\n",
    "# Ricerca degli iperparametri e cross-validation\n",
    "best_model_AB, best_param_AB, f1_train_mean_AB, accuracy_train_mean_AB, f1_val_mean_AB, accuracy_val_mean_AB = total(classifier, parameters, X_train_reduced, y_train_reduced)"
   ]
  },
  {
   "cell_type": "markdown",
   "metadata": {},
   "source": [
    "### Support Vector Classifier"
   ]
  },
  {
   "cell_type": "code",
   "execution_count": 10,
   "metadata": {},
   "outputs": [
    {
     "name": "stdout",
     "output_type": "stream",
     "text": [
      "----------------------------------------\n",
      "Classifier: SVC(C=1,\n",
      "    class_weight={np.int64(0): np.float64(0.5074878444084279),\n",
      "                  np.int64(1): np.float64(1.1056497175141242),\n",
      "                  np.int64(2): np.float64(0.759262851600388),\n",
      "                  np.int64(3): np.float64(1.5214771622934888),\n",
      "                  np.int64(4): np.float64(6.633898305084746)},\n",
      "    probability=True)\n",
      "Best Parameters: {'C': 1, 'class_weight': {np.int64(0): np.float64(0.5074878444084279), np.int64(1): np.float64(1.1056497175141242), np.int64(2): np.float64(0.759262851600388), np.int64(3): np.float64(1.5214771622934888), np.int64(4): np.float64(6.633898305084746)}, 'kernel': 'rbf', 'probability': True}\n",
      "----------------------------------------\n",
      "F1 Score (Training Mean): 0.644\n",
      "Accuracy (Training Mean): 0.642\n",
      "F1 Score (Validation Mean): 0.448\n",
      "Accuracy (Validation Mean): 0.442\n",
      "----------------------------------------\n"
     ]
    }
   ],
   "source": [
    "from sklearn.svm import SVC\n",
    "\n",
    "classifier = SVC()\n",
    "\n",
    "parameters = {\"kernel\":['rbf'],\n",
    "              \"C\":[0.01,0.1,1],\n",
    "              \"probability\":[True],\n",
    "              \"class_weight\":[class_weights]}\n",
    "\n",
    "# Ricerca degli iperparametri e cross-validation\n",
    "best_model_SVC, best_param_SVC, f1_train_mean_SVC, accuracy_train_mean_SVC, f1_val_mean_SVC, accuracy_val_mean_SVC = total(classifier, parameters, X_train_reduced, y_train_reduced)"
   ]
  },
  {
   "cell_type": "markdown",
   "metadata": {},
   "source": [
    "## Risultati Model fitting and validation senza PCA\n"
   ]
  },
  {
   "cell_type": "code",
   "execution_count": 11,
   "metadata": {},
   "outputs": [
    {
     "data": {
      "text/html": [
       "<div>\n",
       "<style scoped>\n",
       "    .dataframe tbody tr th:only-of-type {\n",
       "        vertical-align: middle;\n",
       "    }\n",
       "\n",
       "    .dataframe tbody tr th {\n",
       "        vertical-align: top;\n",
       "    }\n",
       "\n",
       "    .dataframe thead th {\n",
       "        text-align: right;\n",
       "    }\n",
       "</style>\n",
       "<table border=\"1\" class=\"dataframe\">\n",
       "  <thead>\n",
       "    <tr style=\"text-align: right;\">\n",
       "      <th></th>\n",
       "      <th>Model</th>\n",
       "      <th>Mean F1 Score (Training)</th>\n",
       "      <th>Mean F1 Score (Validation)</th>\n",
       "      <th>Mean Accuracy (Training)</th>\n",
       "      <th>Mean Accuracy (Validation)</th>\n",
       "    </tr>\n",
       "  </thead>\n",
       "  <tbody>\n",
       "    <tr>\n",
       "      <th>0</th>\n",
       "      <td>Random Forest</td>\n",
       "      <td>0.743338</td>\n",
       "      <td>0.408534</td>\n",
       "      <td>0.743741</td>\n",
       "      <td>0.410830</td>\n",
       "    </tr>\n",
       "    <tr>\n",
       "      <th>1</th>\n",
       "      <td>Bagging</td>\n",
       "      <td>0.484498</td>\n",
       "      <td>0.378420</td>\n",
       "      <td>0.496487</td>\n",
       "      <td>0.388603</td>\n",
       "    </tr>\n",
       "    <tr>\n",
       "      <th>2</th>\n",
       "      <td>AdaBoost</td>\n",
       "      <td>0.593919</td>\n",
       "      <td>0.392692</td>\n",
       "      <td>0.593511</td>\n",
       "      <td>0.391543</td>\n",
       "    </tr>\n",
       "    <tr>\n",
       "      <th>3</th>\n",
       "      <td>SVM</td>\n",
       "      <td>0.643884</td>\n",
       "      <td>0.447769</td>\n",
       "      <td>0.642118</td>\n",
       "      <td>0.442002</td>\n",
       "    </tr>\n",
       "  </tbody>\n",
       "</table>\n",
       "</div>"
      ],
      "text/plain": [
       "           Model  Mean F1 Score (Training)  Mean F1 Score (Validation)  \\\n",
       "0  Random Forest                  0.743338                    0.408534   \n",
       "1        Bagging                  0.484498                    0.378420   \n",
       "2       AdaBoost                  0.593919                    0.392692   \n",
       "3            SVM                  0.643884                    0.447769   \n",
       "\n",
       "   Mean Accuracy (Training)  Mean Accuracy (Validation)  \n",
       "0                  0.743741                    0.410830  \n",
       "1                  0.496487                    0.388603  \n",
       "2                  0.593511                    0.391543  \n",
       "3                  0.642118                    0.442002  "
      ]
     },
     "execution_count": 11,
     "metadata": {},
     "output_type": "execute_result"
    }
   ],
   "source": [
    "# Dataframe con modelli sulle righe e metriche sulle colonne per confrontare i modelli sul training set e sul validation set con le feature ridotte\n",
    "models_metrics_df = pd.DataFrame({\n",
    "    'Model': ['Random Forest', 'Bagging', 'AdaBoost', 'SVM'],\n",
    "    'Mean F1 Score (Training)': [f1_train_mean_RF, f1_train_mean_BC, f1_train_mean_AB, f1_train_mean_SVC],\n",
    "    'Mean F1 Score (Validation)': [f1_val_mean_RF, f1_val_mean_BC, f1_val_mean_AB, f1_val_mean_SVC],\n",
    "    'Mean Accuracy (Training)': [accuracy_train_mean_RF, accuracy_train_mean_BC, accuracy_train_mean_AB, accuracy_train_mean_SVC],\n",
    "    'Mean Accuracy (Validation)': [accuracy_val_mean_RF, accuracy_val_mean_BC, accuracy_val_mean_AB, accuracy_val_mean_SVC]    \n",
    "})\n",
    "\n",
    "models_metrics_df"
   ]
  },
  {
   "cell_type": "markdown",
   "metadata": {},
   "source": [
    "## Seconda Riduzione delle Feature: PCA\n",
    "\n",
    "Da questo punto in poi, tutte le analisi e i processi seguiranno lo stesso schema dello script precedente. Tuttavia, in questo caso, verrà utilizzata la **stratified cross-validation** per la valutazione dei modelli, anziché il metodo hold-out.  "
   ]
  },
  {
   "cell_type": "code",
   "execution_count": 12,
   "metadata": {},
   "outputs": [
    {
     "data": {
      "image/png": "[encoded data removed]",
      "text/plain": [
       "<Figure size 640x480 with 1 Axes>"
      ]
     },
     "metadata": {},
     "output_type": "display_data"
    }
   ],
   "source": [
    "pca = PCA() \n",
    "X_train_reduced_pca = pca.fit_transform(X_train_reduced)\n",
    "X_test_reduced_pca = pca.transform(X_test_reduced)\n",
    "\n",
    "# Stampa della varianza spiegata per ogni componente principale\n",
    "explained_variance_ratio = pca.explained_variance_ratio_\n",
    "cumulative_variance_ratio = np.cumsum(explained_variance_ratio)\n",
    "\n",
    "# Plot della varianza spiegata cumulativa\n",
    "plt.bar(range(len(cumulative_variance_ratio)), cumulative_variance_ratio, color=colors)\n",
    "plt.xlabel('Numero di componenti principali')\n",
    "plt.ylabel('Varianza spiegata cumulativa')\n",
    "plt.title('Varianza spiegata cumulativa vs Numero di componenti principali')\n",
    "plt.show()"
   ]
  },
  {
   "cell_type": "code",
   "execution_count": 13,
   "metadata": {},
   "outputs": [
    {
     "name": "stdout",
     "output_type": "stream",
     "text": [
      "Varianza spiegata dalle prime 45 componenti: 0.92\n",
      "Shape di X_train_reduced_pca:\n",
      "(7828, 45)\n",
      "Shape di X_test_reduced_pca:\n",
      "(1958, 45)\n"
     ]
    }
   ],
   "source": [
    "# Usare solo le prime 45 componenti principali\n",
    "pca = PCA(n_components=45)\n",
    "X_train_reduced_pca = pca.fit_transform(X_train_reduced)\n",
    "X_test_reduced_pca = pca.transform(X_test_reduced)\n",
    "\n",
    "explained_variance_45 = np.sum(pca.explained_variance_ratio_)\n",
    "print(f\"Varianza spiegata dalle prime 45 componenti: {explained_variance_45:.2f}\")\n",
    "\n",
    "# Stampa delle shape di X_train, X_val e X_test ridotte e trasformate con PCA\n",
    "print('Shape di X_train_reduced_pca:')\n",
    "print(X_train_reduced_pca.shape)\n",
    "\n",
    "print('Shape di X_test_reduced_pca:')\n",
    "print(X_test_reduced_pca.shape)"
   ]
  },
  {
   "cell_type": "markdown",
   "metadata": {},
   "source": [
    "## Model fitting and validation con PCA"
   ]
  },
  {
   "cell_type": "markdown",
   "metadata": {},
   "source": [
    "### Ranfom Forest"
   ]
  },
  {
   "cell_type": "code",
   "execution_count": 14,
   "metadata": {},
   "outputs": [
    {
     "name": "stdout",
     "output_type": "stream",
     "text": [
      "----------------------------------------\n",
      "Classifier: RandomForestClassifier(class_weight={np.int64(0): np.float64(0.5074878444084279),\n",
      "                                     np.int64(1): np.float64(1.1056497175141242),\n",
      "                                     np.int64(2): np.float64(0.759262851600388),\n",
      "                                     np.int64(3): np.float64(1.5214771622934888),\n",
      "                                     np.int64(4): np.float64(6.633898305084746)},\n",
      "                       max_depth=10, min_samples_leaf=6, min_samples_split=4,\n",
      "                       n_estimators=21)\n",
      "Best Parameters: {'class_weight': {np.int64(0): np.float64(0.5074878444084279), np.int64(1): np.float64(1.1056497175141242), np.int64(2): np.float64(0.759262851600388), np.int64(3): np.float64(1.5214771622934888), np.int64(4): np.float64(6.633898305084746)}, 'criterion': 'gini', 'max_depth': 10, 'min_samples_leaf': 6, 'min_samples_split': 4, 'n_estimators': 21}\n",
      "----------------------------------------\n",
      "F1 Score (Training Mean): 0.706\n",
      "Accuracy (Training Mean): 0.707\n",
      "F1 Score (Validation Mean): 0.379\n",
      "Accuracy (Validation Mean): 0.379\n",
      "----------------------------------------\n"
     ]
    }
   ],
   "source": [
    "classifier = RandomForestClassifier()\n",
    "\n",
    "parameters = {'n_estimators' : [19,20,21,22,23],\n",
    "    'criterion' : ['gini'],\n",
    "             'max_depth' : [4,5,6,7,8,9,10], \n",
    "             'min_samples_split' : [2,3,4],\n",
    "              'min_samples_leaf' : [4,5,6],\n",
    "              'class_weight': [class_weights]\n",
    "             }\n",
    "\n",
    "# Ricerca degli iperparametri e valutazione del modello sul dataset trasformato con PCA (45 componenti principali)\n",
    "best_model_RF_pca, best_param_RF_pca, f1_train_mean_RF_pca, accuracy_train_mean_RF_pca, f1_val_mean_RF_pca, accuracy_val_mean_RF_pca = total(classifier, parameters, X_train_reduced_pca, y_train_reduced)"
   ]
  },
  {
   "cell_type": "markdown",
   "metadata": {},
   "source": [
    "### Bagging Tree Classifier"
   ]
  },
  {
   "cell_type": "code",
   "execution_count": 15,
   "metadata": {},
   "outputs": [
    {
     "name": "stdout",
     "output_type": "stream",
     "text": [
      "----------------------------------------\n",
      "Classifier: BaggingClassifier(estimator=DecisionTreeClassifier(class_weight={np.int64(0): np.float64(0.5074878444084279),\n",
      "                                                                 np.int64(1): np.float64(1.1056497175141242),\n",
      "                                                                 np.int64(2): np.float64(0.759262851600388),\n",
      "                                                                 np.int64(3): np.float64(1.5214771622934888),\n",
      "                                                                 np.int64(4): np.float64(6.633898305084746)},\n",
      "                                                   max_depth=7,\n",
      "                                                   min_samples_leaf=5,\n",
      "                                                   min_samples_split=17),\n",
      "                  n_estimators=9, random_state=2)\n",
      "Best Parameters: {'estimator': DecisionTreeClassifier(class_weight={np.int64(0): np.float64(0.5074878444084279),\n",
      "                                     np.int64(1): np.float64(1.1056497175141242),\n",
      "                                     np.int64(2): np.float64(0.759262851600388),\n",
      "                                     np.int64(3): np.float64(1.5214771622934888),\n",
      "                                     np.int64(4): np.float64(6.633898305084746)},\n",
      "                       max_depth=7, min_samples_leaf=5, min_samples_split=17), 'n_estimators': 9, 'random_state': 2}\n",
      "----------------------------------------\n",
      "F1 Score (Training Mean): 0.502\n",
      "Accuracy (Training Mean): 0.505\n",
      "F1 Score (Validation Mean): 0.353\n",
      "Accuracy (Validation Mean): 0.351\n",
      "----------------------------------------\n"
     ]
    }
   ],
   "source": [
    "from sklearn.ensemble import BaggingClassifier\n",
    "from sklearn.tree import DecisionTreeClassifier\n",
    "\n",
    "\n",
    "classifier = BaggingClassifier()\n",
    "base = DecisionTreeClassifier(criterion='gini', max_depth=7, min_samples_leaf=5, min_samples_split=17, class_weight=class_weights)\n",
    "\n",
    "parameters = {'n_estimators':[4,5,6,7,8,9],\n",
    "              'estimator':[base],\n",
    "              'random_state':[2]}\n",
    "\n",
    "# Ricerca degli iperparametri e valutazione del modello sul dataset trasformato con PCA (45 componenti principali)\n",
    "best_model_BC_pca, best_param_BC_pca, f1_train_mean_BC_pca, accuracy_train_mean_BC_pca, f1_val_mean_BC_pca, accuracy_val_mean_BC_pca = total(classifier, parameters, X_train_reduced_pca, y_train_reduced)"
   ]
  },
  {
   "cell_type": "markdown",
   "metadata": {},
   "source": [
    "### Adaboost Tree Classifier"
   ]
  },
  {
   "cell_type": "code",
   "execution_count": 16,
   "metadata": {},
   "outputs": [
    {
     "name": "stdout",
     "output_type": "stream",
     "text": [
      "----------------------------------------\n",
      "Classifier: AdaBoostClassifier(algorithm='SAMME',\n",
      "                   estimator=DecisionTreeClassifier(class_weight={np.int64(0): np.float64(0.5074878444084279),\n",
      "                                                                  np.int64(1): np.float64(1.1056497175141242),\n",
      "                                                                  np.int64(2): np.float64(0.759262851600388),\n",
      "                                                                  np.int64(3): np.float64(1.5214771622934888),\n",
      "                                                                  np.int64(4): np.float64(6.633898305084746)},\n",
      "                                                    max_depth=7,\n",
      "                                                    min_samples_leaf=5,\n",
      "                                                    min_samples_split=17),\n",
      "                   learning_rate=0.6, n_estimators=11, random_state=2)\n",
      "Best Parameters: {'algorithm': 'SAMME', 'estimator': DecisionTreeClassifier(class_weight={np.int64(0): np.float64(0.5074878444084279),\n",
      "                                     np.int64(1): np.float64(1.1056497175141242),\n",
      "                                     np.int64(2): np.float64(0.759262851600388),\n",
      "                                     np.int64(3): np.float64(1.5214771622934888),\n",
      "                                     np.int64(4): np.float64(6.633898305084746)},\n",
      "                       max_depth=7, min_samples_leaf=5, min_samples_split=17), 'learning_rate': 0.6, 'n_estimators': 11, 'random_state': 2}\n",
      "----------------------------------------\n",
      "F1 Score (Training Mean): 0.561\n",
      "Accuracy (Training Mean): 0.560\n",
      "F1 Score (Validation Mean): 0.368\n",
      "Accuracy (Validation Mean): 0.364\n",
      "----------------------------------------\n"
     ]
    }
   ],
   "source": [
    "from sklearn.ensemble import AdaBoostClassifier\n",
    "\n",
    "classifier = AdaBoostClassifier()\n",
    "base = DecisionTreeClassifier(criterion='gini', max_depth=7, min_samples_leaf=5, min_samples_split=17, class_weight=class_weights)\n",
    "\n",
    "parameters = {'n_estimators':[4,6,7,8,9,10,11],\n",
    "              'estimator':[base], \n",
    "              'learning_rate' :[0.5,0.6,0.7,0.8,0.9,1],\n",
    "              'random_state':[2],\n",
    "              'algorithm':['SAMME']}\n",
    "\n",
    "# Ricerca degli iperparametri e valutazione del modello sul dataset trasformato con PCA (45 componenti principali)\n",
    "best_model_AB_pca, best_param_AB_pca, f1_train_mean_AB_pca, accuracy_train_mean_AB_pca, f1_val_mean_AB_pca, accuracy_val_mean_AB_pca = total(classifier, parameters, X_train_reduced_pca, y_train_reduced)"
   ]
  },
  {
   "cell_type": "markdown",
   "metadata": {},
   "source": [
    "### Support Vector Classifier"
   ]
  },
  {
   "cell_type": "code",
   "execution_count": 17,
   "metadata": {},
   "outputs": [
    {
     "name": "stdout",
     "output_type": "stream",
     "text": [
      "----------------------------------------\n",
      "Classifier: SVC(C=1,\n",
      "    class_weight={np.int64(0): np.float64(0.5074878444084279),\n",
      "                  np.int64(1): np.float64(1.1056497175141242),\n",
      "                  np.int64(2): np.float64(0.759262851600388),\n",
      "                  np.int64(3): np.float64(1.5214771622934888),\n",
      "                  np.int64(4): np.float64(6.633898305084746)},\n",
      "    probability=True)\n",
      "Best Parameters: {'C': 1, 'class_weight': {np.int64(0): np.float64(0.5074878444084279), np.int64(1): np.float64(1.1056497175141242), np.int64(2): np.float64(0.759262851600388), np.int64(3): np.float64(1.5214771622934888), np.int64(4): np.float64(6.633898305084746)}, 'kernel': 'rbf', 'probability': True}\n",
      "----------------------------------------\n",
      "F1 Score (Training Mean): 0.592\n",
      "Accuracy (Training Mean): 0.590\n",
      "F1 Score (Validation Mean): 0.431\n",
      "Accuracy (Validation Mean): 0.425\n",
      "----------------------------------------\n"
     ]
    }
   ],
   "source": [
    "from sklearn.svm import SVC\n",
    "\n",
    "classifier = SVC()\n",
    "\n",
    "parameters = {\"kernel\":['rbf'],\n",
    "              \"C\":[0.01,0.1,1],\n",
    "              \"probability\":[True],\n",
    "              \"class_weight\":[class_weights]}\n",
    "\n",
    "# Ricerca degli iperparametri e valutazione del modello sul dataset trasformato con PCA (45 componenti principali)\n",
    "best_model_SVC_pca, best_param_SVC_pca, f1_train_mean_SVC_pca, accuracy_train_mean_SVC_pca, f1_val_mean_SVC_pca, accuracy_val_mean_SVC_pca = total(classifier, parameters, X_train_reduced_pca, y_train_reduced)"
   ]
  },
  {
   "cell_type": "markdown",
   "metadata": {},
   "source": [
    "## Risultati Model Fitting and Validation con PCA\n",
    "\n",
    "Anche in questo caso (utilizzando un diverso split), i risultati mostrano che l'utilizzo della PCA non comporta cambiamenti significativi nelle performance complessive dei modelli.\n",
    "\n",
    "Dato che la PCA riduce la dimensionalità del dataset migliorando l'efficienza computazionale e garantendo una maggiore stabilità nelle metriche, si decide di adottarla come metodo definitivo per la selezione delle feature in questo script."
   ]
  },
  {
   "cell_type": "code",
   "execution_count": 18,
   "metadata": {},
   "outputs": [
    {
     "data": {
      "text/html": [
       "<div>\n",
       "<style scoped>\n",
       "    .dataframe tbody tr th:only-of-type {\n",
       "        vertical-align: middle;\n",
       "    }\n",
       "\n",
       "    .dataframe tbody tr th {\n",
       "        vertical-align: top;\n",
       "    }\n",
       "\n",
       "    .dataframe thead th {\n",
       "        text-align: right;\n",
       "    }\n",
       "</style>\n",
       "<table border=\"1\" class=\"dataframe\">\n",
       "  <thead>\n",
       "    <tr style=\"text-align: right;\">\n",
       "      <th></th>\n",
       "      <th>Model</th>\n",
       "      <th>Mean F1 Score (Training)</th>\n",
       "      <th>Mean F1 Score (Validation)</th>\n",
       "      <th>Mean Accuracy (Training)</th>\n",
       "      <th>Mean Accuracy (Validation)</th>\n",
       "    </tr>\n",
       "  </thead>\n",
       "  <tbody>\n",
       "    <tr>\n",
       "      <th>0</th>\n",
       "      <td>Random Forest_PCA</td>\n",
       "      <td>0.706314</td>\n",
       "      <td>0.378920</td>\n",
       "      <td>0.706886</td>\n",
       "      <td>0.378512</td>\n",
       "    </tr>\n",
       "    <tr>\n",
       "      <th>1</th>\n",
       "      <td>Bagging_PCA</td>\n",
       "      <td>0.502471</td>\n",
       "      <td>0.353421</td>\n",
       "      <td>0.504599</td>\n",
       "      <td>0.350536</td>\n",
       "    </tr>\n",
       "    <tr>\n",
       "      <th>2</th>\n",
       "      <td>AdaBoost_PCA</td>\n",
       "      <td>0.561129</td>\n",
       "      <td>0.368440</td>\n",
       "      <td>0.560105</td>\n",
       "      <td>0.364077</td>\n",
       "    </tr>\n",
       "    <tr>\n",
       "      <th>3</th>\n",
       "      <td>SVM_PCA</td>\n",
       "      <td>0.592041</td>\n",
       "      <td>0.431405</td>\n",
       "      <td>0.589869</td>\n",
       "      <td>0.425140</td>\n",
       "    </tr>\n",
       "  </tbody>\n",
       "</table>\n",
       "</div>"
      ],
      "text/plain": [
       "               Model  Mean F1 Score (Training)  Mean F1 Score (Validation)  \\\n",
       "0  Random Forest_PCA                  0.706314                    0.378920   \n",
       "1        Bagging_PCA                  0.502471                    0.353421   \n",
       "2       AdaBoost_PCA                  0.561129                    0.368440   \n",
       "3            SVM_PCA                  0.592041                    0.431405   \n",
       "\n",
       "   Mean Accuracy (Training)  Mean Accuracy (Validation)  \n",
       "0                  0.706886                    0.378512  \n",
       "1                  0.504599                    0.350536  \n",
       "2                  0.560105                    0.364077  \n",
       "3                  0.589869                    0.425140  "
      ]
     },
     "execution_count": 18,
     "metadata": {},
     "output_type": "execute_result"
    }
   ],
   "source": [
    "# Dataframe con modelli sulle righe e metriche sulle colonne per confrontare i modelli sul training set e sul validation set con la PCA (45 componenti principali)\n",
    "models_metrics_pca_df = pd.DataFrame({\n",
    "    'Model': ['Random Forest_PCA', 'Bagging_PCA', 'AdaBoost_PCA', 'SVM_PCA'],\n",
    "    'Mean F1 Score (Training)': [f1_train_mean_RF_pca, f1_train_mean_BC_pca, f1_train_mean_AB_pca, f1_train_mean_SVC_pca],\n",
    "    'Mean F1 Score (Validation)': [f1_val_mean_RF_pca, f1_val_mean_BC_pca, f1_val_mean_AB_pca, f1_val_mean_SVC_pca],\n",
    "    'Mean Accuracy (Training)': [accuracy_train_mean_RF_pca, accuracy_train_mean_BC_pca, accuracy_train_mean_AB_pca, accuracy_train_mean_SVC_pca],\n",
    "    'Mean Accuracy (Validation)': [accuracy_val_mean_RF_pca, accuracy_val_mean_BC_pca, accuracy_val_mean_AB_pca, accuracy_val_mean_SVC_pca]    \n",
    "})\n",
    "\n",
    "models_metrics_pca_df\n"
   ]
  },
  {
   "cell_type": "code",
   "execution_count": 19,
   "metadata": {},
   "outputs": [
    {
     "data": {
      "text/html": [
       "<div>\n",
       "<style scoped>\n",
       "    .dataframe tbody tr th:only-of-type {\n",
       "        vertical-align: middle;\n",
       "    }\n",
       "\n",
       "    .dataframe tbody tr th {\n",
       "        vertical-align: top;\n",
       "    }\n",
       "\n",
       "    .dataframe thead th {\n",
       "        text-align: right;\n",
       "    }\n",
       "</style>\n",
       "<table border=\"1\" class=\"dataframe\">\n",
       "  <thead>\n",
       "    <tr style=\"text-align: right;\">\n",
       "      <th></th>\n",
       "      <th>Model</th>\n",
       "      <th>Mean F1 Score (Training)</th>\n",
       "      <th>Mean F1 Score (Validation)</th>\n",
       "      <th>Mean Accuracy (Training)</th>\n",
       "      <th>Mean Accuracy (Validation)</th>\n",
       "    </tr>\n",
       "  </thead>\n",
       "  <tbody>\n",
       "    <tr>\n",
       "      <th>0</th>\n",
       "      <td>Random Forest</td>\n",
       "      <td>0.743338</td>\n",
       "      <td>0.408534</td>\n",
       "      <td>0.743741</td>\n",
       "      <td>0.410830</td>\n",
       "    </tr>\n",
       "    <tr>\n",
       "      <th>1</th>\n",
       "      <td>Bagging</td>\n",
       "      <td>0.484498</td>\n",
       "      <td>0.378420</td>\n",
       "      <td>0.496487</td>\n",
       "      <td>0.388603</td>\n",
       "    </tr>\n",
       "    <tr>\n",
       "      <th>2</th>\n",
       "      <td>AdaBoost</td>\n",
       "      <td>0.593919</td>\n",
       "      <td>0.392692</td>\n",
       "      <td>0.593511</td>\n",
       "      <td>0.391543</td>\n",
       "    </tr>\n",
       "    <tr>\n",
       "      <th>3</th>\n",
       "      <td>SVM</td>\n",
       "      <td>0.643884</td>\n",
       "      <td>0.447769</td>\n",
       "      <td>0.642118</td>\n",
       "      <td>0.442002</td>\n",
       "    </tr>\n",
       "    <tr>\n",
       "      <th>0</th>\n",
       "      <td>Random Forest_PCA</td>\n",
       "      <td>0.706314</td>\n",
       "      <td>0.378920</td>\n",
       "      <td>0.706886</td>\n",
       "      <td>0.378512</td>\n",
       "    </tr>\n",
       "    <tr>\n",
       "      <th>1</th>\n",
       "      <td>Bagging_PCA</td>\n",
       "      <td>0.502471</td>\n",
       "      <td>0.353421</td>\n",
       "      <td>0.504599</td>\n",
       "      <td>0.350536</td>\n",
       "    </tr>\n",
       "    <tr>\n",
       "      <th>2</th>\n",
       "      <td>AdaBoost_PCA</td>\n",
       "      <td>0.561129</td>\n",
       "      <td>0.368440</td>\n",
       "      <td>0.560105</td>\n",
       "      <td>0.364077</td>\n",
       "    </tr>\n",
       "    <tr>\n",
       "      <th>3</th>\n",
       "      <td>SVM_PCA</td>\n",
       "      <td>0.592041</td>\n",
       "      <td>0.431405</td>\n",
       "      <td>0.589869</td>\n",
       "      <td>0.425140</td>\n",
       "    </tr>\n",
       "  </tbody>\n",
       "</table>\n",
       "</div>"
      ],
      "text/plain": [
       "               Model  Mean F1 Score (Training)  Mean F1 Score (Validation)  \\\n",
       "0      Random Forest                  0.743338                    0.408534   \n",
       "1            Bagging                  0.484498                    0.378420   \n",
       "2           AdaBoost                  0.593919                    0.392692   \n",
       "3                SVM                  0.643884                    0.447769   \n",
       "0  Random Forest_PCA                  0.706314                    0.378920   \n",
       "1        Bagging_PCA                  0.502471                    0.353421   \n",
       "2       AdaBoost_PCA                  0.561129                    0.368440   \n",
       "3            SVM_PCA                  0.592041                    0.431405   \n",
       "\n",
       "   Mean Accuracy (Training)  Mean Accuracy (Validation)  \n",
       "0                  0.743741                    0.410830  \n",
       "1                  0.496487                    0.388603  \n",
       "2                  0.593511                    0.391543  \n",
       "3                  0.642118                    0.442002  \n",
       "0                  0.706886                    0.378512  \n",
       "1                  0.504599                    0.350536  \n",
       "2                  0.560105                    0.364077  \n",
       "3                  0.589869                    0.425140  "
      ]
     },
     "execution_count": 19,
     "metadata": {},
     "output_type": "execute_result"
    }
   ],
   "source": [
    "models_metrics_df = pd.concat([models_metrics_df, models_metrics_pca_df], axis=0)\n",
    "\n",
    "models_metrics_df"
   ]
  },
  {
   "cell_type": "markdown",
   "metadata": {},
   "source": [
    "## Testing\n",
    "\n",
    "In questa fase, i migliori modelli selezionati per ogni classificatore (Random Forest, Bagging Classifier, AdaBoost e SVC) vengono testati sul test set.\n",
    "\n",
    "Utilizzando lo **stratified cross-validation** durante la fase di training e validazione, si è osservato un minore rischio di overfitting rispetto all'approccio basato sull'hold-out. Questo è dovuto al fatto che ogni istanza nel dataset è stata utilizzata sia per il training che per la validazione in modo equilibrato e ripetuto.\n",
    "\n",
    "I risultati ottenuti sul test set sono rimasti simili rispetto all'approccio nello script precedente, ma si è arrivati alla conclusione che i migliori modelli sono quelli allenati utilizzando le **45 principali componenti** ottenute tramite PCA e validati con **stratified cross-validation**. Questo approccio ha dimostrato di mantenere prestazioni medie e di ridurre il rischio di overfitting, risultando quindi la soluzione preferibile per l'allenamento e la validazione del modello."
   ]
  },
  {
   "cell_type": "code",
   "execution_count": 20,
   "metadata": {},
   "outputs": [
    {
     "name": "stdout",
     "output_type": "stream",
     "text": [
      "Confusion Matrix: Random Forest PCA\n",
      "[[370 193 137  68   4]\n",
      " [138  78  82  53   3]\n",
      " [151 109 145  99  12]\n",
      " [ 31  35  54 121  16]\n",
      " [  1   1   5  27  25]]\n",
      "\n",
      "\n",
      "Confusion Matrix: Bagging PCA\n",
      "[[332 193 122 115  10]\n",
      " [109 108  66  66   5]\n",
      " [129 129 126 112  20]\n",
      " [ 29  32  50 106  40]\n",
      " [  1   1   4  19  34]]\n",
      "\n",
      "\n",
      "Confusion Matrix: AdaBoost PCA\n",
      "[[295 176 252  46   3]\n",
      " [110  90 118  33   3]\n",
      " [109 109 209  79  10]\n",
      " [ 30  25  83  94  25]\n",
      " [  1   3   8  20  27]]\n",
      "\n",
      "\n",
      "Confusion Matrix: SVC PCA\n",
      "[[406 212 111  41   2]\n",
      " [126 115  74  38   1]\n",
      " [122 112 185  93   4]\n",
      " [ 21  25  67 120  24]\n",
      " [  1   0   0  23  35]]\n",
      "\n",
      "\n"
     ]
    }
   ],
   "source": [
    "# Funzione per la creazione della confusion matrix (predicted sulle colonne, actual sulle righe)\n",
    "def print_confusion_matrix(model, X, y, title):\n",
    "    y_pred = model.predict(X)\n",
    "    cm = confusion_matrix(y, y_pred)\n",
    "    print(f'Confusion Matrix: {title}')\n",
    "    print(cm)\n",
    "    print('\\n') \n",
    "    \n",
    "# Stampa della confusion matrix per il modello Random Forest con PCA sul test set\n",
    "print_confusion_matrix(best_model_RF_pca, X_test_reduced_pca, y_test_reduced, 'Random Forest PCA')\n",
    "\n",
    "# Stampa della confusion matrix per il modello Bagging con PCA sul test set\n",
    "print_confusion_matrix(best_model_BC_pca, X_test_reduced_pca, y_test_reduced, 'Bagging PCA')\n",
    "\n",
    "# Stampa della confusion matrix per il modello AdaBoost con PCA sul test set\n",
    "print_confusion_matrix(best_model_AB_pca, X_test_reduced_pca, y_test_reduced, 'AdaBoost PCA')\n",
    "\n",
    "# Stampa della confusion matrix per il modello SVC con PCA sul test set\n",
    "print_confusion_matrix(best_model_SVC_pca, X_test_reduced_pca, y_test_reduced, 'SVC PCA')"
   ]
  },
  {
   "cell_type": "code",
   "execution_count": 22,
   "metadata": {},
   "outputs": [
    {
     "data": {
      "text/html": [
       "<div>\n",
       "<style scoped>\n",
       "    .dataframe tbody tr th:only-of-type {\n",
       "        vertical-align: middle;\n",
       "    }\n",
       "\n",
       "    .dataframe tbody tr th {\n",
       "        vertical-align: top;\n",
       "    }\n",
       "\n",
       "    .dataframe thead th {\n",
       "        text-align: right;\n",
       "    }\n",
       "</style>\n",
       "<table border=\"1\" class=\"dataframe\">\n",
       "  <thead>\n",
       "    <tr style=\"text-align: right;\">\n",
       "      <th></th>\n",
       "      <th>Model</th>\n",
       "      <th>F1 Score (Test)</th>\n",
       "      <th>Accuracy (Test)</th>\n",
       "    </tr>\n",
       "  </thead>\n",
       "  <tbody>\n",
       "    <tr>\n",
       "      <th>0</th>\n",
       "      <td>Random Forest_PCA</td>\n",
       "      <td>0.380933</td>\n",
       "      <td>0.377426</td>\n",
       "    </tr>\n",
       "    <tr>\n",
       "      <th>1</th>\n",
       "      <td>Bagging_PCA</td>\n",
       "      <td>0.367163</td>\n",
       "      <td>0.360572</td>\n",
       "    </tr>\n",
       "    <tr>\n",
       "      <th>2</th>\n",
       "      <td>AdaBoost_PCA</td>\n",
       "      <td>0.371963</td>\n",
       "      <td>0.365169</td>\n",
       "    </tr>\n",
       "    <tr>\n",
       "      <th>3</th>\n",
       "      <td>SVM_PCA</td>\n",
       "      <td>0.446200</td>\n",
       "      <td>0.439734</td>\n",
       "    </tr>\n",
       "  </tbody>\n",
       "</table>\n",
       "</div>"
      ],
      "text/plain": [
       "               Model  F1 Score (Test)  Accuracy (Test)\n",
       "0  Random Forest_PCA         0.380933         0.377426\n",
       "1        Bagging_PCA         0.367163         0.360572\n",
       "2       AdaBoost_PCA         0.371963         0.365169\n",
       "3            SVM_PCA         0.446200         0.439734"
      ]
     },
     "execution_count": 22,
     "metadata": {},
     "output_type": "execute_result"
    }
   ],
   "source": [
    "# funzione per il test del modello\n",
    "def test_model(model, X, y):\n",
    "    y_pred = model.predict(X)\n",
    "    f1 = f1_score(y, y_pred, average='weighted')\n",
    "    accuracy = metrics.accuracy_score(y, y_pred)\n",
    "    return f1, accuracy\n",
    "\n",
    "# Test del modello Random Forest con PCA sul test set\n",
    "f1_test_RF_pca, accuracy_test_RF_pca = test_model(best_model_RF_pca, X_test_reduced_pca, y_test_reduced)\n",
    "\n",
    "# Test del modello Bagging con PCA sul test set\n",
    "f1_test_BC_pca, accuracy_test_BC_pca = test_model(best_model_BC_pca, X_test_reduced_pca, y_test_reduced)\n",
    "\n",
    "# Test del modello AdaBoost con PCA sul test set\n",
    "f1_test_AB_pca, accuracy_test_AB_pca = test_model(best_model_AB_pca, X_test_reduced_pca, y_test_reduced)\n",
    "\n",
    "# Test del modello SVC con PCA sul test set\n",
    "f1_test_SVC_pca, accuracy_test_SVC_pca = test_model(best_model_SVC_pca, X_test_reduced_pca, y_test_reduced)\n",
    "\n",
    "# Dataframe con i risultati del test sui modelli con PCA (45 componenti principali)\n",
    "models_test_pca_df = pd.DataFrame({\n",
    "    'Model': ['Random Forest_PCA', 'Bagging_PCA', 'AdaBoost_PCA', 'SVM_PCA'],\n",
    "    'F1 Score (Test)': [f1_test_RF_pca, f1_test_BC_pca, f1_test_AB_pca, f1_test_SVC_pca],\n",
    "    'Accuracy (Test)': [accuracy_test_RF_pca, accuracy_test_BC_pca, accuracy_test_AB_pca, accuracy_test_SVC_pca]\n",
    "})\n",
    "\n",
    "models_test_pca_df"
   ]
  }
 ],
 "metadata": {
  "kernelspec": {
   "display_name": "Python 3",
   "language": "python",
   "name": "python3"
  },
  "language_info": {
   "codemirror_mode": {
    "name": "ipython",
    "version": 3
   },
   "file_extension": ".py",
   "mimetype": "text/x-python",
   "name": "python",
   "nbconvert_exporter": "python",
   "pygments_lexer": "ipython3",
   "version": "3.12.7"
  }
 },
 "nbformat": 4,
 "nbformat_minor": 2
}
